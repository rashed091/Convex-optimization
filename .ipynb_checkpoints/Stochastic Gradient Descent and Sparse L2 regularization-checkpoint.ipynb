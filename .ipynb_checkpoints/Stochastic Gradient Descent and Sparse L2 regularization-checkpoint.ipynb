{
 "cells": [
  {
   "cell_type": "markdown",
   "metadata": {},
   "source": [
    " <p>Suppose you’re doing some typical supervised learning on a gigantic dataset where the total loss over all samples for parameter <mathjax>$w$</mathjax> is simply the sum of the losses of each sample <mathjax>$i$</mathjax>, i.e.,</p>\n",
    "<p><mathjax>$$\n",
    "  L(w) = \\sum_{i} l(x_i, y_i, w)\n",
    "$$</mathjax></p>\n",
    "<p>Basically any loss function you can think of in the i.i.d sample regime can be composed this way. Since we assumed that your dataset was huge, there's no way you’re going to be able to load it all into memory for BFGS, so you choose to use Stochastic Gradient Descent. The update for sample <mathjax>$i$</mathjax> with step size <mathjax>$\\eta_t$</mathjax> would then be,</p>\n",
    "<p><mathjax>$$\n",
    "  w_{t+1} = w_t - \\eta_t \\nabla_w l(x_i, y_i, w_t)\n",
    "$$</mathjax></p>\n",
    "<p>So far, so good. If <mathjax>$\\nabla_w l(x_i, y_i, w)$</mathjax> is sparse, then you only need to change a handful of <mathjax>$w$</mathjax>'s components. Of course, being the astute Machine Learning expert that you are, you know that you’re going to need some regularization. Let's redefine the total loss and take a look at our new update equation,</p>\n",
    "<p><mathjax>$$\n",
    "\\begin{aligned}\n",
    "  L(w) &amp; = \\sum_{i} l(x_i, y_i, w) + \\frac{\\lambda}{2}||w||_2^2  \\\\\n",
    "  w_{t+1} &amp; = w_t - \\eta_t \\left( \\nabla_w l(x_i, y_i, w_t) + \\lambda w_t \\right)\n",
    "\\end{aligned}\n",
    "$$</mathjax></p>\n",
    "<p>Uh oh. Now that <mathjax>$w$</mathjax> appears in our Stochastic Gradient Descent update equation, you’re going to have change every non-zero element of <mathjax>$w$</mathjax> at every iteration, even if <mathjax>$\\nabla_w l(x_i, y_i, w)$</mathjax> is sparse! Whatever shall you do?</p>\n",
    "<p>The answer isn't as scary as you might think. Let’s do some algebraic manipulation from <mathjax>$t = 0$</mathjax>,</p>\n",
    "<p><mathjax>$$\n",
    "\\begin{aligned}\n",
    "  w_{1}\n",
    "  &amp; = w_0 - \\eta_0 \\left( \\nabla_w l(x_i, y_i, w_0) + \\lambda w_0 \\right) \\\\\n",
    "  &amp; = w_0 - \\eta_0 \\nabla_w l(x_i, y_i, w_0) - \\eta_0 \\lambda w_0 \\\\\n",
    "  &amp; = (1 - \\eta_0 \\lambda ) w_0 - \\eta_0 \\nabla_w l(x_i, y_i, w_0) \\\\\n",
    "  &amp; = (1 - \\eta_0 \\lambda ) \\left(\n",
    "      w_0 - \\frac{\\eta_0}{1-\\eta_0 \\lambda } \\nabla_w l(x_i, y_i, w_0)\n",
    "    \\right) \\\\\n",
    "\\end{aligned}\n",
    "$$</mathjax></p>\n",
    "<p>Do you see it now? <mathjax>$L_2$</mathjax> regularization is really just a rescaling of <mathjax>$w_t$</mathjax> at every iteration. Thus instead of keeping <mathjax>$w_t$</mathjax>, let’s keep track of,</p>\n",
    "<p><mathjax>$$\n",
    "\\begin{aligned}\n",
    "  c_t &amp; = \\prod_{\\tau=0}^t (1-\\eta_{\\tau} \\lambda )  \\\\\n",
    "  \\bar{w}_t &amp; = \\frac{w_t}{c_t}\n",
    "\\end{aligned}\n",
    "$$</mathjax></p>\n",
    "<p>where you update <mathjax>$\\bar{w}_t$</mathjax> and <mathjax>$c_t$</mathjax> by,</p>\n",
    "<p><mathjax>$$\n",
    "\\begin{aligned}\n",
    "  \\bar{w}_{t+1}\n",
    "  &amp; = \\bar{w}_t - \\frac{\\eta_t}{(1 - \\eta_t) c_t} \\nabla_w l(x_i, w_i, c_t \\bar{w}_t) \\\\\n",
    "  c_{t+1}\n",
    "  &amp; = (1 - \\eta_t \\lambda) c_t\n",
    "\\end{aligned}\n",
    "$$</mathjax></p>\n",
    "<p>And that’s it! As a final note, depending what value you choose for <mathjax>$\\lambda$</mathjax>, <mathjax>$c_t$</mathjax> is going to get really big or really small pretty fast. The usual \"take the log\" tricks aren't going to fly, either, as <mathjax>$c_t$</mathjax> need not be positive. The only way around it I’ve found is to check every iteration if <mathjax>$c_t$</mathjax> is getting out of hand, then transform <mathjax>$\\bar{w}_{t} \\leftarrow \\bar{w}_t c_t$</mathjax> and <mathjax>$c_t \\leftarrow 1$</mathjax> if it is.</p>\n",
    "<p>Finally, credit should be given where credit is due. This is a slightly more detailed explanation of <a href=\"http://blog.smola.org/post/940672544/fast-quadratic-regularization-for-online-learning&gt;\">Alex Smola</a> blog post from about a year ago, which in turn is accredited to Leon Bottou.</p>"
   ]
  },
  {
   "cell_type": "code",
   "execution_count": null,
   "metadata": {
    "collapsed": true
   },
   "outputs": [],
   "source": []
  }
 ],
 "metadata": {
  "kernelspec": {
   "display_name": "Python 3",
   "language": "python",
   "name": "python3"
  },
  "language_info": {
   "codemirror_mode": {
    "name": "ipython",
    "version": 3
   },
   "file_extension": ".py",
   "mimetype": "text/x-python",
   "name": "python",
   "nbconvert_exporter": "python",
   "pygments_lexer": "ipython3",
   "version": "3.5.2"
  }
 },
 "nbformat": 4,
 "nbformat_minor": 0
}
