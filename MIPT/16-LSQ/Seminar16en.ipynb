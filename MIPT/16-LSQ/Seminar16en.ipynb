{
 "cells": [
  {
   "cell_type": "markdown",
   "metadata": {
    "slideshow": {
     "slide_type": "slide"
    }
   },
   "source": [
    "# Seminar 16\n",
    "# Least Squares Problem"
   ]
  },
  {
   "cell_type": "markdown",
   "metadata": {
    "slideshow": {
     "slide_type": "slide"
    }
   },
   "source": [
    "## Problem statement\n",
    "\n",
    "1. **Wide:** assume given $m$ pairs of measurements $(x_i, y_i)$, where $ x_i \\in \\mathbb{R}^n, \\; y_i \\in \\mathbb{R}^p$. Find such function $f$, that\n",
    "\n",
    "$$\n",
    "\\frac{1}{2}\\|f(x_i) - y_i \\|^2_2 \\to \\min\n",
    "$$\n",
    "\n",
    "2. **Specific:** assume given $m$ pairs of measurements $(x_i, y_i)$, where $ x_i \\in \\mathbb{R}^n, \\; y_i \\in \\mathbb{R}^p$. Find such *parametric* function $f(x, w)$, that\n",
    "\n",
    "$$\n",
    "\\frac{1}{2}\\|f(x_i, w) - y_i \\|^2_2 \\to \\min_w\n",
    "$$\n",
    "\n",
    "3. **More specific:** assume given $m$ pairs of measurements $(x_i, y_i)$, where $ x_i \\in \\mathbb{R}^n, \\; y_i \\in \\mathbb{R}$. Find such *parametric* function $f(x, w)$, that \n",
    "$$\n",
    "\\frac{1}{2} \\sum_{i=1}^m(f(x_i, w) - y_i )^2 \\to \\min_w\n",
    "$$"
   ]
  },
  {
   "cell_type": "markdown",
   "metadata": {
    "slideshow": {
     "slide_type": "slide"
    }
   },
   "source": [
    "## Linear least squares problem\n",
    "\n",
    "Consider case of linear dependence between measurements $x_i \\in \\mathbb{R}^n$ and $y_i \\in \\mathbb{R}, \\; i = 1,\\ldots, m$.\n",
    "\n",
    "Then\n",
    "\n",
    "$$\n",
    "f(x, w) = x^{\\top}w\n",
    "$$\n",
    "\n",
    "or\n",
    "\n",
    "$$\n",
    "f(X, W) = XW\n",
    "$$\n",
    "\n",
    "Linear least squares problem is stated in the following form\n",
    "\n",
    "$$\n",
    "L(w|X, y) = \\frac{1}{2}\\sum\\limits_{i=1}^m (x^{\\top}_i w - y_i)^2 = \\frac{1}{2}\\|Xw - y \\|^2_2 \\to \\min_w\n",
    "$$\n",
    "\n",
    "**Remark.** Further we assume $m \\geq n$ и $\\mathrm{rank}(X) = n$ except special cases"
   ]
  },
  {
   "cell_type": "markdown",
   "metadata": {
    "slideshow": {
     "slide_type": "slide"
    }
   },
   "source": [
    "### Normal equation\n",
    "\n",
    "From the first order necessary optimality condition and convexity of the norm follows\n",
    "\n",
    "$$\n",
    "L'(w^* | X, y) = 0 \\Rightarrow (X^{\\top}X)w^* = X^{\\top}y\n",
    "$$\n",
    "or\n",
    "\n",
    "$$\n",
    "w^* = (X^{\\top}X)^{-1}X^{\\top}y = X^+y = X^{\\dagger}y,\n",
    "$$\n",
    "\n",
    "where $X^{\\dagger} = X^+ = (X^{\\top}X)^{-1}X^{\\top}$ - *pseudo-inverse matrix*.\n",
    "\n",
    "**Remark:** check yourself that you can derive expession for $w^*$!\n",
    "\n",
    "**Q:** to what problem was reduced optimization problem?"
   ]
  },
  {
   "cell_type": "markdown",
   "metadata": {
    "slideshow": {
     "slide_type": "slide"
    }
   },
   "source": [
    "### Direct methods"
   ]
  },
  {
   "cell_type": "markdown",
   "metadata": {
    "slideshow": {
     "slide_type": "slide"
    }
   },
   "source": [
    "#### Cholesky decomposition\n",
    "\n",
    "**Definition.** Any matrix $A \\in \\mathbb{S}^n_{++}$ has unique Cholesky decomposition:\n",
    "\n",
    "$$\n",
    "A = LL^{\\top},\n",
    "$$\n",
    "\n",
    "where $L$ is lower-triangular matrix\n",
    "\n",
    "The method:\n",
    "1. Compute $X^{\\top}X$ and $X^{\\top}y$\n",
    "2. Compute Cholesky decomposition of the matrix $X^{\\top}X$\n",
    "3. Find $w^*$ with forward and backward substitution"
   ]
  },
  {
   "cell_type": "markdown",
   "metadata": {
    "slideshow": {
     "slide_type": "slide"
    }
   },
   "source": [
    "### Pro & contra\n",
    "\n",
    "Pro \n",
    "\n",
    "- if $m \\gg n$, then storage of $X^{\\top}X$ requires much less memory than storage of $X$\n",
    "- if the matrix $X$ is sparse, then there exist methods that give sparse Cholecky factor $L$\n",
    "\n",
    "Contra\n",
    "\n",
    "- condition number of $X^{\\top}X$ is squared condition number of matrix $X$. Error is proportional to condition number.\n",
    "- it is required to compute $X^{\\top}X$"
   ]
  },
  {
   "cell_type": "markdown",
   "metadata": {
    "slideshow": {
     "slide_type": "slide"
    }
   },
   "source": [
    "#### QR decomposition\n",
    "\n",
    "**Definition.** Any matrix $A \\in \\mathbb{R}^{m \\times n}$ can be decomposed in the form\n",
    "\n",
    "$$\n",
    "A = QR,\n",
    "$$\n",
    "\n",
    "where $Q \\in \\mathbb{R}^{m \\times m}$ is unitary matrix, and $R \\in \\mathbb{R}^{m \\times n}$ is rectangular upper triangular."
   ]
  },
  {
   "cell_type": "markdown",
   "metadata": {
    "slideshow": {
     "slide_type": "slide"
    }
   },
   "source": [
    "#### Application\n",
    "\n",
    "1. Compute QR decomposition of matrix $X$: $X = QR$.\n",
    "2. $Q = [Q_1, Q_2]$, $Q_1 \\in \\mathbb{R}^{m \\times n}$,\n",
    "$R = \n",
    "\\begin{bmatrix}\n",
    "R_1\\\\\n",
    "0\n",
    "\\end{bmatrix}$,\n",
    "$R_1 \\in \\mathbb{R}^{n \\times n}$ is square upper triangular matrix\n",
    "2. The problem has the form\n",
    "\n",
    "$$\n",
    "\\|R_1w - Q_1^{\\top}y \\|^2_2 \\to \\min_w\n",
    "$$\n",
    "\n",
    "and normal equation\n",
    "\n",
    "$$\n",
    "R_1w^* = Q_1^{\\top}y\n",
    "$$\n",
    "\n",
    "- We obtain linear system with square upper triangular matrix\n",
    "- It can be easily solved with backward substitution"
   ]
  },
  {
   "cell_type": "markdown",
   "metadata": {
    "slideshow": {
     "slide_type": "slide"
    }
   },
   "source": [
    "### Pro & contra\n",
    "\n",
    "Pro \n",
    "\n",
    "- error is proportional to condition number of $X$, not $X^{\\top}X$\n",
    "- more stable than Cholesky decomposition based method\n",
    "\n",
    "Contra\n",
    "\n",
    "- no way to control stability of solution"
   ]
  },
  {
   "cell_type": "markdown",
   "metadata": {
    "slideshow": {
     "slide_type": "slide"
    }
   },
   "source": [
    "#### Singular value decomposition (SVD)\n",
    "\n",
    "**Definition.** Any matrix $A \\in \\mathbb{R}^{m \\times n}$ can be represented in the form\n",
    "\n",
    "$$\n",
    "A = U\\widehat{\\Sigma} V^* = [U_1, U_2] \\begin{bmatrix} \\Sigma\\\\ 0 \\end{bmatrix} V^*,\n",
    "$$\n",
    "\n",
    "where $U \\in \\mathbb{R}^{m \\times m}$ is unitary, $U_1 \\in \\mathbb{R}^{m \\times n}$, $\\Sigma = \\mathrm{diag}(\\sigma_1, \\ldots, \\sigma_n) \\in \\mathbb{R}^{n \\times n}$ is diagonal with singular values $\\sigma_i$ in the diagonal, and $V \\in \\mathbb{R}^{n \\times n}$ is unitary."
   ]
  },
  {
   "cell_type": "markdown",
   "metadata": {
    "slideshow": {
     "slide_type": "slide"
    }
   },
   "source": [
    "#### Application\n",
    "\n",
    "$$\n",
    "\\| Xw - y\\|^2_2 = \\left\\| \\begin{bmatrix} \\Sigma \\\\ 0 \\end{bmatrix} V^* w - \\begin{bmatrix} U_1^{\\top} \\\\ U_2^{\\top} \\end{bmatrix}y \\right\\|^2_2 \\sim \\| \\Sigma V^* w - U_1^{\\top}y \\|^2_2\n",
    "$$\n",
    "\n",
    "Solving linear system with **square** matrix:\n",
    "\n",
    "$$\n",
    "w^* = V\\Sigma^{-1}U_1^{\\top}y = \\sum\\limits_{i=1}^n \\frac{u_i^{\\top}y}{\\sigma_i} v_i,\n",
    "$$\n",
    "\n",
    "where $v_i$ and $u_i$ are columns of matrices $V$ and $U_1$ respectively. "
   ]
  },
  {
   "cell_type": "markdown",
   "metadata": {
    "slideshow": {
     "slide_type": "slide"
    }
   },
   "source": [
    "### Pro & contra\n",
    "\n",
    "Pro \n",
    "\n",
    "- information about sensitivity of solution to perturbation of $y$\n",
    "- control of stability: small singular values can be excluded from computations\n",
    "- if matrix $X$ is close to singular, then only SVD can help to diagnose this\n",
    "\n",
    "Contra\n",
    "\n",
    "- computing of SVD is more costly compared with QR and Cholesky decompositions"
   ]
  },
  {
   "cell_type": "markdown",
   "metadata": {
    "slideshow": {
     "slide_type": "slide"
    }
   },
   "source": [
    "### Experiments"
   ]
  },
  {
   "cell_type": "code",
   "execution_count": 3,
   "metadata": {
    "slideshow": {
     "slide_type": "fragment"
    }
   },
   "outputs": [
    {
     "name": "stdout",
     "output_type": "stream",
     "text": [
      "1.0647878362675427e-05\n"
     ]
    }
   ],
   "source": [
    "import numpy as np\n",
    "\n",
    "n = 1000\n",
    "m = 2 * n\n",
    "X = np.random.randn(m, n)\n",
    "w = np.random.randn(n)\n",
    "y = X.dot(w) + 1e-5 * np.random.randn(m)\n",
    "\n",
    "w_est = np.linalg.solve(X.T.dot(X), X.T.dot(y))\n",
    "print(np.linalg.norm(w - w_est))"
   ]
  },
  {
   "cell_type": "code",
   "execution_count": 2,
   "metadata": {
    "slideshow": {
     "slide_type": "fragment"
    }
   },
   "outputs": [],
   "source": [
    "import scipy.linalg as sclin\n",
    "import scipy.sparse.linalg as scsplin\n",
    "\n",
    "def CholSolve(X, y):\n",
    "    res = sclin.cho_factor(X.T.dot(X), lower=True)\n",
    "    return sclin.cho_solve(res, X.T.dot(y))\n",
    "\n",
    "def QRSolve(X, y):\n",
    "    Q, R = sclin.qr(X)\n",
    "    return sclin.solve_triangular(R[:R.shape[1], :], Q[:, :R.shape[1]].T.dot(y))\n",
    "\n",
    "def SVDSolve(X, y):\n",
    "    U, s, V = sclin.svd(X, full_matrices=False)    \n",
    "    return V.T.dot(np.diagflat(1.0 / s).dot(U.T.dot(y)))\n",
    "\n",
    "def CGSolve(X, y):\n",
    "    def mv(x):\n",
    "        return X.T.dot(X.dot(x))\n",
    "    LA = scsplin.LinearOperator((X.shape[1], X.shape[1]), matvec=mv)\n",
    "    w, _ = scsplin.cg(LA, X.T.dot(y), tol=1e-10)\n",
    "    return w\n",
    "\n",
    "def NPSolve(X, y):\n",
    "    return np.linalg.solve(X.T.dot(X), X.T.dot(y))\n",
    "\n",
    "def LSQRSolve(X, y):\n",
    "    res = scsplin.lsqr(X, y)\n",
    "    return res[0]"
   ]
  },
  {
   "cell_type": "code",
   "execution_count": 3,
   "metadata": {
    "slideshow": {
     "slide_type": "slide"
    }
   },
   "outputs": [
    {
     "name": "stdout",
     "output_type": "stream",
     "text": [
      "9.87998623568672e-06\n",
      "9.879986239053383e-06\n",
      "9.879986237687417e-06\n",
      "9.879512604510694e-06\n",
      "9.879986234886743e-06\n",
      "9.879986068607817e-06\n"
     ]
    }
   ],
   "source": [
    "w_chol = CholSolve(X, y)\n",
    "print(np.linalg.norm(w - w_chol))\n",
    "w_qr = QRSolve(X, y)\n",
    "print(np.linalg.norm(w - w_qr))\n",
    "w_svd = SVDSolve(X, y)\n",
    "print(np.linalg.norm(w - w_svd))\n",
    "w_cg = CGSolve(X, y)\n",
    "print(np.linalg.norm(w - w_cg))\n",
    "w_np = NPSolve(X, y)\n",
    "print(np.linalg.norm(w - w_np))\n",
    "w_lsqr = LSQRSolve(X, y)\n",
    "print(np.linalg.norm(w - w_lsqr))"
   ]
  },
  {
   "cell_type": "code",
   "execution_count": 4,
   "metadata": {
    "slideshow": {
     "slide_type": "slide"
    }
   },
   "outputs": [
    {
     "name": "stdout",
     "output_type": "stream",
     "text": [
      "36 ms ± 2.31 ms per loop (mean ± std. dev. of 7 runs, 10 loops each)\n",
      "297 ms ± 27.5 ms per loop (mean ± std. dev. of 7 runs, 1 loop each)\n",
      "454 ms ± 18.8 ms per loop (mean ± std. dev. of 7 runs, 1 loop each)\n",
      "97.3 ms ± 6.72 ms per loop (mean ± std. dev. of 7 runs, 10 loops each)\n",
      "43.1 ms ± 5.11 ms per loop (mean ± std. dev. of 7 runs, 10 loops each)\n",
      "174 ms ± 36.2 ms per loop (mean ± std. dev. of 7 runs, 1 loop each)\n"
     ]
    }
   ],
   "source": [
    "%timeit w_chol = CholSolve(X, y)\n",
    "%timeit w_qr = QRSolve(X, y)\n",
    "%timeit w_svd = SVDSolve(X, y)\n",
    "%timeit w_cg = CGSolve(X, y)\n",
    "%timeit w_np = NPSolve(X, y)\n",
    "%timeit w_lsqr = LSQRSolve(X, y)"
   ]
  },
  {
   "cell_type": "code",
   "execution_count": 2,
   "metadata": {
    "slideshow": {
     "slide_type": "slide"
    }
   },
   "outputs": [],
   "source": [
    "%matplotlib inline\n",
    "import time\n",
    "import matplotlib.pyplot as plt"
   ]
  },
  {
   "cell_type": "code",
   "execution_count": 5,
   "metadata": {
    "slideshow": {
     "slide_type": "slide"
    }
   },
   "outputs": [],
   "source": [
    "n = [10, 100, 1000, 2000, 5000]\n",
    "chol_time = []\n",
    "qr_time = []\n",
    "svd_time = []\n",
    "cg_time = []\n",
    "np_time = []\n",
    "lsqr_time = []\n",
    "for dim in n:\n",
    "    m = int(1.5 * dim)\n",
    "    X = np.random.randn(m, dim)\n",
    "    w = np.random.randn(dim)\n",
    "    y = X.dot(w) + 1e-5 * np.random.randn(m)\n",
    "    st = time.time()\n",
    "    w_chol = CholSolve(X, y)\n",
    "    chol_time.append(time.time() - st)\n",
    "    st = time.time()\n",
    "    w_qr = QRSolve(X, y)\n",
    "    qr_time.append(time.time() - st)\n",
    "    st = time.time()\n",
    "    w_svd = SVDSolve(X, y)\n",
    "    svd_time.append(time.time() - st)\n",
    "    st = time.time()\n",
    "    w_cg = CGSolve(X, y)\n",
    "    cg_time.append(time.time() - st)\n",
    "    st = time.time()\n",
    "    w_np = NPSolve(X, y)\n",
    "    np_time.append(time.time() - st)\n",
    "    st = time.time()\n",
    "    w_lsqr = LSQRSolve(X, y)\n",
    "    lsqr_time.append(time.time() - st)"
   ]
  },
  {
   "cell_type": "code",
   "execution_count": 6,
   "metadata": {
    "slideshow": {
     "slide_type": "slide"
    }
   },
   "outputs": [
    {
     "data": {
      "image/png": "[encoded data removed]",
      "text/plain": [
       "<matplotlib.figure.Figure at 0x15205b59b0>"
      ]
     },
     "metadata": {},
     "output_type": "display_data"
    }
   ],
   "source": [
    "plt.figure(figsize=(10,8))\n",
    "plt.plot(n, chol_time, linewidth=5, label=\"Cholesky\")\n",
    "plt.plot(n, qr_time, linewidth=5, label=\"QR\")\n",
    "plt.plot(n, svd_time, linewidth=5, label=\"SVD\")\n",
    "plt.plot(n, cg_time, linewidth=5, label=\"CG\")\n",
    "plt.plot(n, np_time, linewidth=5, label=\"Numpy\")\n",
    "plt.plot(n, lsqr_time, linewidth=5, label=\"LSQR\")\n",
    "plt.legend(loc=\"best\", fontsize=20)\n",
    "plt.xscale(\"log\")\n",
    "plt.yscale(\"log\")\n",
    "plt.xlabel(r\"Dimension\", fontsize=20)\n",
    "plt.ylabel(r\"Time, sec.\", fontsize=20)\n",
    "plt.xticks(fontsize = 20)\n",
    "_ = plt.yticks(fontsize = 20)"
   ]
  },
  {
   "cell_type": "markdown",
   "metadata": {
    "slideshow": {
     "slide_type": "slide"
    }
   },
   "source": [
    "## Non-linear least squares problem(J. Nocedal, S. Wright Numerical Optimization, Ch. 10)\n",
    "\n",
    "**Q:** can we model required dependence between measurements with non-linear function $f(x, w)$?\n",
    "\n",
    "**A:** Yes, we can!\n",
    "\n",
    "**BUT!** There is no analytical solution, we have to use iterative method!"
   ]
  },
  {
   "cell_type": "markdown",
   "metadata": {
    "slideshow": {
     "slide_type": "slide"
    }
   },
   "source": [
    "### Gauss-Newton method\n",
    "\n",
    "$$\n",
    "S = \\frac{1}{2}\\| f(X, w) - y\\|^2_2 = \\frac{1}{2}\\|r(w)\\|_2^2 \\to \\min_w\n",
    "$$\n",
    "\n",
    "$$\n",
    "S' = \\sum_{i=1}^m r_i(w)r_i'(w) = J^{\\top}(w)r(w), \n",
    "$$\n",
    "\n",
    "where $J$ is Jacobian of residuals $r(w)$.\n",
    "\n",
    "\\begin{equation*}\n",
    "\\begin{split}\n",
    "S''(w) = & \\sum_{i=1}^m r_i'(w)r_i'(w) + \\sum_{i=1}^m r_i(w)r_i''(w) \\\\\n",
    "= & J^{\\top}(w)J(w) + \\sum_{i=1}^m r_i(w)r_i''(w)\n",
    "\\end{split}\n",
    "\\end{equation*}"
   ]
  },
  {
   "cell_type": "markdown",
   "metadata": {
    "slideshow": {
     "slide_type": "slide"
    }
   },
   "source": [
    "#### Newton method\n",
    "\n",
    "$$\n",
    "S''(w_k)h_{k+1} = -J^{\\top}(w_k)r(w_k)\n",
    "$$\n",
    "\n",
    "$$\n",
    "\\left(J^{\\top}(w_k)J(w_k) + \\sum_{i=1}^m r_i(w_k)r_i''(w_k)\\right) h_{k+1} = -J^{\\top}(w_k)r(w_k)\n",
    "$$\n",
    "\n",
    "**Q:** what will change if we add name Gauss?"
   ]
  },
  {
   "cell_type": "markdown",
   "metadata": {
    "slideshow": {
     "slide_type": "slide"
    }
   },
   "source": [
    "#### Gauss-Newton method\n",
    "\n",
    "$$\n",
    "\\left(J^{\\top}(w_k)J(w_k)\\right) h_{k+1} = -J^{\\top}(w_k)r(w_k)\n",
    "$$\n",
    "\n",
    "**Remark:** step size is selected with backtracking in particular with aformentioned rules."
   ]
  },
  {
   "cell_type": "markdown",
   "metadata": {
    "slideshow": {
     "slide_type": "slide"
    }
   },
   "source": [
    "#### Convergence theorem\n",
    "\n",
    "**Theorem.** Assume residuals $r_i(w)$ are bounded, their gradients are Lipschitz and jacobian $J$ is full-rank. Then\n",
    "\n",
    "$$\n",
    "\\lim_{k \\to \\infty} J^{\\top}(w_k)r_k = 0,\n",
    "$$\n",
    "\n",
    "while step size is selected with curvature rule and sufficient decreasing rule."
   ]
  },
  {
   "cell_type": "markdown",
   "metadata": {
    "slideshow": {
     "slide_type": "slide"
    }
   },
   "source": [
    "#### Convergence speed\n",
    "\n",
    "$$\n",
    "\\|w_{k+1} - w^* \\|_2 \\leq \\| (J^{\\top}J(w^*))^{-1}H(w^*)\\| \\|w_k - w^* \\|_2 + O(\\|w_k - w^* \\|^2_2)\n",
    "$$\n",
    "\n",
    "- Convergence depends on ratio between $J^{\\top}J$ and $H(w_k) = \\sum\\limits_{i=1}^m r_i(w_k)r_i''(w_k)$\n",
    "- The smaller $\\| (J^{\\top}J(w^*))^{-1}H(w^*) \\|$, the faster convergence\n",
    "- If $H(w^*) = 0$, then convergence is locally quadratic"
   ]
  },
  {
   "cell_type": "markdown",
   "metadata": {
    "slideshow": {
     "slide_type": "slide"
    }
   },
   "source": [
    "#### Large residual case\n",
    "\n",
    "- The term $H(w_k)$ can not be ignored\n",
    "- This case indicates that chosen parameteric function $f(X, w)$ is inadequate\n",
    "- It requires *hybrid* methods, that work as Gauss-Newton method in the case of small residual and as Newton or Quasi-Newton method in the case of large residual"
   ]
  },
  {
   "cell_type": "markdown",
   "metadata": {
    "slideshow": {
     "slide_type": "slide"
    }
   },
   "source": [
    "### Pro & contra\n",
    "\n",
    "Pro\n",
    "\n",
    "- $r''(w)$ is not required\n",
    "- estimate of hessian is computed from the jacobian\n",
    "- hessian approximation often is very accurate\n",
    "- in the case of full-rank jacobian it is guaranteed that obtained direction is descent direction\n",
    "- interpretation of the method as linearisation of function $f(x, w)$ in neighbourhood of minimizer\n",
    "\n",
    "Contra\n",
    "\n",
    "- hessian approximation can be very inaccurate\n",
    "- if matrix $J^{\\top}J$ is close to singular, solution is unstable, and even convergence is not guaranteed"
   ]
  },
  {
   "cell_type": "markdown",
   "metadata": {
    "slideshow": {
     "slide_type": "slide"
    }
   },
   "source": [
    "###  Levenberg–Marquardt method "
   ]
  },
  {
   "cell_type": "markdown",
   "metadata": {
    "slideshow": {
     "slide_type": "slide"
    }
   },
   "source": [
    "#### What issues we already have?\n",
    "\n",
    "- Newton method converges only **locally**, but **quadratic**\n",
    "- Singularity of hessian or its approximation (like in Gauss-Newton method) lead to unstable solution\n",
    "- Gradient descent converges to stationary point from **any** initial guess vector, but **linearly**"
   ]
  },
  {
   "cell_type": "markdown",
   "metadata": {
    "slideshow": {
     "slide_type": "slide"
    }
   },
   "source": [
    "#### How to deal with these issues? At least partially..."
   ]
  },
  {
   "cell_type": "markdown",
   "metadata": {
    "slideshow": {
     "slide_type": "fragment"
    }
   },
   "source": [
    "**Idea:** separate spectrum of the hessian from zero with additional term $\\lambda I$\n",
    "\n",
    "Levenberg–Marquardt method :\n",
    "\n",
    "$$\n",
    "(f''(x_k) + \\lambda_k I)h_k = -f'(x_k), \\qquad \\lambda_k > 0\n",
    "$$"
   ]
  },
  {
   "cell_type": "markdown",
   "metadata": {
    "slideshow": {
     "slide_type": "slide"
    }
   },
   "source": [
    "### Why is it a good idea?"
   ]
  },
  {
   "cell_type": "markdown",
   "metadata": {
    "slideshow": {
     "slide_type": "fragment"
    }
   },
   "source": [
    "- While $\\lambda_k \\to 0$ the method works as Newton method\n",
    "- While $\\lambda_k \\to \\infty$ the method works as gradient descent\n",
    "- In Gauss-Newton method term $\\lambda_k I$ is estimation of $H(w_k)$\n",
    "- If estimation of hessian $J^{\\top}J$ is sparse, then adding term $\\lambda_k I$ does not significantly increase number of non zeros elements\n",
    "- Regularization of the original problem - see below"
   ]
  },
  {
   "cell_type": "markdown",
   "metadata": {
    "slideshow": {
     "slide_type": "slide"
    }
   },
   "source": [
    "### We still have one problem..."
   ]
  },
  {
   "cell_type": "markdown",
   "metadata": {
    "slideshow": {
     "slide_type": "fragment"
    }
   },
   "source": [
    "There are a lot of methods to select $\\lambda_k$. General idea is similar to backtracking:\n",
    "\n",
    "- set initial value $\\lambda_0$\n",
    "- if decreasing of objective is sufficent, then we are in the region where quadratic approximation is accurate enough and we can decrease $\\lambda_{k+1}$\n",
    "- if decreasing is insufficient, we have to increase $\\lambda_k$, re-compute direction $h_k$ and check decreasing of the objective"
   ]
  },
  {
   "cell_type": "markdown",
   "metadata": {
    "slideshow": {
     "slide_type": "slide"
    }
   },
   "source": [
    "#### Convergence\n",
    "\n",
    "- Convergence proofs are not simple because the strategy of selecting $\\lambda_k$ has to be taken into account\n",
    "- Convergence to stationary point is guaranteed in the case of adequate modeling of the function curvature "
   ]
  },
  {
   "cell_type": "markdown",
   "metadata": {
    "slideshow": {
     "slide_type": "slide"
    }
   },
   "source": [
    "### Experiment\n",
    "\n",
    "Consider the nonlinear least-squares problem for the following model\n",
    "\n",
    "$$\n",
    "f(w|x) = w_1 e^{w_2 x}\\cos(w_3 x + w_4),\n",
    "$$\n",
    "\n",
    "where ground-truth parameter is $w = (1, -0.5, 10, 0)$"
   ]
  },
  {
   "cell_type": "code",
   "execution_count": 10,
   "metadata": {
    "slideshow": {
     "slide_type": "slide"
    }
   },
   "outputs": [
    {
     "data": {
      "text/plain": [
       "[<matplotlib.lines.Line2D at 0x1020586630>]"
      ]
     },
     "execution_count": 10,
     "metadata": {},
     "output_type": "execute_result"
    },
    {
     "data": {
      "image/png": "[encoded data removed]",
      "text/plain": [
       "<matplotlib.figure.Figure at 0x10203680f0>"
      ]
     },
     "metadata": {},
     "output_type": "display_data"
    }
   ],
   "source": [
    "w = np.array([1, -0.5, 10, 0])\n",
    "def f(x, w=w):\n",
    "    return w[0] * np.exp(x * w[1]) * np.cos(w[2] * x + w[3])\n",
    "\n",
    "num_points = 100\n",
    "x_range = np.linspace(0, 5, num=num_points)\n",
    "plt.plot(x_range, f(x_range))"
   ]
  },
  {
   "cell_type": "code",
   "execution_count": 21,
   "metadata": {
    "slideshow": {
     "slide_type": "slide"
    }
   },
   "outputs": [
    {
     "data": {
      "text/plain": [
       "<matplotlib.collections.PathCollection at 0x1020443198>"
      ]
     },
     "execution_count": 21,
     "metadata": {},
     "output_type": "execute_result"
    },
    {
     "data": {
      "image/png": "[encoded data removed]",
      "text/plain": [
       "<matplotlib.figure.Figure at 0x10202e4940>"
      ]
     },
     "metadata": {},
     "output_type": "display_data"
    }
   ],
   "source": [
    "num_samples = num_points // 2\n",
    "x_samples = np.random.choice(x_range, size=num_samples)\n",
    "y_samples = f(x_samples) + 0.05 * np.random.randn(num_samples)\n",
    "plt.plot(x_range, f(x_range))\n",
    "plt.scatter(x_samples, y_samples, c=\"red\")"
   ]
  },
  {
   "cell_type": "code",
   "execution_count": 24,
   "metadata": {
    "slideshow": {
     "slide_type": "slide"
    }
   },
   "outputs": [],
   "source": [
    "import scipy.optimize as scopt\n",
    "\n",
    "res = lambda w: f(x_samples, w) - y_samples\n",
    "def jac(w):\n",
    "    J = np.zeros((num_samples, 4))\n",
    "    J[:, 0] = np.exp(x_samples * w[1]) * np.cos(x_samples * w[2] + w[3])\n",
    "    J[:, 1] = w[0] * x_samples * np.exp(x_samples * w[1]) * np.cos(x_samples * w[2] + w[3])\n",
    "    J[:, 2] = -w[0] * x_samples * np.exp(x_samples * w[1]) * np.sin(x_samples * w[2] + w[3])\n",
    "    J[:, 3] = -w[0] * np.exp(x_samples * w[1]) * np.sin(x_samples * w[2] + w[3])\n",
    "    return J\n",
    "\n",
    "x0 = np.random.rand(4)\n",
    "result = {}\n",
    "result[\"LM\"] = scopt.least_squares(fun=res, method=\"lm\", x0=x0, jac=jac)\n",
    "# result[\"TR\"] = scopt.least_squares(fun=res, method=\"trf\", x0=x0, jac=jac)\n",
    "# result[\"Dogleg\"] = scopt.least_squares(fun=res, method=\"dogbox\", x0=x0, jac=jac)"
   ]
  },
  {
   "cell_type": "code",
   "execution_count": 25,
   "metadata": {
    "slideshow": {
     "slide_type": "slide"
    }
   },
   "outputs": [
    {
     "name": "stdout",
     "output_type": "stream",
     "text": [
      "Exact parameters = [ 1.  -0.5 10.   0. ]\n",
      "LM method parameters = [ 1.04662213 -0.50006449 -9.9751842   6.25644984]\n"
     ]
    },
    {
     "data": {
      "image/png": "[encoded data removed]",
      "text/plain": [
       "<matplotlib.figure.Figure at 0x10209beda0>"
      ]
     },
     "metadata": {},
     "output_type": "display_data"
    }
   ],
   "source": [
    "plt.figure(figsize=(8, 6))\n",
    "fontsize = 16\n",
    "plt.plot(x_range, f(x_range), label=\"Exact\")\n",
    "for method in result:\n",
    "    plt.plot(x_range, f(x_range, result[method].x), label=method)\n",
    "plt.legend(fontsize=fontsize)\n",
    "plt.xticks(fontsize=fontsize)\n",
    "plt.yticks(fontsize=fontsize)\n",
    "print(\"Exact parameters = {}\".format(w))\n",
    "for method in result:\n",
    "    print(\"{} method parameters = {}\".format(method, result[method].x))"
   ]
  },
  {
   "cell_type": "markdown",
   "metadata": {
    "slideshow": {
     "slide_type": "slide"
    }
   },
   "source": [
    "### Pro & Contra\n",
    "\n",
    "Pro\n",
    "\n",
    "- combination of advantages of previously studied methods\n",
    "- automatic adaptation to gradient descent and Newton method\n",
    "- improved version of Gauss-Newton method\n",
    "- preserve sparsity of hessian estimate\n",
    "- standard method de-facto for solving non-linear least squares problem [[1]](https://en.wikipedia.org/wiki/Levenberg–Marquardt_algorithm#Implementations)\n",
    "\n",
    "Contra\n",
    "\n",
    "- no universal choice of selection $\\lambda$\n",
    "- convergence speed is non-stable and depends on choice of $\\lambda_k$"
   ]
  },
  {
   "cell_type": "markdown",
   "metadata": {
    "slideshow": {
     "slide_type": "slide"
    }
   },
   "source": [
    "## Ill-posed problems"
   ]
  },
  {
   "cell_type": "markdown",
   "metadata": {
    "slideshow": {
     "slide_type": "fragment"
    }
   },
   "source": [
    "**Definition**. The problem is called *ill-posed*, if at least one of the following conditions of well-posedness problem is false:\n",
    "\n",
    "1. Existence of the solution\n",
    "2. Uniqueness of the solution\n",
    "3. Continuous dependence on external parameters"
   ]
  },
  {
   "cell_type": "markdown",
   "metadata": {
    "slideshow": {
     "slide_type": "slide"
    }
   },
   "source": [
    "### Regularization\n",
    "\n",
    "**Definition.** Regularization is a process of introducing additional information in the model for solving ill-posed problem\n",
    "\n",
    "Examples:\n",
    "- improve stability with changing of the objective function\n",
    "- add constraints which lead to uniqueness of the solution\n",
    "- fix objective function so that the problem has finite solution"
   ]
  },
  {
   "cell_type": "markdown",
   "metadata": {
    "slideshow": {
     "slide_type": "slide"
    }
   },
   "source": [
    "#### Tikhonov (Ridge or $\\ell_2$) regularization\n",
    "\n",
    "$$\n",
    "\\min_w \\|Xw - y \\|^2_2 + \\frac{\\alpha}{2}\\|w\\|^2_2, \\quad \\alpha > 0\n",
    "$$\n",
    "\n",
    "**Exercise:** derive analogue of normal equation for this problem. What interpretation has modified normal equation and why this regularization works?\n",
    "\n",
    "The method to solve this problem is similar to linear case without regularization."
   ]
  },
  {
   "cell_type": "markdown",
   "metadata": {
    "slideshow": {
     "slide_type": "slide"
    }
   },
   "source": [
    "#### Lasso ($\\ell_1$ regularization)\n",
    "\n",
    "$$\n",
    "\\min_w \\|Xw - y \\|^2_2 + \\alpha\\|w\\|_1, \\quad \\alpha > 0\n",
    "$$\n",
    "\n",
    "The method is coordinate descent\n",
    "\n",
    "Features:\n",
    "- non-differentiable, but convex objective function\n",
    "- relaxation of $\\ell_0$ constraint\n",
    "- sparse solution"
   ]
  },
  {
   "cell_type": "markdown",
   "metadata": {
    "slideshow": {
     "slide_type": "slide"
    }
   },
   "source": [
    "#### Elastic Net\n",
    "\n",
    "$$\n",
    "\\min_w \\|Xw - y \\|^2_2 + \\alpha \\rho\\|w\\|_1 + \\alpha\\frac{1-\\rho}{2}\\| w \\|^2_2, \\quad \\rho \\in [0, 1], \\alpha > 0\n",
    "$$\n",
    "\n",
    "Features:\n",
    "- combination of Lasso and Ridge\n",
    "- the method - coordinate descent\n",
    "- more stable than Lasso"
   ]
  },
  {
   "cell_type": "markdown",
   "metadata": {
    "slideshow": {
     "slide_type": "slide"
    }
   },
   "source": [
    "## Recap\n",
    "\n",
    "1. Least squares problem\n",
    "2. Methods for the linear case\n",
    "3. Methods for non-linear case \n",
    "4. Ill-posed problems and methods to solve them"
   ]
  }
 ],
 "metadata": {
  "celltoolbar": "Slideshow",
  "kernelspec": {
   "display_name": "Python 3 (cvxpy)",
   "language": "python",
   "name": "cvxpy"
  },
  "language_info": {
   "codemirror_mode": {
    "name": "ipython",
    "version": 3
   },
   "file_extension": ".py",
   "mimetype": "text/x-python",
   "name": "python",
   "nbconvert_exporter": "python",
   "pygments_lexer": "ipython3",
   "version": "3.6.8"
  }
 },
 "nbformat": 4,
 "nbformat_minor": 2
}
