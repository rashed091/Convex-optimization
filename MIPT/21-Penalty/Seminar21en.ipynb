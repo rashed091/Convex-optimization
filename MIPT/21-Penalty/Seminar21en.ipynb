{
 "cells": [
  {
   "cell_type": "markdown",
   "metadata": {
    "slideshow": {
     "slide_type": "slide"
    }
   },
   "source": [
    "# Seminar 21\n",
    "# Penalty method and augmented Lagrangian method"
   ]
  },
  {
   "cell_type": "markdown",
   "metadata": {
    "slideshow": {
     "slide_type": "slide"
    }
   },
   "source": [
    "## Reminder\n",
    "\n",
    "- Interrior point method\n",
    "- Barrier method with logarithmic barrier\n",
    "- Primal-dual method"
   ]
  },
  {
   "cell_type": "markdown",
   "metadata": {
    "slideshow": {
     "slide_type": "slide"
    }
   },
   "source": [
    "## Penalty method\n",
    "\n",
    "**Idea:** barriers prevent iterands to move outside of the feasible set, and penalty functions leads to significantly increasing of the objective function in the case of lying iterands outside of the feasible set. However, this scenario is possible."
   ]
  },
  {
   "cell_type": "markdown",
   "metadata": {
    "collapsed": true,
    "slideshow": {
     "slide_type": "slide"
    }
   },
   "source": [
    "## Equality constrained problem\n",
    "\n",
    "\\begin{equation*}\n",
    "\\begin{split}\n",
    "& \\min f(x)\\\\\n",
    "\\text{s.t. } & g_i(x) = 0, \\; i=1,\\ldots,m\n",
    "\\end{split}\n",
    "\\end{equation*}"
   ]
  },
  {
   "cell_type": "markdown",
   "metadata": {
    "collapsed": true,
    "slideshow": {
     "slide_type": "slide"
    }
   },
   "source": [
    "### Quadratic penalty method\n",
    "Original problem can be reformulated as unconstrained optimization problem \n",
    "\n",
    "$$\n",
    "\\min_x Q(x, \\mu),\n",
    "$$\n",
    "\n",
    "where \n",
    "\n",
    "$$\n",
    "Q(x, \\mu) = f(x) + \\frac{\\mu}{2}\\sum\\limits_{i=1}^mg^2_i(x), \\quad \\mu > 0\n",
    "$$\n",
    "\n",
    "- If constraints is not satisfied, then objective function increases proportionally to $\\mu$\n",
    "- While the value of $\\mu$ increases, solution of the unconstrained problem is satisfied constraints more and more accurately"
   ]
  },
  {
   "cell_type": "markdown",
   "metadata": {
    "slideshow": {
     "slide_type": "slide"
    }
   },
   "source": [
    "### General scheme\n",
    "\n",
    "```python\n",
    "def QudraticPenaltyEquality(Q, gradQ, x0, get_mu, get_tau, **kwargs):\n",
    "    while True:\n",
    "        # Stop when norm of gradient of Q is less than current tau\n",
    "        x = MinimizeQ(Q, gradQ, x0, get_tau)\n",
    "        if global_cnvergence(x, Q, **kwargs):\n",
    "            break\n",
    "        mu = get_mu()\n",
    "        Q, gradQ = UpdateQ(mu)\n",
    "        x0 = UpdateStartPoint(x, Q)\n",
    "    return x\n",
    "```\n",
    "\n",
    "- Parameter $\\mu$ has to be changed depending on the complexity opf solveing subproblem: if it is known that subproblem is solved long time, then $\\mu$ has to be changed more smoothly, for example $\\mu_{k+1} = 2\\mu_k$. \n",
    "If subproblem is solved fast, then more aggresive changing of $\\mu$ is acceptable, e.g. $\\mu_{k+1} = 15\\mu_k$.\n",
    "- While increasing $\\mu$, solving of the subproblem is more and more difficult due to poor conditioning of the hessian. More details below."
   ]
  },
  {
   "cell_type": "markdown",
   "metadata": {
    "collapsed": true,
    "slideshow": {
     "slide_type": "slide"
    }
   },
   "source": [
    "### Convergence\n",
    "\n",
    "**Theorem 1.** Assume that for every $\\mu$ unconstrained optimization problem has finite global solution. Then the sequence of the subproblems solutions converges to global solution of the original problem while $\\mu \\to \\infty$\n",
    "\n",
    "- Issue: global optimum for some subproblems can be unreachable!\n",
    "\n",
    "**Theorem 2.** Assume $\\tau_k \\to 0$ and $\\mu_k \\to \\infty$ and $\\| Q'(x^*_k, \\mu_k) \\| \\leq \\tau_k$. Then \n",
    "- if $x^*_k \\to x^*$ and $x^*$ is infeasible, then $x^*$ is stationary point of the function $\\| g(x) \\|^2_2$;\n",
    "- if $x^*$ is feasible and gradients of the constraints in this point are linearly independent, then $x^*$ is the point in which KKT conditions are satisfied.\n",
    "\n",
    "For any subsequence $x^*_k \\to x^*, \\; k \\in \\mathcal{C}$ the following holds\n",
    "\n",
    "$$\n",
    "\\lim_{k \\in \\mathcal{C}} \\mu_k g_i(x_k) = \\lambda_i^*\n",
    "$$\n",
    "\n",
    "for all $i = 1,\\ldots,m$, where $\\lambda_i^*$ is Lagrange multipliers that satisfied KKT."
   ]
  },
  {
   "cell_type": "markdown",
   "metadata": {
    "collapsed": true,
    "slideshow": {
     "slide_type": "slide"
    }
   },
   "source": [
    "### Singularity of hessian \n",
    "\n",
    "**Example.**\n",
    "\\begin{equation*}\n",
    "\\begin{split}\n",
    "& \\min -5x_1^2 + x_2^2\\\\\n",
    "\\text{s.t. }& x_1 = 1\n",
    "\\end{split}\n",
    "\\end{equation*}\n",
    "Penalty function\n",
    "$$\n",
    "Q(x, \\mu) = -5x_1^2 + x_2^2 + \\frac{\\mu}{2}(x_1 - 1)^2\n",
    "$$\n",
    "**Note** While $\\mu < 10$ function $Q(x, \\mu)$ is unbounded below for $x$ and subproblem does not have finite solution "
   ]
  },
  {
   "cell_type": "markdown",
   "metadata": {
    "collapsed": true,
    "slideshow": {
     "slide_type": "slide"
    }
   },
   "source": [
    "### General form of hessian\n",
    "\n",
    "$$\n",
    "Q''(x, \\mu) = f''(x) + \\mu\\sum_{i=1}^m g_i(x) g''_i(x) + \\mu(g'(x))^{\\top} g'(x),\n",
    "$$\n",
    "\n",
    "where $g'(x)$ is Jacobian of the vector-function representing equality constraints.\n",
    "\n",
    "From theorem 2, the following approximation holds near the optimum point\n",
    "\n",
    "$$\n",
    "Q''(x, \\mu) \\approx L''(x, \\lambda^*) + \\mu(g'(x))^{\\top} g'(x)\n",
    "$$\n",
    "\n",
    "- hessian of Lagrangian does not depend on $\\mu$\n",
    "- product $(g'(x))^{\\top} g'(x)$ has rank of $m \\ll n$\n",
    "\n",
    "**Summary:** some of the eigenvalues of hessian $Q''(x, \\mu)$ are of the order $\\mu$, therefore increasing $\\mu$ leads to singularity of hessian\n",
    "\n",
    "**Corollary:** search direction in the Newton method is very inaccurate!"
   ]
  },
  {
   "cell_type": "markdown",
   "metadata": {
    "collapsed": true,
    "slideshow": {
     "slide_type": "slide"
    }
   },
   "source": [
    "### How to find direction in Mewton method?\n",
    "\n",
    "$$\n",
    "Q''(x_k, \\mu)p = -Q'(x_k, \\mu)\n",
    "$$\n",
    "\n",
    "Let us introduce new variable $\\xi = \\mu g'(x) p$ and re-write the system in the form\n",
    "\n",
    "$$ \\begin{bmatrix} f''(x) + \\mu \\sum\\limits_{i=1}^m g_i(x)g_i''(x) & g'(x)\\\\ (g'(x))^{\\top} & -\\frac{1}{\\mu} I \\end{bmatrix} = \\begin{bmatrix} -Q'(x, \\mu) \\\\ 0 \\end{bmatrix} $$\n",
    "\n",
    "- Condition numbner of this system is no longer increased while increasing $\\mu$\n",
    "- Dimension is increased by $m$\n",
    "- Quadratic approximation can still be inadequate"
   ]
  },
  {
   "cell_type": "markdown",
   "metadata": {
    "collapsed": true,
    "slideshow": {
     "slide_type": "slide"
    }
   },
   "source": [
    "## Equality and inequality constraimed problem \n",
    "\n",
    "\\begin{equation*}\n",
    "\\begin{split}\n",
    "& \\min_x f(x)\\\\\n",
    "\\text{s.t. } & g_i(x) = 0, \\; i=1,\\ldots,m \\\\\n",
    "& h_j(x) \\leq 0, \\; j = 1,\\ldots,p\n",
    "\\end{split}\n",
    "\\end{equation*}"
   ]
  },
  {
   "cell_type": "markdown",
   "metadata": {
    "collapsed": true,
    "slideshow": {
     "slide_type": "slide"
    }
   },
   "source": [
    "### Penalty function\n",
    "\n",
    "$$\n",
    "\\min_x f(x) + \\frac{\\mu}{2}\\sum\\limits_{i=1}^mg^2_i(x) + \\frac{\\mu}{2}\\sum\\limits_{j=1}^p (\\max(0, h_j(x)))^2,\n",
    "$$\n",
    "where $\\mu > 0$\n",
    "- Difference from the equality constrained problem: second derivative of penalty function is discontinuous and consequently penalty function is no longer twice continuously differentiable"
   ]
  },
  {
   "cell_type": "markdown",
   "metadata": {
    "slideshow": {
     "slide_type": "slide"
    }
   },
   "source": [
    "### Experiment\n",
    "\n",
    "Consider the problem\n",
    "\\begin{equation*}\n",
    "\\begin{split}\n",
    "& \\min \\|x\\|_2 \\\\\n",
    "\\text{s.t. } & Ax = b\n",
    "\\end{split}\n",
    "\\end{equation*}\n",
    " \n",
    "and solve it with the penalty functions"
   ]
  },
  {
   "cell_type": "code",
   "execution_count": 1,
   "metadata": {
    "slideshow": {
     "slide_type": "slide"
    }
   },
   "outputs": [
    {
     "name": "stdout",
     "output_type": "stream",
     "text": [
      "Optimal value from CVXPY = 0.8556575455477898\n"
     ]
    }
   ],
   "source": [
    "import cvxpy\n",
    "import numpy as np\n",
    "import matplotlib.pyplot as plt\n",
    "%matplotlib inline\n",
    "plt.rc(\"text\", usetex=True)\n",
    "\n",
    "num_iters = 10\n",
    "n = 20\n",
    "m = 10\n",
    "A = np.random.randn(m, n)\n",
    "b = np.random.randn(m, 1)\n",
    "\n",
    "# Initialize problem\n",
    "x = cvxpy.Variable(shape=(n, 1))\n",
    "f = cvxpy.norm(x, 2)\n",
    "\n",
    "# Solve with CVXPY.\n",
    "cvxpy.Problem(cvxpy.Minimize(f), [A*x == b]).solve()\n",
    "cvxpy_f = f.value\n",
    "print (\"Optimal value from CVXPY =\", f.value)"
   ]
  },
  {
   "cell_type": "code",
   "execution_count": 2,
   "metadata": {
    "slideshow": {
     "slide_type": "slide"
    }
   },
   "outputs": [
    {
     "name": "stdout",
     "output_type": "stream",
     "text": [
      "Optimal value from method of augmented Lagrangian = 0.8549282692100597\n"
     ]
    }
   ],
   "source": [
    "# Solve with method of augmented Lagrangian\n",
    "resid = A*x - b\n",
    "mu = cvxpy.Parameter(value=1, nonneg=True)\n",
    "penal_f = f + (mu/2.)*cvxpy.sum_squares(resid)\n",
    "res_conv = []\n",
    "f_conv = []\n",
    "for t in range(num_iters):\n",
    "    cvxpy.Problem(cvxpy.Minimize(penal_f)).solve()\n",
    "    mu.value = mu.value * 2\n",
    "    res_conv.append(np.linalg.norm(resid.value))\n",
    "    f_conv.append(f.value)\n",
    "\n",
    "print(\"Optimal value from method of augmented Lagrangian =\", f.value)"
   ]
  },
  {
   "cell_type": "code",
   "execution_count": 3,
   "metadata": {
    "slideshow": {
     "slide_type": "slide"
    }
   },
   "outputs": [
    {
     "data": {
      "image/png": "[encoded data removed]",
      "text/plain": [
       "<matplotlib.figure.Figure at 0x103269e10>"
      ]
     },
     "metadata": {},
     "output_type": "display_data"
    }
   ],
   "source": [
    "plt.figure(figsize=(8, 6))\n",
    "fontsize=20\n",
    "plt.plot(f_conv, label=\"Penalty\")\n",
    "plt.plot(np.ones(num_iters) * cvxpy_f, label=\"CVXPy\")\n",
    "plt.legend(fontsize=fontsize)\n",
    "plt.xlabel(\"Number of iterations, $k$\", fontsize=fontsize)\n",
    "plt.ylabel(\"Objective, $f(x_k)$\", fontsize=fontsize)\n",
    "plt.xticks(fontsize=fontsize)\n",
    "_ = plt.yticks(fontsize=fontsize)"
   ]
  },
  {
   "cell_type": "code",
   "execution_count": 4,
   "metadata": {
    "slideshow": {
     "slide_type": "slide"
    }
   },
   "outputs": [
    {
     "data": {
      "image/png": "[encoded data removed]",
      "text/plain": [
       "<matplotlib.figure.Figure at 0x10328ccc0>"
      ]
     },
     "metadata": {},
     "output_type": "display_data"
    }
   ],
   "source": [
    "plt.figure(figsize=(8, 6))\n",
    "fontsize=20\n",
    "plt.semilogy(res_conv)\n",
    "plt.xlabel(\"Number of iterations, $k$\", fontsize=fontsize)\n",
    "plt.ylabel(\"Norm of residuals, $\\|Ax_k - b\\|_2$\", fontsize=fontsize)\n",
    "plt.xticks(fontsize=fontsize)\n",
    "_ = plt.yticks(fontsize=fontsize)"
   ]
  },
  {
   "cell_type": "markdown",
   "metadata": {
    "slideshow": {
     "slide_type": "slide"
    }
   },
   "source": [
    "## Pro & Contra\n",
    "\n",
    "Pro\n",
    "\n",
    "- automatic way to convert any *constrained* optimizatiomn problem to *unconstrained* one\n",
    "- you don't need to find initial guess\n",
    "- somitemes small violation of constraints are acceptable\n",
    "- general scheme is simple to implement\n",
    "\n",
    "Contra\n",
    "\n",
    "- solution of the unconstrained optimization problen is not always solutiuon of the constrained original problem\n",
    "- if objective function of the original problem is defined only on the original feasible set, then penalty method is inapplicable\n",
    "- quadratic approximation $Q(x, \\mu)$ may be inadequate"
   ]
  },
  {
   "cell_type": "markdown",
   "metadata": {
    "collapsed": true,
    "slideshow": {
     "slide_type": "slide"
    }
   },
   "source": [
    "## Augmented Lagrangian method\n",
    "**Motivation:** in the penalty method solutions of the subproblems can violate constraints and it is known only that\n",
    "\n",
    "$$\n",
    "g_i(x^*_k) \\approx \\frac{\\lambda^*}{\\mu_k} \\to 0, \\quad \\mu_k \\to \\infty\n",
    "$$\n",
    "\n",
    "Is it possible to fix $Q(x, \\mu)$ in a way to prevent constraints violation?\n",
    "\n",
    "**Idea:** add penalty not to the objective function, but to the Lagrangian. It is analogue of the primal-dual method, because one iteration performs updating both primal and dual variables."
   ]
  },
  {
   "cell_type": "markdown",
   "metadata": {
    "collapsed": true,
    "slideshow": {
     "slide_type": "slide"
    }
   },
   "source": [
    "## Equality constrained optimization problem\n",
    "\n",
    "\\begin{equation*}\n",
    "\\begin{split}\n",
    "& \\min f(x)\\\\\n",
    "\\text{s.t. } & g_i(x) = 0, \\; i=1,\\ldots,m\n",
    "\\end{split}\n",
    "\\end{equation*}"
   ]
  },
  {
   "cell_type": "markdown",
   "metadata": {
    "collapsed": true,
    "slideshow": {
     "slide_type": "slide"
    }
   },
   "source": [
    "### Augmented Lagrangian\n",
    "$$\n",
    "M(x, \\lambda, \\mu) = f(x) + \\sum\\limits_{i=1}^m\\lambda_i g_i(x) + \\frac{\\mu}{2}\\sum\\limits_{i=1}^mg^2_i(x)\n",
    "$$\n",
    "\n",
    "Necessary optimality condition for $M(x_k, \\lambda^k, \\mu_k)$\n",
    "$$\n",
    "f'(x_k) + \\sum\\limits_{i=1}^m (\\lambda^k_i + \\mu_k g_i(x_k) ) g'_i(x_k) \\approx 0\n",
    "$$\n",
    "From this follows expression for $\\lambda^{k+1}$\n",
    "$$\n",
    "\\lambda^{k+1}_i = \\lambda^k_i + \\mu_k g_i(x_k)\n",
    "$$"
   ]
  },
  {
   "cell_type": "markdown",
   "metadata": {
    "collapsed": true,
    "slideshow": {
     "slide_type": "slide"
    }
   },
   "source": [
    "### Constraints violation\n",
    "\n",
    "$$\n",
    "g_i(x_k) \\approx \\frac{\\lambda^*_i - \\lambda^k_i}{\\mu_k} \\to 0\n",
    "$$\n",
    "\n",
    "- In the penalty method convergence of equality constraints to zero was of the order of $1/\\mu_k$\n",
    "- In the augmented Lagrangian method convergence to zero is faster, because not only denominator increases, but nominator also converges to zero"
   ]
  },
  {
   "cell_type": "markdown",
   "metadata": {
    "slideshow": {
     "slide_type": "slide"
    }
   },
   "source": [
    "## Equality and inequality constraints problem\n",
    "\\begin{equation*}\n",
    "\\begin{split}\n",
    "& \\min_x f(x)\\\\\n",
    "\\text{s.t. } & g_i(x) = 0, \\; i=1,\\ldots,m \\\\\n",
    "& h_j(x) \\leq 0, \\; j = 1,\\ldots,p\n",
    "\\end{split}\n",
    "\\end{equation*}"
   ]
  },
  {
   "cell_type": "markdown",
   "metadata": {
    "collapsed": true,
    "slideshow": {
     "slide_type": "slide"
    }
   },
   "source": [
    "### Augmented Lagrangian \n",
    "\n",
    "$$\n",
    "M(x, \\mu, \\lambda, \\nu) = f(x) + \\sum\\limits_{i=1}^m \\left[\\lambda_ig_i(x) + \\frac{\\mu}{2}g^2_i(x)\\right] + \\frac{1}{2\\mu}\\sum\\limits_{j=1}^p\\left[ (\\nu_j + \\mu h_j(x))_+^2 - \\nu^2_j \\right],\n",
    "$$\n",
    "where $\\lambda$ are vector of dual variables corresponding to **equality** constraints, $\\nu$ are vector of dual variables corresponding to **inequality** constraints\n",
    "- See the derivation of $M(x, \\mu, \\lambda, \\nu)$ in lecture notes."
   ]
  },
  {
   "cell_type": "markdown",
   "metadata": {
    "slideshow": {
     "slide_type": "slide"
    }
   },
   "source": [
    "### Updating of dual variables corresponding to inequalities constraints\n",
    "$$\n",
    "\\nu^{k+1}_j = (\\nu^k_j + \\mu_k h_j(x_k))_+\n",
    "$$"
   ]
  },
  {
   "cell_type": "markdown",
   "metadata": {
    "slideshow": {
     "slide_type": "slide"
    }
   },
   "source": [
    "### Convergence\n",
    "\n",
    "- Convergence is local (initial guess is near optimum in primal and dual variables)\n",
    "- For some sufficiently large $\\mu$, solutions of the subproblems will converge to the solution of the original problem, therefore one should not increase $\\mu$ infinitely\n",
    "- Solving subploblems is easy than in the penalty method because $\\mu$ is bounded above"
   ]
  },
  {
   "cell_type": "markdown",
   "metadata": {
    "slideshow": {
     "slide_type": "slide"
    }
   },
   "source": [
    "## Practical remarks\n",
    "\n",
    "- Augmented Lagrangian method is preferable because solving of subproblems is as difficult as in the penalty method, but its convergence is faster\n",
    "- Penalty method is preferable as regularization of the sequential quadratic programing approach ([SQP](https://en.wikipedia.org/wiki/Sequential_quadratic_programming))\n",
    "- Packages [LACELOT](http://www.numerical.rl.ac.uk/lancelot/blurb.html) and [MINOS](https://en.wikipedia.org/wiki/MINOS_(optimization_software)) use different implementations of the augmented Lagrangian method\n",
    "- The [paper](https://www.dropbox.com/s/rdqcn0fppumreto/MinosvsLancelot.pdf?dl=0) presents comparison of these packages, but they were developed in early 1990s using Fortran"
   ]
  },
  {
   "cell_type": "markdown",
   "metadata": {
    "slideshow": {
     "slide_type": "slide"
    }
   },
   "source": [
    "### Experiment\n",
    "\n",
    "Consider the following problem\n",
    "\\begin{equation*}\n",
    "\\begin{split}\n",
    "& \\min \\|x\\|_2 \\\\\n",
    "\\text{s.t. } & Ax = b\n",
    "\\end{split}\n",
    "\\end{equation*}\n",
    " \n",
    "and solve it with augmented Lagrangian method."
   ]
  },
  {
   "cell_type": "code",
   "execution_count": 1,
   "metadata": {
    "slideshow": {
     "slide_type": "slide"
    }
   },
   "outputs": [
    {
     "name": "stdout",
     "output_type": "stream",
     "text": [
      "Optimal value from CVXPY = 1.00533447260422\n"
     ]
    }
   ],
   "source": [
    "import cvxpy\n",
    "import numpy as np\n",
    "import matplotlib.pyplot as plt\n",
    "%matplotlib inline\n",
    "plt.rc(\"text\", usetex=True)\n",
    "\n",
    "num_iters = 10\n",
    "mu = 1.0\n",
    "n = 20\n",
    "m = 10\n",
    "A = np.random.randn(m, n)\n",
    "b = np.random.randn(m, 1)\n",
    "\n",
    "# Initialize problem\n",
    "x = cvxpy.Variable(shape=(n, 1))\n",
    "f = cvxpy.norm(x, 2)\n",
    "\n",
    "# Solve with CVXPY.\n",
    "cvxpy.Problem(cvxpy.Minimize(f), [A*x == b]).solve()\n",
    "print (\"Optimal value from CVXPY =\", f.value)"
   ]
  },
  {
   "cell_type": "code",
   "execution_count": 2,
   "metadata": {
    "slideshow": {
     "slide_type": "slide"
    }
   },
   "outputs": [
    {
     "name": "stdout",
     "output_type": "stream",
     "text": [
      "Optimal value from method of augmented Lagrangian = 1.0054190329059278\n"
     ]
    }
   ],
   "source": [
    "# Solve with method of augmented Lagrangian\n",
    "resid = A*x - b\n",
    "y = cvxpy.Parameter(shape=(m, 1)) \n",
    "y.value = np.zeros((m, 1))\n",
    "aug_lagr = f + y.T*resid + (mu/2.)*cvxpy.sum_squares(resid)\n",
    "for t in range(num_iters):\n",
    "    cvxpy.Problem(cvxpy.Minimize(aug_lagr)).solve()\n",
    "    y.value += mu*resid.value\n",
    "\n",
    "print(\"Optimal value from method of augmented Lagrangian =\", f.value)"
   ]
  },
  {
   "cell_type": "markdown",
   "metadata": {
    "slideshow": {
     "slide_type": "slide"
    }
   },
   "source": [
    "#### Dependence on the parameter $\\mu$"
   ]
  },
  {
   "cell_type": "code",
   "execution_count": 3,
   "metadata": {
    "slideshow": {
     "slide_type": "slide"
    }
   },
   "outputs": [],
   "source": [
    "mus = [0.1, 1, 10, 100]\n",
    "conv_res = {}\n",
    "conv_obj = {}\n",
    "for mu in mus:\n",
    "    conv_res[mu] = np.zeros(num_iters)\n",
    "    conv_obj[mu] = np.zeros(num_iters)\n",
    "    x = cvxpy.Variable(shape=(n, 1))\n",
    "    f = cvxpy.norm(x, 2)\n",
    "    resid = A*x - b\n",
    "    y = cvxpy.Parameter(shape=(m, 1)) \n",
    "    y.value = np.zeros((m, 1))\n",
    "    aug_lagr = f + y.T*resid + (mu/2.)*cvxpy.sum_squares(resid)\n",
    "    for t in range(num_iters):\n",
    "        cvxpy.Problem(cvxpy.Minimize(aug_lagr)).solve()\n",
    "        y.value += mu*resid.value\n",
    "        conv_res[mu][t] = np.linalg.norm(resid.value)\n",
    "        conv_obj[mu][t] = aug_lagr.value"
   ]
  },
  {
   "cell_type": "code",
   "execution_count": 4,
   "metadata": {
    "slideshow": {
     "slide_type": "slide"
    }
   },
   "outputs": [
    {
     "data": {
      "image/png": "[encoded data removed]",
      "text/plain": [
       "<matplotlib.figure.Figure at 0x107329080>"
      ]
     },
     "metadata": {},
     "output_type": "display_data"
    }
   ],
   "source": [
    "plt.figure(figsize=(8, 6))\n",
    "fontsize=20\n",
    "for mu in mus:\n",
    "    plt.plot(conv_obj[mu], label=r\"$\\mu = {}$\".format(mu))\n",
    "plt.legend(fontsize=fontsize)\n",
    "plt.xlabel(\"Number of iterations, $k$\", fontsize=fontsize)\n",
    "plt.ylabel(\"Augmented Lagrangian, $M_k$\", fontsize=fontsize)\n",
    "plt.xticks(fontsize=fontsize)\n",
    "_ = plt.yticks(fontsize=fontsize)"
   ]
  },
  {
   "cell_type": "code",
   "execution_count": 5,
   "metadata": {
    "slideshow": {
     "slide_type": "slide"
    }
   },
   "outputs": [
    {
     "data": {
      "image/png": "[encoded data removed]",
      "text/plain": [
       "<matplotlib.figure.Figure at 0xb16cd5940>"
      ]
     },
     "metadata": {},
     "output_type": "display_data"
    }
   ],
   "source": [
    "plt.figure(figsize=(8, 6))\n",
    "fontsize=20\n",
    "for mu in mus:\n",
    "    plt.semilogy(conv_res[mu], label=r\"$\\mu = {}$\".format(mu))\n",
    "plt.legend(fontsize=fontsize)\n",
    "plt.xlabel(\"Number of iterations, $k$\", fontsize=fontsize)\n",
    "plt.ylabel(\"Norm of residuals, $\\|Ax_k - b\\|_2$\", fontsize=fontsize)\n",
    "plt.xticks(fontsize=fontsize)\n",
    "_ = plt.yticks(fontsize=fontsize)"
   ]
  },
  {
   "cell_type": "markdown",
   "metadata": {
    "slideshow": {
     "slide_type": "slide"
    }
   },
   "source": [
    "## Recap\n",
    "\n",
    "- Penalty method\n",
    "- Augmented Lagrangian method"
   ]
  }
 ],
 "metadata": {
  "celltoolbar": "Slideshow",
  "kernelspec": {
   "display_name": "Python 3 (cvxpy)",
   "language": "python",
   "name": "cvxpy"
  },
  "language_info": {
   "codemirror_mode": {
    "name": "ipython",
    "version": 3
   },
   "file_extension": ".py",
   "mimetype": "text/x-python",
   "name": "python",
   "nbconvert_exporter": "python",
   "pygments_lexer": "ipython3",
   "version": "3.6.4"
  }
 },
 "nbformat": 4,
 "nbformat_minor": 2
}
