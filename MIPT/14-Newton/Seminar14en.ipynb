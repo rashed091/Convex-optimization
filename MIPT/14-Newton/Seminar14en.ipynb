{
 "cells": [
  {
   "cell_type": "markdown",
   "metadata": {
    "slideshow": {
     "slide_type": "slide"
    }
   },
   "source": [
    "# Seminar 14\n",
    "\n",
    "# Newton method"
   ]
  },
  {
   "cell_type": "markdown",
   "metadata": {
    "slideshow": {
     "slide_type": "slide"
    }
   },
   "source": [
    "## Reminder\n",
    "\n",
    "1. Descent methods\n",
    "2. Descent directions\n",
    "3. Gradient descent\n",
    "4. Step size selection rules\n",
    "5. Convergence theorem\n",
    "6. Experiments"
   ]
  },
  {
   "cell_type": "markdown",
   "metadata": {
    "slideshow": {
     "slide_type": "slide"
    }
   },
   "source": [
    "## Drawbacks of gradient descent\n",
    "\n",
    "- Linear convergence\n",
    "- Dependence on the condition number\n",
    "\n",
    "Can we fix both of them?"
   ]
  },
  {
   "cell_type": "markdown",
   "metadata": {
    "slideshow": {
     "slide_type": "slide"
    }
   },
   "source": [
    "## Idea of Newton method\n",
    "Consider the problem\n",
    "\n",
    "$$\n",
    "\\min\\limits_{x\\ \\in \\mathbb{R}^n} f(x).\n",
    "$$\n",
    "\n",
    "- Gradient descent $\\equiv$ **linear** approximation of $f$\n",
    "- Newton method $\\equiv$ **quadratic** approximation of $f$:\n",
    "\n",
    "$$\n",
    "f(x + h) \\approx f(x) + \\langle f'(x), h \\rangle + \\frac{1}{2}h^{\\top}f''(x)h \\to \\min_{h}\n",
    "$$\n",
    "\n",
    "From the necessary condition follows:\n",
    "\n",
    "$$\n",
    "f'(x) + f''(x) h = 0, \\qquad h^* = -(f''(x))^{-1} f'(x)\n",
    "$$"
   ]
  },
  {
   "cell_type": "markdown",
   "metadata": {
    "slideshow": {
     "slide_type": "slide"
    }
   },
   "source": [
    "### Is the found direction descent?\n",
    "\n",
    "Check sign of the scalar product $\\langle f'(x), h^* \\rangle$.\n",
    "\n",
    "$$\n",
    "\\langle f'(x), h^* \\rangle = -(f')^{\\top}(x) (f''(x))^{-1} f'(x) < 0 \\Leftarrow f''(x) \\succ 0\n",
    "$$\n",
    "\n",
    "**Q:** what if for some $k^*$ hessian becomes indefinite?"
   ]
  },
  {
   "cell_type": "markdown",
   "metadata": {
    "slideshow": {
     "slide_type": "slide"
    }
   },
   "source": [
    "## Newton method\n",
    "\n",
    "- Classical Newton method: $\\alpha_k \\equiv 1$\n",
    "- Damped Newton method: $\\alpha_k$ is selected in every iteration according to given rule\n",
    "\n",
    "```python\n",
    "def NewtonMethod(f, x0, epsilon, **kwargs):\n",
    "    \n",
    "    x = x0\n",
    "    \n",
    "    while True:\n",
    "        \n",
    "        h = ComputeNewtonStep(x, f, **kwargs)\n",
    "        \n",
    "        if StopCriterion(x, f, h, **kwargs) < epsilon:\n",
    "            \n",
    "            break\n",
    "            \n",
    "        alpha = SelectStepSize(x, h, f, **kwargs)\n",
    "            \n",
    "        x = x + alpha * h\n",
    "            \n",
    "    return x\n",
    "\n",
    "```"
   ]
  },
  {
   "cell_type": "markdown",
   "metadata": {
    "slideshow": {
     "slide_type": "slide"
    }
   },
   "source": [
    "## Convergence theorem (Y. E. Nesterov Introduction to convex optimization, $\\S$ 1.2)\n",
    "\n",
    "**Theorem.** Assue that $f(x)$ is\n",
    "- twice differentiable and its hessian is Lipschitz with constant $M$\n",
    "- there exists local minimizer where the hessian is positive definite \n",
    "\n",
    "$$\n",
    "f''(x^*) \\succeq l\\mathbf{I}, \\; l > 0\n",
    "$$\n",
    "\n",
    "- starting point $x_0$ is sufficiently close to the minimizer\n",
    "\n",
    "$$\n",
    "\\|x_0 - x^*\\|_2 \\leq \\frac{2l}{3M}\n",
    "$$\n",
    "\n",
    "Then Newton method convrges **quadratically**:\n",
    "\n",
    "$$\n",
    "\\|x_{k+1} - x^* \\|_2 \\leq \\dfrac{M\\|x_k - x^*\\|^2_2}{2 (l - M\\|x_k - x^*\\|_2)}\n",
    "$$"
   ]
  },
  {
   "cell_type": "markdown",
   "metadata": {
    "slideshow": {
     "slide_type": "slide"
    }
   },
   "source": [
    "### Example\n",
    "\n",
    "Use Newton method to find root of the following function\n",
    "\n",
    "$$\n",
    "\\varphi(t) = \\dfrac{t}{\\sqrt{1+t^2}}\n",
    "$$\n",
    "\n",
    "and find from what interval of $t_0$ it converges"
   ]
  },
  {
   "cell_type": "markdown",
   "metadata": {
    "slideshow": {
     "slide_type": "slide"
    }
   },
   "source": [
    "## Affine invariance\n",
    "\n",
    "Consider function $f(x)$ и non-singular transformation with matrix $A$. \n",
    "\n",
    "Check how Newton method direction will be changed after transformation $A$.\n",
    "\n",
    "Let $x = Ay$ and $g(y) = f(Ay)$. Then\n",
    "\n",
    "$$\n",
    "g(y + u) \\approx g(y) + \\langle g'(y), u \\rangle + \\frac{1}{2} u^{\\top} g''(y) u \\to \\min_{u}\n",
    "$$\n",
    "\n",
    "and\n",
    "\n",
    "$$\n",
    "u^* = -(g''(y))^{-1} g'(y) \\qquad y_{k+1} = y_k - (g''(y_k))^{-1} g'(y_k)\n",
    "$$\n",
    "\n",
    "or"
   ]
  },
  {
   "cell_type": "markdown",
   "metadata": {
    "slideshow": {
     "slide_type": "fragment"
    }
   },
   "source": [
    "\\begin{align*}\n",
    "y_{k+1} & = y_k - (A^{\\top}f''(Ay_k)A)^{-1} A^{\\top}f'(Ay_k)\\\\\n",
    "& = y_k - A^{-1}(f''(Ay_k))^{-1}f'(Ay_k)\n",
    "\\end{align*}\n",
    "\n",
    "Thus,\n",
    "\n",
    "$$\n",
    "Ay_{k+1} = Ay_k - (f''(Ay_k))^{-1}f'(Ay_k) \\quad x_{k+1} = x_k - (f''(x_k))^{-1}f'(x_k)\n",
    "$$\n",
    "\n",
    "Therefore, direction given by Newton method is transformed in the similar way as coordinates!"
   ]
  },
  {
   "cell_type": "markdown",
   "metadata": {
    "slideshow": {
     "slide_type": "slide"
    }
   },
   "source": [
    "### Newton method with hessian modification\n",
    "\n",
    "- How to deal with possible not positive definiteness of the hessian in some iteration?\n",
    "- If $f''(x)$ is not positive definite, use positive definite matrix $f''(x) + \\Delta E$\n",
    "- Matrix $\\Delta E$ can be chosen in different ways using the following problem\n",
    "$$\n",
    "\\Delta E = \\arg\\min \\|\\Delta E\\|, \\quad \\text{s.t. } f''(x) + \\Delta E \\succ 0\n",
    "$$\n",
    "    - $\\|\\cdot\\|_2$: $\\Delta E = \\tau I$, where $\\tau = \\max(0, \\delta - \\lambda_{\\min}(f''(x)))$, where $\\delta > 0$ - given estimate of the minimal eigenvalue of the matrix $f''(x) + \\Delta E$\n",
    "    - What is $\\Delta E$ if one uses $\\|\\cdot\\|_F$?\n",
    "    \n",
    "- As far as $\\lambda(f''(x))$ is usually unavailable in every iteration, it is possible to modify Cholesky factorization algorithm such that it gives factor for the matrix $f''(x) + \\Delta E$ instead of the initial matrix  $f''(x)$"
   ]
  },
  {
   "cell_type": "markdown",
   "metadata": {
    "slideshow": {
     "slide_type": "slide"
    }
   },
   "source": [
    "## Computational complexity and experiments"
   ]
  },
  {
   "cell_type": "markdown",
   "metadata": {
    "collapsed": true,
    "slideshow": {
     "slide_type": "fragment"
    }
   },
   "source": [
    "Bottlenecks in Newton method:\n",
    "\n",
    "- composing and storing of hessian\n",
    "- solving of linear system\n",
    "\n",
    "$$\n",
    "f''(x_k)h = -f'(x_k)\n",
    "$$"
   ]
  },
  {
   "cell_type": "markdown",
   "metadata": {
    "slideshow": {
     "slide_type": "slide"
    }
   },
   "source": [
    "### Test problem \n",
    "\n",
    "Remember problem of finding analytical center of the inequality sustem $Ax \\leq 1$ subject to $|x_i| \\leq 1$\n",
    "\n",
    "$$\n",
    "f(x) = - \\sum_{i=1}^m \\log(1 - a_i^{\\top}x) - \\sum\\limits_{i = 1}^n \\log (1 - x^2_i) \\to \\min_x\n",
    "$$\n",
    "\n",
    "$$\n",
    "f'(x) - ? \\quad f''(x) - ?\n",
    "$$ "
   ]
  },
  {
   "cell_type": "code",
   "execution_count": 1,
   "metadata": {
    "slideshow": {
     "slide_type": "fragment"
    }
   },
   "outputs": [],
   "source": [
    "import numpy as np\n",
    "\n",
    "USE_COLAB = False\n",
    "if USE_COLAB:\n",
    "    !pip install git+https://github.com/amkatrutsa/liboptpy\n",
    "        \n",
    "import liboptpy.unconstr_solvers as methods\n",
    "import liboptpy.step_size as ss\n",
    "\n",
    "n = 1000\n",
    "m = 200\n",
    "x0 = np.zeros((n,))\n",
    "A = np.random.rand(n, m) * 10"
   ]
  },
  {
   "cell_type": "markdown",
   "metadata": {
    "slideshow": {
     "slide_type": "slide"
    }
   },
   "source": [
    "#### Exact solution with CVXPy"
   ]
  },
  {
   "cell_type": "code",
   "execution_count": 2,
   "metadata": {
    "slideshow": {
     "slide_type": "fragment"
    }
   },
   "outputs": [
    {
     "name": "stdout",
     "output_type": "stream",
     "text": [
      "----------------------------------------------------------------------------\n",
      "\tSCS v1.2.6 - Splitting Conic Solver\n",
      "\t(c) Brendan O'Donoghue, Stanford University, 2012-2016\n",
      "----------------------------------------------------------------------------\n",
      "Lin-sys: sparse-indirect, nnz in A = 205200, CG tol ~ 1/iter^(2.00)\n",
      "eps = 1.00e-03, alpha = 1.50, max_iters = 1000, normalize = 1, scale = 1.00\n",
      "Variables n = 3200, constraints m = 6600\n",
      "Cones:\tsoc vars: 3000, soc blks: 1000\n",
      "\texp vars: 3600, dual exp vars: 0\n",
      "Setup time: 1.23e-02s\n",
      "----------------------------------------------------------------------------\n",
      " Iter | pri res | dua res | rel gap | pri obj | dua obj | kap/tau | time (s)\n",
      "----------------------------------------------------------------------------\n",
      "     0|      inf       inf       nan      -inf      -inf       inf  3.26e-02 \n",
      "   100| 1.62e+01  3.27e+00  9.82e-03 -8.79e+03 -8.62e+03  1.82e-13  1.30e+00 \n",
      "   200| 1.44e+00  9.74e-01  1.70e-03 -1.94e+03 -1.93e+03  3.25e-13  2.60e+00 \n",
      "   300| 4.54e-01  5.36e-01  2.15e-04 -1.60e+03 -1.60e+03  3.44e-13  3.76e+00 \n",
      "   400| 2.20e-01  2.78e-01  1.06e-04 -1.47e+03 -1.47e+03  3.45e-13  5.08e+00 \n",
      "   500| 1.30e-01  1.30e-01  1.62e-04 -1.41e+03 -1.41e+03  3.43e-13  6.70e+00 \n",
      "   600| 7.59e-02  4.81e-02  1.24e-04 -1.38e+03 -1.39e+03  3.40e-13  8.32e+00 \n",
      "   700| 3.82e-02  9.90e-03  6.79e-05 -1.37e+03 -1.37e+03  3.38e-13  9.85e+00 \n",
      "   800| 1.61e-02  3.15e-03  2.64e-05 -1.37e+03 -1.37e+03  3.37e-13  1.13e+01 \n",
      "   900| 7.50e-03  4.82e-03  5.41e-06 -1.37e+03 -1.37e+03  3.37e-13  1.28e+01 \n",
      "  1000| 6.01e-03  3.14e-03  1.71e-06 -1.37e+03 -1.37e+03  3.37e-13  1.43e+01 \n",
      "----------------------------------------------------------------------------\n",
      "Status: Solved/Inaccurate\n",
      "Hit max_iters, solution may be inaccurate\n",
      "Timing: Solve time: 1.43e+01s\n",
      "\tLin-sys: avg # CG iterations: 3.41, avg solve time: 4.76e-03s\n",
      "\tCones: avg projection time: 9.37e-03s\n",
      "----------------------------------------------------------------------------\n",
      "Error metrics:\n",
      "dist(s, K) = 7.0658e-04, dist(y, K*) = 1.1102e-16, s'y/|s||y| = -1.5183e-11\n",
      "|Ax + s - b|_2 / (1 + |b|_2) = 6.0093e-03\n",
      "|A'y + c|_2 / (1 + |c|_2) = 3.1396e-03\n",
      "|c'x + b'y| / (1 + |c'x| + |b'y|) = 1.7108e-06\n",
      "----------------------------------------------------------------------------\n",
      "c'x = -1367.4802, -b'y = -1367.4755\n",
      "============================================================================\n",
      "Optimal value = -1367.4801856097865\n"
     ]
    }
   ],
   "source": [
    "import cvxpy as cvx\n",
    "x = cvx.Variable((n, 1))\n",
    "\n",
    "obj = cvx.Minimize(cvx.sum(-cvx.log(1 - A.T * x)) - \n",
    "                   cvx.sum(cvx.log(1 - cvx.square(x))))\n",
    "prob = cvx.Problem(obj)\n",
    "prob.solve(solver=\"SCS\", verbose=True, max_iters=1000)\n",
    "print(\"Optimal value =\", prob.value)"
   ]
  },
  {
   "cell_type": "markdown",
   "metadata": {
    "slideshow": {
     "slide_type": "slide"
    }
   },
   "source": [
    "#### Auxilliary functions"
   ]
  },
  {
   "cell_type": "code",
   "execution_count": 3,
   "metadata": {
    "slideshow": {
     "slide_type": "fragment"
    }
   },
   "outputs": [],
   "source": [
    "f = lambda x: -np.sum(np.log(1 - A.T.dot(x))) - np.sum(np.log(1 - x*x))\n",
    "grad_f = lambda x: np.sum(A.dot(np.diagflat(1 / (1 - A.T.dot(x)))), axis=1) + 2 * x / (1 - np.power(x, 2))\n",
    "hess_f = lambda x: (A.dot(np.diagflat(1 / (1 - A.T.dot(x))**2))).dot(A.T) + np.diagflat(2 * (1 + x**2) / (1 - x**2)**2)"
   ]
  },
  {
   "cell_type": "markdown",
   "metadata": {
    "slideshow": {
     "slide_type": "slide"
    }
   },
   "source": [
    "#### Implementation of Newton method"
   ]
  },
  {
   "cell_type": "code",
   "execution_count": 4,
   "metadata": {
    "slideshow": {
     "slide_type": "fragment"
    }
   },
   "outputs": [],
   "source": [
    "def Newton(f, gradf, hessf, x0, epsilon, num_iter, line_search, \n",
    "                    disp=False, callback=None, **kwargs):\n",
    "    x = x0.copy()\n",
    "    iteration = 0\n",
    "    opt_arg = {\"f\": f, \"grad_f\": gradf}\n",
    "    for key in kwargs:\n",
    "        opt_arg[key] = kwargs[key]\n",
    "    while True:\n",
    "        gradient = gradf(x)\n",
    "        hess = hessf(x)\n",
    "        h = np.linalg.solve(hess, -gradient)\n",
    "        alpha = line_search(x, h, **opt_arg)\n",
    "        x = x + alpha * h\n",
    "        if callback is not None:\n",
    "            callback(x)\n",
    "        iteration += 1\n",
    "        if disp:\n",
    "            print(\"Current function val =\", f(x))\n",
    "            print(\"Current gradient norm = \", np.linalg.norm(gradf(x)))\n",
    "        if np.linalg.norm(gradf(x)) < epsilon:\n",
    "            break\n",
    "        if iteration >= num_iter:\n",
    "            break\n",
    "    res = {\"x\": x, \"num_iter\": iteration, \"tol\": np.linalg.norm(gradf(x))}\n",
    "    return res"
   ]
  },
  {
   "cell_type": "markdown",
   "metadata": {
    "slideshow": {
     "slide_type": "slide"
    }
   },
   "source": [
    "#### Comparison with gradient descent"
   ]
  },
  {
   "cell_type": "code",
   "execution_count": 5,
   "metadata": {
    "slideshow": {
     "slide_type": "fragment"
    }
   },
   "outputs": [
    {
     "name": "stdout",
     "output_type": "stream",
     "text": [
      "Required tolerance achieved!\n",
      "Convergence in 14 iterations\n",
      "Function value = -1368.6652957529736\n",
      "Norm of gradient = 7.596291750182202e-10\n",
      "Required tolerance achieved!\n",
      "Convergence in 47 iterations\n",
      "Function value = -1368.6652957529739\n",
      "Norm of gradient = 3.0014120117562214e-09\n"
     ]
    },
    {
     "name": "stderr",
     "output_type": "stream",
     "text": [
      "/Users/alex/anaconda3/envs/cvxpy/lib/python3.6/site-packages/ipykernel_launcher.py:1: RuntimeWarning: invalid value encountered in log\n",
      "  \"\"\"Entry point for launching an IPython kernel.\n"
     ]
    }
   ],
   "source": [
    "newton = methods.so.NewtonMethod(f, grad_f, hess_f, ss.Backtracking(\"Armijo\", rho=0.9, beta=0.1, init_alpha=1.))\n",
    "x_newton = newton.solve(x0, tol=1e-6, max_iter=50, disp=True)\n",
    "\n",
    "gd = methods.fo.GradientDescent(f, grad_f, ss.Backtracking(\"Armijo\", rho=0.9, beta=0.1, init_alpha=1.))\n",
    "x_gd = gd.solve(x0, tol=1e-6, max_iter=50, disp=True)"
   ]
  },
  {
   "cell_type": "code",
   "execution_count": 6,
   "metadata": {
    "slideshow": {
     "slide_type": "slide"
    }
   },
   "outputs": [
    {
     "data": {
      "text/plain": [
       "<matplotlib.legend.Legend at 0xd2456fe80>"
      ]
     },
     "execution_count": 6,
     "metadata": {},
     "output_type": "execute_result"
    },
    {
     "data": {
      "image/png": "[encoded data removed]",
      "text/plain": [
       "<matplotlib.figure.Figure at 0x10fd1eb00>"
      ]
     },
     "metadata": {},
     "output_type": "display_data"
    }
   ],
   "source": [
    "%matplotlib inline\n",
    "import matplotlib.pyplot as plt\n",
    "\n",
    "if not USE_COLAB:\n",
    "    plt.rc(\"text\", usetex=True)\n",
    "    \n",
    "plt.figure(figsize=(12, 8))\n",
    "# Newton\n",
    "plt.semilogy([np.linalg.norm(grad_f(x)) for x in newton.get_convergence()], label=\"$\\| f'(x_k) \\|^{N}_2$\")\n",
    "# Gradient\n",
    "plt.semilogy([np.linalg.norm(grad_f(x)) for x in gd.get_convergence()], label=\"$\\| f'(x_k) \\|^{G}_2$\")\n",
    "plt.xlabel(r\"Number of iterations, $k$\", fontsize=26)\n",
    "plt.ylabel(r\"Convergence rate\", fontsize=26)\n",
    "plt.xticks(fontsize = 24)\n",
    "plt.yticks(fontsize = 24)\n",
    "plt.legend(loc=\"best\", fontsize=24)"
   ]
  },
  {
   "cell_type": "markdown",
   "metadata": {
    "slideshow": {
     "slide_type": "slide"
    }
   },
   "source": [
    "#### Comparison of running time"
   ]
  },
  {
   "cell_type": "code",
   "execution_count": 7,
   "metadata": {
    "slideshow": {
     "slide_type": "fragment"
    }
   },
   "outputs": [
    {
     "name": "stdout",
     "output_type": "stream",
     "text": [
      "612 ms ± 138 ms per loop (mean ± std. dev. of 7 runs, 1 loop each)\n"
     ]
    },
    {
     "name": "stderr",
     "output_type": "stream",
     "text": [
      "/Users/alex/anaconda3/envs/cvxpy/lib/python3.6/site-packages/ipykernel_launcher.py:1: RuntimeWarning: invalid value encountered in log\n",
      "  \"\"\"Entry point for launching an IPython kernel.\n"
     ]
    },
    {
     "name": "stdout",
     "output_type": "stream",
     "text": [
      "256 ms ± 41.6 ms per loop (mean ± std. dev. of 7 runs, 1 loop each)\n"
     ]
    }
   ],
   "source": [
    "%timeit newton.solve(x0, tol=1e-6, max_iter=50)\n",
    "%timeit gd.solve(x0, tol=1e-6, max_iter=50)"
   ]
  },
  {
   "cell_type": "markdown",
   "metadata": {
    "slideshow": {
     "slide_type": "fragment"
    }
   },
   "source": [
    "- Newton method gives very accurate solution in long time\n",
    "- Gradient descent gives not very accurate solution but much faster\n",
    "- Sometimes inaccurate solution is not critical issue, therefore gradient descent can be the method of choice"
   ]
  },
  {
   "cell_type": "markdown",
   "metadata": {
    "slideshow": {
     "slide_type": "slide"
    }
   },
   "source": [
    "## Pro & Contra\n",
    "\n",
    "Pro\n",
    "\n",
    "- quadratic convergence near the solution\n",
    "- high accurate solution\n",
    "- affine invariance\n",
    "\n",
    "Contra\n",
    "\n",
    "- it is necessary to store hessian in every iteration: $O(n^2)$ memory\n",
    "- it is necessary to solve linear systems: $O(n^3)$ flops in general case\n",
    "- hessian can be singular or ill-conditioned"
   ]
  },
  {
   "cell_type": "markdown",
   "metadata": {
    "slideshow": {
     "slide_type": "slide"
    }
   },
   "source": [
    "## Summary of comparison with GD (B.T. Polyak Introduction to optimization, Ch. 3, $\\S$ 1 )\n",
    "\n",
    "Method | Convergence speed | Complexity | Affine invariance | Restrictions to $f(x)$\n",
    ":---: | :---: | :---: | :---: | :---\n",
    "GD | Global linear | $O(n) + $ step size search | No | Differentiable, Lipschits gradient\n",
    "Newton method | Local quadratic | $O(n^3) + $ step size search | Yes | Twice differentiable; Lipschitz and positive definite hessian "
   ]
  },
  {
   "cell_type": "markdown",
   "metadata": {
    "slideshow": {
     "slide_type": "slide"
    }
   },
   "source": [
    "## What's next?\n",
    "\n",
    "- **Complexity:** how to deal with solving linear systems and storing of hessian?\n",
    "- **Convergence:** how to combine local quadratic and global linear convegence? It's desirable to get global quadratic convergence!\n",
    "- Restrictions to $f(x)$ should be minimized\n",
    "- Quasi-Newton methods often solve these issues"
   ]
  },
  {
   "cell_type": "markdown",
   "metadata": {
    "slideshow": {
     "slide_type": "slide"
    }
   },
   "source": [
    "## Recap\n",
    "\n",
    "1. Newton method\n",
    "2. Convergence theorem\n",
    "4. Comparison with gradient descent\n",
    "5. Experiments"
   ]
  }
 ],
 "metadata": {
  "anaconda-cloud": {},
  "celltoolbar": "Slideshow",
  "kernelspec": {
   "display_name": "Python 3 (cvxpy)",
   "language": "python",
   "name": "cvxpy"
  },
  "language_info": {
   "codemirror_mode": {
    "name": "ipython",
    "version": 3
   },
   "file_extension": ".py",
   "mimetype": "text/x-python",
   "name": "python",
   "nbconvert_exporter": "python",
   "pygments_lexer": "ipython3",
   "version": "3.6.8"
  }
 },
 "nbformat": 4,
 "nbformat_minor": 1
}
