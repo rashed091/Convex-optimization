{
 "cells": [
  {
   "cell_type": "markdown",
   "metadata": {
    "slideshow": {
     "slide_type": "slide"
    }
   },
   "source": [
    "# DCP & Autograd \n",
    "# или \n",
    "# как правильно ставить задачи и автоматически вычислять градиенты"
   ]
  },
  {
   "cell_type": "markdown",
   "metadata": {
    "slideshow": {
     "slide_type": "slide"
    }
   },
   "source": [
    "## Задача оптимизации\n",
    "\n",
    "\\begin{align*}\n",
    "& \\min_{x \\in \\mathbb{R}^n} \\; f_0(x)\\\\\n",
    "\\text{s.t. } & f_i(x) \\leq 0, \\; i = 1,\\ldots, m \\\\\n",
    "& h_j(x) = 0, \\; j = 1,\\ldots,p \n",
    "\\end{align*}\n",
    "\n",
    "- Возможность эффективного решения сильно зависит от свойств $f_0, f_i, h_j$\n",
    "- Если $f_0, f_i, h_j$ аффинны, то это задача линейного программирования (LP), которая может быть решена крайне быстро\n",
    "- Простые задачи с нелинейными $f_i, h_j$ могут быть очень сложными для решения"
   ]
  },
  {
   "cell_type": "markdown",
   "metadata": {
    "slideshow": {
     "slide_type": "slide"
    }
   },
   "source": [
    "## Задача выпуклой оптимизации\n",
    "\n",
    "\\begin{align*}\n",
    "& \\min_{x \\in \\mathbb{R}^n} f_0(x)\\\\\n",
    "\\text{s.t. } & f_i(x) \\leq 0, \\; i = 1,\\ldots,m \\\\\n",
    "& Ax = b \\\\\n",
    "\\end{align*}\n",
    "\n",
    "- $f_0, f_i$ выпуклые функции: для всех $x, y$ и $\\alpha \\in [0, 1]$\n",
    "\n",
    "$$\n",
    "f(\\alpha x + (1 - \\alpha)y) \\leq \\alpha f(x) + (1 - \\alpha)f(y)\n",
    "$$\n",
    "\n",
    "- Ограничения типа равенств аффинны"
   ]
  },
  {
   "cell_type": "markdown",
   "metadata": {
    "slideshow": {
     "slide_type": "slide"
    }
   },
   "source": [
    "### Свойства задач выпуклой оптимизации\n",
    "\n",
    "- Подмножество задач оптимизации: LP - частный случай\n",
    "- Могут выглядеть очень сложно, однако решаются также эффективно как и задача LP\n",
    "- Встречаются гораздо чаще, чем можно было бы подумать\n",
    "- Очень много приложений, часть обсудили на прошлом семинаре"
   ]
  },
  {
   "cell_type": "markdown",
   "metadata": {
    "slideshow": {
     "slide_type": "slide"
    }
   },
   "source": [
    "### Общие подходы к использованию выпуклости\n",
    "\n",
    "- Надеяться/предполагать/делать вид, что $f_i$ выпуклы\n",
    "    - Просто для пользователя\n",
    "    - Теряется часть преимуществ выпуклых задач\n",
    "- Проверка выпуклости задачи перед решением\n",
    "    - в общем случае может быть затруднительна  \n",
    "- Построение выпуклой задачи из элементарных блоков\n",
    "    - пользователь следует фиксированному набору правил при определении $f_i$\n",
    "    - выпуклость проверяется автоматически"
   ]
  },
  {
   "cell_type": "markdown",
   "metadata": {
    "slideshow": {
     "slide_type": "slide"
    }
   },
   "source": [
    "### Как проверить выпуклость?\n",
    "\n",
    "- Определение, критерии первого или второго порядка, например $\\nabla^2 f(x) \\succeq 0$\n",
    "- Исчисление выпуклых функций: построение $f$ специальным образом\n",
    "    - Дан набор простых функций, выпуклость которых известна\n",
    "    - Даны сочетания и преобразования, не меняющие выпуклость"
   ]
  },
  {
   "cell_type": "markdown",
   "metadata": {
    "slideshow": {
     "slide_type": "slide"
    }
   },
   "source": [
    "### Примеры простых выпуклых функций\n",
    "\n",
    "- При $x > 0$: $x^p$ для $p < 0, \\; p \\geq 1$ и $x ^{-p}$ для $p \\in [0, 1]$\n",
    "- $e^x, \\; -\\log x, \\; x\\log x$\n",
    "- $\\langle a, x \\rangle + b$\n",
    "- $\\|x\\|$ - любая норма\n",
    "- $\\max \\{x_1, \\ldots, x_n \\}$ и $\\log(e^{x_1} + \\ldots + e^{x_n})$\n",
    "- $\\log\\det X^{-1}$ для $X \\in \\mathbb{S}^n_{+}$"
   ]
  },
  {
   "cell_type": "markdown",
   "metadata": {
    "slideshow": {
     "slide_type": "slide"
    }
   },
   "source": [
    "### Правила исчисления выпуклых функций\n",
    "\n",
    "- Умножение на неотрицательную константу: $f$ выпукла и $\\alpha > 0$, тогда $\\alpha f$ выпукла\n",
    "- Сложение: $f, g$ выпуклы, тогда $f + g$ выпукла\n",
    "- Композиция с аффинной функцией: $f$ выпукла, тогда $f(Ax + b)$ также выпукла\n",
    "- Взятие максимума: $f_1,\\ldots, f_m$ выпуклы, тогда $\\max\\limits_{i=1,\\ldots,m} \\{f_i(x)\\}$ выпукла\n",
    "- Композиция: если $h$ выпукла и возрастает, $f$ выпукла, тогда $g(x) = h(f(x))$ выпукла\n",
    "- И многие другие..."
   ]
  },
  {
   "cell_type": "markdown",
   "metadata": {
    "slideshow": {
     "slide_type": "slide"
    }
   },
   "source": [
    "#### Примеры\n",
    "\n",
    "- $f(x) = \\max\\limits_{i=1,\\ldots,m} (\\langle a_i, x \\rangle + b_i)$\n",
    "- $\\ell_1$ регуляризация задачи наименьших квадратов\n",
    "\n",
    "$$\n",
    "f(x) = \\frac{1}{2} \\|Ax - b\\|_2^2 + \\lambda \\|x\\|_1, \\quad \\lambda > 0\n",
    "$$\n",
    "\n",
    "- Максимальное собственное значение $A \\in \\mathbb{S}^n$: \n",
    "\n",
    "$$\n",
    "\\lambda_{\\max}(A) = \\sup\\limits_{\\|x\\|_2 = 1} (x^{\\top}Ax )\n",
    "$$\n"
   ]
  },
  {
   "cell_type": "markdown",
   "metadata": {
    "slideshow": {
     "slide_type": "slide"
    }
   },
   "source": [
    "### Как решать задачу выпуклой оптимизации?\n",
    "\n",
    "- Использовать \"стандартный\" солвер (для LP, QP, SDP...), примеры таких солверов были на прошлом семинаре (например [sdpt](https://github.com/SQLP/SDPT3) или [MOSEK](https://www.mosek.com/))\n",
    "    - лёгкий путь\n",
    "    - задача **должна быть** в стандартной форме для выбранного солвера\n",
    "    - сложность разработки компенсируется количеством пользователей\n",
    "- Придумать и/или реализовать метод самостоятельно\n",
    "    - Трудоёмко\n",
    "    - Может быть эффективнее для конкретной задаче\n",
    "- Преобразовать задачу к стандартному виду и использовать стандартный солвер\n",
    "    - Расширяет множество задач, подходящих для решения\n",
    "    - Преобразование может быть громоздким"
   ]
  },
  {
   "cell_type": "markdown",
   "metadata": {
    "slideshow": {
     "slide_type": "slide"
    }
   },
   "source": [
    "#### Методы внутренней точки (IPM) для выпуклых задач\n",
    "- [Interior-Point Polynomial Algorithms in Convex Programming, Y. Nesterov, A. Nemirovskii, 1994](https://epubs.siam.org/doi/abs/10.1137/1.9781611970791)\n",
    "- Обзор про IPM см. [тут](https://people.kth.se/~andersf/doc/sirev41494.pdf)\n",
    "- Применим для **гладких** $f_i$ и задач в конической форме (SOCP, SDP)\n",
    "\n",
    "\\begin{align*}\n",
    "& \\min f_0(x)\\\\\n",
    "\\text{s.t. } & Ax = b\\\\\n",
    "& x \\in \\mathcal{K},\n",
    "\\end{align*}\n",
    "\n",
    "где $\\mathcal{K}$ - некоторый конус (обычно $\\mathbb{R}^n_{+}$, $\\mathbb{S}^n_{+}$ или конус второго порядка) или декартово произведение конусов"
   ]
  },
  {
   "cell_type": "markdown",
   "metadata": {
    "slideshow": {
     "slide_type": "slide"
    }
   },
   "source": [
    "#### А если IPM нельзя применить к задаче?\n",
    "\n",
    "\n",
    "- Пример: $\\ell_1$ регуляризация задачи наименьших квадратов\n",
    "\n",
    "$$\n",
    "f(x) = \\frac{1}{2} \\|Ax - b\\|_2^2 + \\lambda \\|x\\|_1, \\quad \\lambda > 0\n",
    "$$\n",
    "\n",
    "- Задача выпукла, но $f$ негладкая!\n",
    "- **Основная идея**: изменить задачу так, чтобы IPM можно было применять\n",
    "- Даже если в новой задаче будет больше переменных и ограничений, она может быть эффективна решена с помощью IPM"
   ]
  },
  {
   "cell_type": "markdown",
   "metadata": {
    "slideshow": {
     "slide_type": "slide"
    }
   },
   "source": [
    "#### Пример\n",
    "\n",
    "- Исходная задача: $n$ переменных, нет ограничений \n",
    "\n",
    "$$\n",
    "\\min_x \\frac{1}{2} \\|Ax - b\\|_2^2 + \\lambda \\|x\\|_1, \\quad \\lambda > 0\n",
    "$$\n",
    "\n",
    "- Введём новую переменную $t \\in \\mathbb{R}^n$ и новые ограничения $|x_i| \\leq t_i$:\n",
    "\n",
    "\\begin{align*}\n",
    "& \\min_{(x, t)} \\frac{1}{2} \\|Ax - b\\|_2^2 + \\lambda \\mathbf{1}^{\\top}t\\\\\n",
    "\\text{s.t. } & -t \\leq x \\leq t\n",
    "\\end{align*}\n",
    "\n",
    "- В новой задаче $2n$ переменных и $2n$ ограничений, но она **гладкая**! \n",
    "- **Важно**: задачи эквивалентны! Решив одну, получим решение другой и наоборот"
   ]
  },
  {
   "cell_type": "markdown",
   "metadata": {
    "slideshow": {
     "slide_type": "slide"
    }
   },
   "source": [
    "## Преобразование задачи и эффективность решения\n",
    "\n",
    "- Дана выпуклая задача $P_0$\n",
    "- Выполняются последовательные эквивалентные преобразования\n",
    "\n",
    "$$ \n",
    "P_0 \\to P_1 \\to \\ldots \\to P_K,\n",
    "$$\n",
    "\n",
    "где $P_K$ - задача, которую можно решать IPM\n",
    "- Эффективное решение $P_K$\n",
    "- Обратное преобразование решения $P_K$ в решение $P_0$\n",
    "- $P_K$ может иметь больше ограничений и/или переменных, но наличие определённой структуры и высокая эффективность IPM компенсируют это"
   ]
  },
  {
   "cell_type": "markdown",
   "metadata": {
    "slideshow": {
     "slide_type": "slide"
    }
   },
   "source": [
    "### Примеры преобразований задач\n",
    "\n",
    "- Правила преобразования выпуклых функций порождают преобразования задач\n",
    "- $\\max \\{ f_1(x), f_2(x) \\}$   \n",
    "    - Вводим новую переменную $t = \\max \\{ f_1(x), f_2(x) \\}$\n",
    "    - Добавляем ограничения $f_1(x) \\leq t, \\; f_2(x) \\leq t$\n",
    "- $h(f(x))$    \n",
    "    - Вводим новую переменную $t = f(x)$\n",
    "    - Добавляем ограничение $f(x) \\leq t$"
   ]
  },
  {
   "cell_type": "markdown",
   "metadata": {
    "slideshow": {
     "slide_type": "slide"
    }
   },
   "source": [
    "### От доказательства выпуклости к применимости IPM\n",
    "\\begin{align*}\n",
    "& \\min_{x \\in \\mathbb{R}^n} f_0(x)\\\\\n",
    "\\text{s.t. } & f_i(x) \\leq 0, \\; i = 1,\\ldots,m \\\\\n",
    "& Ax = b \\\\\n",
    "\\end{align*}\n",
    "\n",
    "\n",
    "- Построение $f_i$ из элементарных функций и правил преобразований даёт доказательство выпуклости\n",
    "- Аналогичный разбор даёт преобразование задачи к форме, состоящей из элементарных функций и аффинных равенств \n",
    "- Если элементарные функции подходят для IPM, преобразование автоматически даёт форму задачи, которая может быть решена IPM"
   ]
  },
  {
   "cell_type": "markdown",
   "metadata": {
    "slideshow": {
     "slide_type": "slide"
    }
   },
   "source": [
    "## Disciplined convex programming (DCP)\n",
    "\n",
    "- Задаются искомые переменные и фиксированные параметры\n",
    "- Целевая функция и ограничения строятся из элементарных функций с помощью правил композиций и сочетаний\n",
    "- Задача выпукла по построению\n",
    "- Автоматически разбирается на элементы\n",
    "- Приводится к форме для запуска IPM\n",
    "- Решается некоторым стандартным пакетом для IPM\n",
    "- Восстанавливается решение исходной задачи\n",
    "\n",
    "\n",
    "Визуализацию и результат разбора можно посмотреть на [сайте](http://dcp.stanford.edu/)"
   ]
  },
  {
   "cell_type": "markdown",
   "metadata": {
    "slideshow": {
     "slide_type": "slide"
    }
   },
   "source": [
    "<img src=\"./dcp_parse.png\" width=800>"
   ]
  },
  {
   "cell_type": "markdown",
   "metadata": {
    "slideshow": {
     "slide_type": "slide"
    }
   },
   "source": [
    "### История\n",
    "\n",
    "- Системы [AMPL](https://ampl.com/), [GAMS](https://en.wikipedia.org/wiki/General_Algebraic_Modeling_System) - 1970-ые\n",
    "- Пакеты для задач SDP/LMI: <tt>sdpsol</tt> (Wu, Boyd),\n",
    "<tt>lmilab</tt> (Gahinet, Nemirovsky), <tt>lmitool</tt> (El Ghaoui) - 1990-ые \n",
    "- <tt>yalmip </tt> (L&ouml;fberg 2000–)\n",
    "- automated convexity checking (Crusius PhD thesis 2002)\n",
    "- disciplined convex programming (DCP) (Grant, Boyd, Ye 2004)\n",
    "- <tt>cvx</tt> (Grant, Boyd, Ye 2005) для MATLAB\n",
    "- <tt>cvxopt</tt> (Dahl, Vandenberghe 2005)\n",
    "- <tt>cvxpy</tt> (Diamond, Boyd 2016) для Python\n",
    "- disciplined geometric programming (DGP) (Agarwal et al 2018) - [paper](https://web.stanford.edu/~boyd/papers/pdf/dgp.pdf)\n"
   ]
  },
  {
   "cell_type": "markdown",
   "metadata": {
    "slideshow": {
     "slide_type": "slide"
    }
   },
   "source": [
    "## Главное по DCP\n",
    "Pro:\n",
    "\n",
    "- Проверка выпуклости и генерация преобразования задачи для IPM\n",
    "- Построение задачи: элементарные выпуклые функции + правила композиций и преобразований \n",
    "- Очень похоже на математическую нотацию\n",
    "\n",
    "Contra:\n",
    "\n",
    "- Не про \"plug & play\" или \"try my code\"\n",
    "\n",
    "<img src=dcp_mem.jpg >\n",
    "\n",
    "- Нельзя записать произвольную задачу и надеяться, что она будет выпукла"
   ]
  },
  {
   "cell_type": "markdown",
   "metadata": {
    "slideshow": {
     "slide_type": "slide"
    }
   },
   "source": [
    "## Солверы для решения задач оптимизации oбщего вида\n",
    "\n",
    "- [ipopt](https://projects.coin-or.org/Ipopt)\n",
    "- [Pyomo](http://www.pyomo.org/)\n",
    "- [Gurobi](http://www.gurobi.com/)"
   ]
  },
  {
   "cell_type": "code",
   "execution_count": 3,
   "metadata": {
    "slideshow": {
     "slide_type": "slide"
    }
   },
   "outputs": [
    {
     "name": "stdout",
     "output_type": "stream",
     "text": [
      "['ECOS', 'ECOS_BB', 'CVXOPT', 'GLPK', 'GLPK_MI', 'SCS', 'MOSEK', 'OSQP']\n"
     ]
    }
   ],
   "source": [
    "import cvxpy as cvx\n",
    "import numpy as np\n",
    "import matplotlib.pyplot as plt\n",
    "%matplotlib inline\n",
    "print(cvx.installed_solvers())\n",
    "\n",
    "USE_COLAB = False\n",
    "if USE_COLAB == False:\n",
    "    plt.rc(\"text\", usetex=True)"
   ]
  },
  {
   "cell_type": "markdown",
   "metadata": {
    "slideshow": {
     "slide_type": "slide"
    }
   },
   "source": [
    "## DCP на примере CVXPy\n",
    "\n",
    "Модельная задача - [compressed sensing](https://www.raeng.org.uk/publications/other/candes-presentation-frontiers-of-engineering)\n",
    "\n",
    "\\begin{align*}\n",
    "& \\min_x \\|x\\|_1\\\\\n",
    "\\text{s.t. } & Ax = b,\n",
    "\\end{align*}\n",
    "\n",
    "где $A \\in \\mathbb{R}^{m \\times n}$ и $n \\gg m$"
   ]
  },
  {
   "cell_type": "markdown",
   "metadata": {
    "slideshow": {
     "slide_type": "slide"
    }
   },
   "source": [
    "### Генерация данных"
   ]
  },
  {
   "cell_type": "code",
   "execution_count": 4,
   "metadata": {
    "slideshow": {
     "slide_type": "subslide"
    }
   },
   "outputs": [
    {
     "name": "stdout",
     "output_type": "stream",
     "text": [
      "Num of nnz in x = 42\n"
     ]
    }
   ],
   "source": [
    "n = 1000\n",
    "m = 10\n",
    "x_true = np.random.randn(n)\n",
    "x_true[np.abs(x_true) > 0.05] = 0\n",
    "print(\"Num of nnz in x = {}\".format(np.sum(x_true != 0)))\n",
    "A = np.random.randn(m, n)\n",
    "b = A.dot(x_true)"
   ]
  },
  {
   "cell_type": "markdown",
   "metadata": {
    "slideshow": {
     "slide_type": "slide"
    }
   },
   "source": [
    "### CVXPy"
   ]
  },
  {
   "cell_type": "code",
   "execution_count": 5,
   "metadata": {
    "slideshow": {
     "slide_type": "subslide"
    }
   },
   "outputs": [
    {
     "name": "stdout",
     "output_type": "stream",
     "text": [
      "-----------------------------------------------------------------\n",
      "           OSQP v0.5.0  -  Operator Splitting QP Solver\n",
      "              (c) Bartolomeo Stellato,  Goran Banjac\n",
      "        University of Oxford  -  Stanford University 2018\n",
      "-----------------------------------------------------------------\n",
      "problem:  variables n = 2000, constraints m = 2010\n",
      "          nnz(P) + nnz(A) = 14000\n",
      "settings: linear system solver = qdldl,\n",
      "          eps_abs = 1.0e-03, eps_rel = 1.0e-03,\n",
      "          eps_prim_inf = 1.0e-04, eps_dual_inf = 1.0e-04,\n",
      "          rho = 1.00e-01 (adaptive),\n",
      "          sigma = 1.00e-06, alpha = 1.60, max_iter = 3000\n",
      "          check_termination: on (interval 25),\n",
      "          scaling: on, scaled_termination: off\n",
      "          warm start: on, polish: on\n",
      "\n",
      "iter   objective    pri res    dua res    rho        time\n",
      "   1  -8.0000e+03   8.00e+00   6.68e+01   1.00e-01   4.68e-03s\n",
      " 200   2.9266e-01   2.64e-03   2.38e-02   3.27e+00   7.63e-03s\n",
      " 400   2.6957e-01   3.28e-04   1.08e-02   3.27e+00   2.68e-02s\n",
      " 600   2.7603e-01   1.36e-04   8.75e-03   3.27e+00   4.36e-02s\n",
      " 750   2.7066e-01   3.04e-04   1.77e-03   3.27e+00   5.68e-02s\n",
      "\n",
      "status:               solved\n",
      "solution polish:      unsuccessful\n",
      "number of iterations: 750\n",
      "optimal objective:    0.2707\n",
      "run time:             5.91e-02s\n",
      "optimal rho estimate: 2.75e+00\n",
      "\n"
     ]
    },
    {
     "data": {
      "text/plain": [
       "0.2706647563479417"
      ]
     },
     "execution_count": 5,
     "metadata": {},
     "output_type": "execute_result"
    }
   ],
   "source": [
    "x = cvx.Variable(n)\n",
    "objective = cvx.norm1(x)\n",
    "constr = [A*x == b]\n",
    "problem = cvx.Problem(cvx.Minimize(objective), constr) \n",
    "problem.solve(verbose=True, max_iter=3000)"
   ]
  },
  {
   "cell_type": "markdown",
   "metadata": {
    "slideshow": {
     "slide_type": "slide"
    }
   },
   "source": [
    "### Проверим решение"
   ]
  },
  {
   "cell_type": "code",
   "execution_count": 6,
   "metadata": {
    "slideshow": {
     "slide_type": "subslide"
    }
   },
   "outputs": [
    {
     "name": "stdout",
     "output_type": "stream",
     "text": [
      "5.366577785575698e-07\n",
      "0.02806119193399998\n",
      "0.2170992263162404\n",
      "Num nnz = 200\n"
     ]
    }
   ],
   "source": [
    "tol= 1e-4\n",
    "print(np.linalg.norm(A.dot(x.value) - b))\n",
    "print(np.linalg.norm(A[:, np.abs(x.value) > tol].dot(x.value[np.abs(x.value) > tol]) - b))\n",
    "print(np.linalg.norm(x_true - x.value))\n",
    "print(\"Num nnz = {}\".format(np.sum(np.abs(x.value) > tol)))"
   ]
  },
  {
   "cell_type": "code",
   "execution_count": 7,
   "metadata": {
    "slideshow": {
     "slide_type": "slide"
    }
   },
   "outputs": [
    {
     "data": {
      "text/plain": [
       "(array([-0.1 , -0.08, -0.06, -0.04, -0.02,  0.  ,  0.02,  0.04,  0.06]),\n",
       " <a list of 9 Text yticklabel objects>)"
      ]
     },
     "execution_count": 7,
     "metadata": {},
     "output_type": "execute_result"
    },
    {
     "data": {
      "image/png": "[encoded data removed]",
      "text/plain": [
       "<Figure size 720x576 with 1 Axes>"
      ]
     },
     "metadata": {
      "needs_background": "light"
     },
     "output_type": "display_data"
    }
   ],
   "source": [
    "plt.figure(figsize=(10, 8))\n",
    "plt.plot(x.value, label=r\"$x^*$\")\n",
    "plt.plot(x_true, label=r\"True $x$\")\n",
    "plt.legend(fontsize=26)\n",
    "plt.yticks(fontsize=26)"
   ]
  },
  {
   "cell_type": "code",
   "execution_count": 8,
   "metadata": {
    "slideshow": {
     "slide_type": "slide"
    }
   },
   "outputs": [
    {
     "data": {
      "text/plain": [
       "(array([-200.,    0.,  200.,  400.,  600.,  800., 1000., 1200.]),\n",
       " <a list of 8 Text xticklabel objects>)"
      ]
     },
     "execution_count": 8,
     "metadata": {},
     "output_type": "execute_result"
    },
    {
     "data": {
      "image/png": "[encoded data removed]",
      "text/plain": [
       "<Figure size 648x504 with 1 Axes>"
      ]
     },
     "metadata": {
      "needs_background": "light"
     },
     "output_type": "display_data"
    }
   ],
   "source": [
    "plt.figure(figsize=(9, 7))\n",
    "plt.semilogy(np.sort(np.abs(x.value))[::-1])\n",
    "plt.ylabel(\"$|x_i|$\", fontsize=24)\n",
    "plt.yticks(fontsize=24)\n",
    "plt.xlabel(r\"Sorted index of $x^*$\", fontsize=24)\n",
    "plt.xticks(fontsize=24)"
   ]
  },
  {
   "cell_type": "markdown",
   "metadata": {
    "slideshow": {
     "slide_type": "slide"
    }
   },
   "source": [
    "### Проверим DCP правила"
   ]
  },
  {
   "cell_type": "code",
   "execution_count": 9,
   "metadata": {
    "slideshow": {
     "slide_type": "subslide"
    }
   },
   "outputs": [
    {
     "ename": "DCPError",
     "evalue": "Problem does not follow DCP rules.",
     "output_type": "error",
     "traceback": [
      "\u001b[0;31m---------------------------------------------------------------------------\u001b[0m",
      "\u001b[0;31mDCPError\u001b[0m                                  Traceback (most recent call last)",
      "\u001b[0;32m<ipython-input-9-53bf8440ab91>\u001b[0m in \u001b[0;36m<module>\u001b[0;34m\u001b[0m\n\u001b[1;32m      3\u001b[0m \u001b[0mobj\u001b[0m \u001b[0;34m=\u001b[0m \u001b[0mcvx\u001b[0m\u001b[0;34m.\u001b[0m\u001b[0mMinimize\u001b[0m\u001b[0;34m(\u001b[0m\u001b[0mcvx\u001b[0m\u001b[0;34m.\u001b[0m\u001b[0mpower\u001b[0m\u001b[0;34m(\u001b[0m\u001b[0my\u001b[0m\u001b[0;34m,\u001b[0m \u001b[0;36m3\u001b[0m\u001b[0;34m)\u001b[0m\u001b[0;34m)\u001b[0m\u001b[0;34m\u001b[0m\u001b[0;34m\u001b[0m\u001b[0m\n\u001b[1;32m      4\u001b[0m \u001b[0mproblem\u001b[0m \u001b[0;34m=\u001b[0m \u001b[0mcvx\u001b[0m\u001b[0;34m.\u001b[0m\u001b[0mProblem\u001b[0m\u001b[0;34m(\u001b[0m\u001b[0mobj\u001b[0m\u001b[0;34m,\u001b[0m \u001b[0;34m[\u001b[0m\u001b[0mcvx\u001b[0m\u001b[0;34m.\u001b[0m\u001b[0mpower\u001b[0m\u001b[0;34m(\u001b[0m\u001b[0my\u001b[0m \u001b[0;34m-\u001b[0m \u001b[0;36m3\u001b[0m\u001b[0;34m,\u001b[0m \u001b[0;36m2\u001b[0m\u001b[0;34m)\u001b[0m \u001b[0;34m==\u001b[0m \u001b[0;36m0\u001b[0m\u001b[0;34m]\u001b[0m\u001b[0;34m)\u001b[0m\u001b[0;34m\u001b[0m\u001b[0;34m\u001b[0m\u001b[0m\n\u001b[0;32m----> 5\u001b[0;31m \u001b[0mproblem\u001b[0m\u001b[0;34m.\u001b[0m\u001b[0msolve\u001b[0m\u001b[0;34m(\u001b[0m\u001b[0mverbose\u001b[0m\u001b[0;34m=\u001b[0m\u001b[0;32mTrue\u001b[0m\u001b[0;34m)\u001b[0m\u001b[0;34m\u001b[0m\u001b[0;34m\u001b[0m\u001b[0m\n\u001b[0m",
      "\u001b[0;32m/anaconda3/envs/cvxpy/lib/python3.6/site-packages/cvxpy-1.0.14-py3.6-macosx-10.7-x86_64.egg/cvxpy/problems/problem.py\u001b[0m in \u001b[0;36msolve\u001b[0;34m(self, *args, **kwargs)\u001b[0m\n\u001b[1;32m    266\u001b[0m         \u001b[0;32melse\u001b[0m\u001b[0;34m:\u001b[0m\u001b[0;34m\u001b[0m\u001b[0;34m\u001b[0m\u001b[0m\n\u001b[1;32m    267\u001b[0m             \u001b[0msolve_func\u001b[0m \u001b[0;34m=\u001b[0m \u001b[0mProblem\u001b[0m\u001b[0;34m.\u001b[0m\u001b[0m_solve\u001b[0m\u001b[0;34m\u001b[0m\u001b[0;34m\u001b[0m\u001b[0m\n\u001b[0;32m--> 268\u001b[0;31m         \u001b[0;32mreturn\u001b[0m \u001b[0msolve_func\u001b[0m\u001b[0;34m(\u001b[0m\u001b[0mself\u001b[0m\u001b[0;34m,\u001b[0m \u001b[0;34m*\u001b[0m\u001b[0margs\u001b[0m\u001b[0;34m,\u001b[0m \u001b[0;34m**\u001b[0m\u001b[0mkwargs\u001b[0m\u001b[0;34m)\u001b[0m\u001b[0;34m\u001b[0m\u001b[0;34m\u001b[0m\u001b[0m\n\u001b[0m\u001b[1;32m    269\u001b[0m \u001b[0;34m\u001b[0m\u001b[0m\n\u001b[1;32m    270\u001b[0m     \u001b[0;34m@\u001b[0m\u001b[0mclassmethod\u001b[0m\u001b[0;34m\u001b[0m\u001b[0;34m\u001b[0m\u001b[0m\n",
      "\u001b[0;32m/anaconda3/envs/cvxpy/lib/python3.6/site-packages/cvxpy-1.0.14-py3.6-macosx-10.7-x86_64.egg/cvxpy/problems/problem.py\u001b[0m in \u001b[0;36m_solve\u001b[0;34m(self, solver, ignore_dcp, warm_start, verbose, parallel, gp, **kwargs)\u001b[0m\n\u001b[1;32m    376\u001b[0m                                                               gp=gp)\n\u001b[1;32m    377\u001b[0m             \u001b[0;32mexcept\u001b[0m \u001b[0mException\u001b[0m \u001b[0;32mas\u001b[0m \u001b[0me\u001b[0m\u001b[0;34m:\u001b[0m\u001b[0;34m\u001b[0m\u001b[0;34m\u001b[0m\u001b[0m\n\u001b[0;32m--> 378\u001b[0;31m                 \u001b[0;32mraise\u001b[0m \u001b[0me\u001b[0m\u001b[0;34m\u001b[0m\u001b[0;34m\u001b[0m\u001b[0m\n\u001b[0m\u001b[1;32m    379\u001b[0m         \u001b[0mself\u001b[0m\u001b[0;34m.\u001b[0m\u001b[0m_cached_chain_key\u001b[0m \u001b[0;34m=\u001b[0m \u001b[0mchain_key\u001b[0m\u001b[0;34m\u001b[0m\u001b[0;34m\u001b[0m\u001b[0m\n\u001b[1;32m    380\u001b[0m \u001b[0;34m\u001b[0m\u001b[0m\n",
      "\u001b[0;32m/anaconda3/envs/cvxpy/lib/python3.6/site-packages/cvxpy-1.0.14-py3.6-macosx-10.7-x86_64.egg/cvxpy/problems/problem.py\u001b[0m in \u001b[0;36m_solve\u001b[0;34m(self, solver, ignore_dcp, warm_start, verbose, parallel, gp, **kwargs)\u001b[0m\n\u001b[1;32m    374\u001b[0m                 self._solving_chain = construct_solving_chain(self,\n\u001b[1;32m    375\u001b[0m                                                               \u001b[0msolver\u001b[0m\u001b[0;34m=\u001b[0m\u001b[0msolver\u001b[0m\u001b[0;34m,\u001b[0m\u001b[0;34m\u001b[0m\u001b[0;34m\u001b[0m\u001b[0m\n\u001b[0;32m--> 376\u001b[0;31m                                                               gp=gp)\n\u001b[0m\u001b[1;32m    377\u001b[0m             \u001b[0;32mexcept\u001b[0m \u001b[0mException\u001b[0m \u001b[0;32mas\u001b[0m \u001b[0me\u001b[0m\u001b[0;34m:\u001b[0m\u001b[0;34m\u001b[0m\u001b[0;34m\u001b[0m\u001b[0m\n\u001b[1;32m    378\u001b[0m                 \u001b[0;32mraise\u001b[0m \u001b[0me\u001b[0m\u001b[0;34m\u001b[0m\u001b[0;34m\u001b[0m\u001b[0m\n",
      "\u001b[0;32m/anaconda3/envs/cvxpy/lib/python3.6/site-packages/cvxpy-1.0.14-py3.6-macosx-10.7-x86_64.egg/cvxpy/reductions/solvers/solving_chain.py\u001b[0m in \u001b[0;36mconstruct_solving_chain\u001b[0;34m(problem, solver, gp)\u001b[0m\n\u001b[1;32m     77\u001b[0m             append = (\" However, the problem does follow DGP rules. \"\n\u001b[1;32m     78\u001b[0m                       \"Consider calling this function with `gp=True`.\")\n\u001b[0;32m---> 79\u001b[0;31m         \u001b[0;32mraise\u001b[0m \u001b[0mDCPError\u001b[0m\u001b[0;34m(\u001b[0m\u001b[0;34m\"Problem does not follow DCP rules.\"\u001b[0m \u001b[0;34m+\u001b[0m \u001b[0mappend\u001b[0m\u001b[0;34m)\u001b[0m\u001b[0;34m\u001b[0m\u001b[0;34m\u001b[0m\u001b[0m\n\u001b[0m\u001b[1;32m     80\u001b[0m     \u001b[0;32melif\u001b[0m \u001b[0mgp\u001b[0m \u001b[0;32mand\u001b[0m \u001b[0;32mnot\u001b[0m \u001b[0mproblem\u001b[0m\u001b[0;34m.\u001b[0m\u001b[0mis_dgp\u001b[0m\u001b[0;34m(\u001b[0m\u001b[0;34m)\u001b[0m\u001b[0;34m:\u001b[0m\u001b[0;34m\u001b[0m\u001b[0;34m\u001b[0m\u001b[0m\n\u001b[1;32m     81\u001b[0m         \u001b[0mappend\u001b[0m \u001b[0;34m=\u001b[0m \u001b[0;34m\"\"\u001b[0m\u001b[0;34m\u001b[0m\u001b[0;34m\u001b[0m\u001b[0m\n",
      "\u001b[0;31mDCPError\u001b[0m: Problem does not follow DCP rules."
     ]
    }
   ],
   "source": [
    "# Non-affine equality constraint\n",
    "y = cvx.Variable(1)\n",
    "obj = cvx.Minimize(cvx.power(y, 3))\n",
    "problem = cvx.Problem(obj, [cvx.power(y - 3, 2) == 0])\n",
    "problem.solve(verbose=True)"
   ]
  },
  {
   "cell_type": "code",
   "execution_count": 10,
   "metadata": {
    "slideshow": {
     "slide_type": "slide"
    }
   },
   "outputs": [
    {
     "ename": "DCPError",
     "evalue": "Problem does not follow DCP rules.",
     "output_type": "error",
     "traceback": [
      "\u001b[0;31m---------------------------------------------------------------------------\u001b[0m",
      "\u001b[0;31mDCPError\u001b[0m                                  Traceback (most recent call last)",
      "\u001b[0;32m<ipython-input-10-fb37b750a34a>\u001b[0m in \u001b[0;36m<module>\u001b[0;34m\u001b[0m\n\u001b[1;32m      3\u001b[0m \u001b[0mobj\u001b[0m \u001b[0;34m=\u001b[0m \u001b[0mcvx\u001b[0m\u001b[0;34m.\u001b[0m\u001b[0mMinimize\u001b[0m\u001b[0;34m(\u001b[0m\u001b[0my\u001b[0m\u001b[0;34m[\u001b[0m\u001b[0;36m0\u001b[0m\u001b[0;34m]\u001b[0m\u001b[0;34m**\u001b[0m\u001b[0;36m2\u001b[0m \u001b[0;34m-\u001b[0m \u001b[0my\u001b[0m\u001b[0;34m[\u001b[0m\u001b[0;36m1\u001b[0m\u001b[0;34m]\u001b[0m\u001b[0;34m**\u001b[0m\u001b[0;36m2\u001b[0m\u001b[0;34m)\u001b[0m\u001b[0;34m\u001b[0m\u001b[0;34m\u001b[0m\u001b[0m\n\u001b[1;32m      4\u001b[0m \u001b[0mproblem\u001b[0m \u001b[0;34m=\u001b[0m \u001b[0mcvx\u001b[0m\u001b[0;34m.\u001b[0m\u001b[0mProblem\u001b[0m\u001b[0;34m(\u001b[0m\u001b[0mobj\u001b[0m\u001b[0;34m)\u001b[0m\u001b[0;34m\u001b[0m\u001b[0;34m\u001b[0m\u001b[0m\n\u001b[0;32m----> 5\u001b[0;31m \u001b[0mproblem\u001b[0m\u001b[0;34m.\u001b[0m\u001b[0msolve\u001b[0m\u001b[0;34m(\u001b[0m\u001b[0mverbose\u001b[0m\u001b[0;34m=\u001b[0m\u001b[0;32mTrue\u001b[0m\u001b[0;34m)\u001b[0m\u001b[0;34m\u001b[0m\u001b[0;34m\u001b[0m\u001b[0m\n\u001b[0m",
      "\u001b[0;32m/anaconda3/envs/cvxpy/lib/python3.6/site-packages/cvxpy-1.0.14-py3.6-macosx-10.7-x86_64.egg/cvxpy/problems/problem.py\u001b[0m in \u001b[0;36msolve\u001b[0;34m(self, *args, **kwargs)\u001b[0m\n\u001b[1;32m    266\u001b[0m         \u001b[0;32melse\u001b[0m\u001b[0;34m:\u001b[0m\u001b[0;34m\u001b[0m\u001b[0;34m\u001b[0m\u001b[0m\n\u001b[1;32m    267\u001b[0m             \u001b[0msolve_func\u001b[0m \u001b[0;34m=\u001b[0m \u001b[0mProblem\u001b[0m\u001b[0;34m.\u001b[0m\u001b[0m_solve\u001b[0m\u001b[0;34m\u001b[0m\u001b[0;34m\u001b[0m\u001b[0m\n\u001b[0;32m--> 268\u001b[0;31m         \u001b[0;32mreturn\u001b[0m \u001b[0msolve_func\u001b[0m\u001b[0;34m(\u001b[0m\u001b[0mself\u001b[0m\u001b[0;34m,\u001b[0m \u001b[0;34m*\u001b[0m\u001b[0margs\u001b[0m\u001b[0;34m,\u001b[0m \u001b[0;34m**\u001b[0m\u001b[0mkwargs\u001b[0m\u001b[0;34m)\u001b[0m\u001b[0;34m\u001b[0m\u001b[0;34m\u001b[0m\u001b[0m\n\u001b[0m\u001b[1;32m    269\u001b[0m \u001b[0;34m\u001b[0m\u001b[0m\n\u001b[1;32m    270\u001b[0m     \u001b[0;34m@\u001b[0m\u001b[0mclassmethod\u001b[0m\u001b[0;34m\u001b[0m\u001b[0;34m\u001b[0m\u001b[0m\n",
      "\u001b[0;32m/anaconda3/envs/cvxpy/lib/python3.6/site-packages/cvxpy-1.0.14-py3.6-macosx-10.7-x86_64.egg/cvxpy/problems/problem.py\u001b[0m in \u001b[0;36m_solve\u001b[0;34m(self, solver, ignore_dcp, warm_start, verbose, parallel, gp, **kwargs)\u001b[0m\n\u001b[1;32m    376\u001b[0m                                                               gp=gp)\n\u001b[1;32m    377\u001b[0m             \u001b[0;32mexcept\u001b[0m \u001b[0mException\u001b[0m \u001b[0;32mas\u001b[0m \u001b[0me\u001b[0m\u001b[0;34m:\u001b[0m\u001b[0;34m\u001b[0m\u001b[0;34m\u001b[0m\u001b[0m\n\u001b[0;32m--> 378\u001b[0;31m                 \u001b[0;32mraise\u001b[0m \u001b[0me\u001b[0m\u001b[0;34m\u001b[0m\u001b[0;34m\u001b[0m\u001b[0m\n\u001b[0m\u001b[1;32m    379\u001b[0m         \u001b[0mself\u001b[0m\u001b[0;34m.\u001b[0m\u001b[0m_cached_chain_key\u001b[0m \u001b[0;34m=\u001b[0m \u001b[0mchain_key\u001b[0m\u001b[0;34m\u001b[0m\u001b[0;34m\u001b[0m\u001b[0m\n\u001b[1;32m    380\u001b[0m \u001b[0;34m\u001b[0m\u001b[0m\n",
      "\u001b[0;32m/anaconda3/envs/cvxpy/lib/python3.6/site-packages/cvxpy-1.0.14-py3.6-macosx-10.7-x86_64.egg/cvxpy/problems/problem.py\u001b[0m in \u001b[0;36m_solve\u001b[0;34m(self, solver, ignore_dcp, warm_start, verbose, parallel, gp, **kwargs)\u001b[0m\n\u001b[1;32m    374\u001b[0m                 self._solving_chain = construct_solving_chain(self,\n\u001b[1;32m    375\u001b[0m                                                               \u001b[0msolver\u001b[0m\u001b[0;34m=\u001b[0m\u001b[0msolver\u001b[0m\u001b[0;34m,\u001b[0m\u001b[0;34m\u001b[0m\u001b[0;34m\u001b[0m\u001b[0m\n\u001b[0;32m--> 376\u001b[0;31m                                                               gp=gp)\n\u001b[0m\u001b[1;32m    377\u001b[0m             \u001b[0;32mexcept\u001b[0m \u001b[0mException\u001b[0m \u001b[0;32mas\u001b[0m \u001b[0me\u001b[0m\u001b[0;34m:\u001b[0m\u001b[0;34m\u001b[0m\u001b[0;34m\u001b[0m\u001b[0m\n\u001b[1;32m    378\u001b[0m                 \u001b[0;32mraise\u001b[0m \u001b[0me\u001b[0m\u001b[0;34m\u001b[0m\u001b[0;34m\u001b[0m\u001b[0m\n",
      "\u001b[0;32m/anaconda3/envs/cvxpy/lib/python3.6/site-packages/cvxpy-1.0.14-py3.6-macosx-10.7-x86_64.egg/cvxpy/reductions/solvers/solving_chain.py\u001b[0m in \u001b[0;36mconstruct_solving_chain\u001b[0;34m(problem, solver, gp)\u001b[0m\n\u001b[1;32m     77\u001b[0m             append = (\" However, the problem does follow DGP rules. \"\n\u001b[1;32m     78\u001b[0m                       \"Consider calling this function with `gp=True`.\")\n\u001b[0;32m---> 79\u001b[0;31m         \u001b[0;32mraise\u001b[0m \u001b[0mDCPError\u001b[0m\u001b[0;34m(\u001b[0m\u001b[0;34m\"Problem does not follow DCP rules.\"\u001b[0m \u001b[0;34m+\u001b[0m \u001b[0mappend\u001b[0m\u001b[0;34m)\u001b[0m\u001b[0;34m\u001b[0m\u001b[0;34m\u001b[0m\u001b[0m\n\u001b[0m\u001b[1;32m     80\u001b[0m     \u001b[0;32melif\u001b[0m \u001b[0mgp\u001b[0m \u001b[0;32mand\u001b[0m \u001b[0;32mnot\u001b[0m \u001b[0mproblem\u001b[0m\u001b[0;34m.\u001b[0m\u001b[0mis_dgp\u001b[0m\u001b[0;34m(\u001b[0m\u001b[0;34m)\u001b[0m\u001b[0;34m:\u001b[0m\u001b[0;34m\u001b[0m\u001b[0;34m\u001b[0m\u001b[0m\n\u001b[1;32m     81\u001b[0m         \u001b[0mappend\u001b[0m \u001b[0;34m=\u001b[0m \u001b[0;34m\"\"\u001b[0m\u001b[0;34m\u001b[0m\u001b[0;34m\u001b[0m\u001b[0m\n",
      "\u001b[0;31mDCPError\u001b[0m: Problem does not follow DCP rules."
     ]
    }
   ],
   "source": [
    "# Non-convex objective function \n",
    "y = cvx.Variable(2)\n",
    "obj = cvx.Minimize(y[0]**2 - y[1]**2)\n",
    "problem = cvx.Problem(obj)\n",
    "problem.solve(verbose=True)"
   ]
  },
  {
   "cell_type": "markdown",
   "metadata": {
    "slideshow": {
     "slide_type": "slide"
    }
   },
   "source": [
    "# Autodiff на примере PyTorch'a"
   ]
  },
  {
   "cell_type": "markdown",
   "metadata": {
    "slideshow": {
     "slide_type": "slide"
    }
   },
   "source": [
    "## Вычисление производных (градиентов)\n",
    "\n",
    "- [Теорема Баура-Штрассена](https://core.ac.uk/download/pdf/82480031.pdf)\n",
    "- [Лекция с пояснениями](https://courses.cs.washington.edu/courses/cse446/18wi/slides/auto-diff.pdf)\n",
    "- Граф вычислений\n",
    "    - Статический\n",
    "    - Динамический"
   ]
  },
  {
   "cell_type": "markdown",
   "metadata": {
    "slideshow": {
     "slide_type": "slide"
    }
   },
   "source": [
    "### Существующие реализации\n",
    "\n",
    "- Статическая (Tensorflow, Theano): сначала строится граф вычислений, после чего выполняется вычисление \n",
    "    - Pros: \n",
    "        - Процесс вычислений в статическом графе можно оптимизировать\n",
    "        - Возможна улучшенная поддержка на уровне железа\n",
    "    - Cons:\n",
    "        - Сложно отлаживать и модифицировать функцию\n",
    "        - Изучение языка построения графа\n",
    "- Динамический (PyTorch, Autograd): граф строится непосредственно в процессе вычислений\n",
    "    - Плюсы:\n",
    "        - Можно писать на Вашем любимом языке, без дополнительных усилий\n",
    "        - Проще отлаживать, поскольку есть доступ к промежуточным вычислениям\n",
    "    - Минусы:\n",
    "        - сложнее оптимизировать процедуру вычисления, чем в статическом графе"
   ]
  },
  {
   "cell_type": "markdown",
   "metadata": {
    "slideshow": {
     "slide_type": "slide"
    }
   },
   "source": [
    "<img src=\"./plot_autodiff.png\" width=700>\n",
    "\n",
    "Картинка [отсюда](https://ai.googleblog.com/2017/11/tangent-source-to-source-debuggable.html)"
   ]
  },
  {
   "cell_type": "markdown",
   "metadata": {
    "slideshow": {
     "slide_type": "slide"
    }
   },
   "source": [
    "### Пример: квадратичная функция $f(x) = \\frac{1}{2} x^{\\top}Ax - b^{\\top}x$\n",
    "\n",
    "- Градиент по $x$: $f'(x) = \\frac{1}{2}(A + A^{\\top})x - b$\n",
    "- Градиент по $A$: $f'(A)$ - ?"
   ]
  },
  {
   "cell_type": "code",
   "execution_count": 1,
   "metadata": {
    "slideshow": {
     "slide_type": "slide"
    }
   },
   "outputs": [
    {
     "name": "stdout",
     "output_type": "stream",
     "text": [
      "tensor(-3.7108, grad_fn=<SubBackward0>)\n",
      "-3.7108304500579834\n"
     ]
    }
   ],
   "source": [
    "import torch\n",
    "\n",
    "n = 5\n",
    "A = torch.randn((n, n), requires_grad=True)\n",
    "b = torch.randn((n,))\n",
    "x = torch.randn((n,), requires_grad=True)\n",
    "\n",
    "f = 0.5 * x @ A @ x - b @ x\n",
    "f.backward()\n",
    "print(f)\n",
    "print(f.item())"
   ]
  },
  {
   "cell_type": "code",
   "execution_count": 2,
   "metadata": {
    "slideshow": {
     "slide_type": "slide"
    }
   },
   "outputs": [
    {
     "name": "stdout",
     "output_type": "stream",
     "text": [
      "tensor([-0.4549,  2.2341, -5.7215,  1.8369, -2.1107])\n",
      "tensor([-0.4549,  2.2341, -5.7215,  1.8369, -2.1107])\n"
     ]
    }
   ],
   "source": [
    "manual_grad_x = 0.5 * (A + A.t()) @ x - b\n",
    "\n",
    "print(manual_grad_x.data)\n",
    "print(x.grad.data)"
   ]
  },
  {
   "cell_type": "code",
   "execution_count": 3,
   "metadata": {
    "slideshow": {
     "slide_type": "slide"
    }
   },
   "outputs": [
    {
     "name": "stdout",
     "output_type": "stream",
     "text": [
      "tensor([[ 1.2039, -0.3909,  1.1023,  1.5957,  0.8493],\n",
      "        [-0.3909,  0.1269, -0.3579, -0.5181, -0.2758],\n",
      "        [ 1.1023, -0.3579,  1.0092,  1.4609,  0.7776],\n",
      "        [ 1.5957, -0.5181,  1.4609,  2.1149,  1.1257],\n",
      "        [ 0.8493, -0.2758,  0.7776,  1.1257,  0.5992]])\n",
      "tensor([[ 1.2039, -0.3909,  1.1023,  1.5957,  0.8493],\n",
      "        [-0.3909,  0.1269, -0.3579, -0.5181, -0.2758],\n",
      "        [ 1.1023, -0.3579,  1.0092,  1.4609,  0.7776],\n",
      "        [ 1.5957, -0.5181,  1.4609,  2.1149,  1.1257],\n",
      "        [ 0.8493, -0.2758,  0.7776,  1.1257,  0.5992]])\n",
      "0.0\n"
     ]
    }
   ],
   "source": [
    "manual_grad_A = 0.5 * torch.ger(x, x)\n",
    "\n",
    "print(manual_grad_A.data)\n",
    "print(A.grad.data)\n",
    "print(torch.norm(manual_grad_A.data - A.grad.data).item())"
   ]
  },
  {
   "cell_type": "markdown",
   "metadata": {
    "slideshow": {
     "slide_type": "slide"
    }
   },
   "source": [
    "## Peзюме\n",
    "\n",
    "- Для удобства решения задач выпуклой оптимизации нужно их правильно записывать\n",
    "- Специально написанные солверы могут работать лучше стандартных пакетов, нацеленных на решение произвольной задачи\n",
    "- Градиенты можно вычислять автоматически, используя информацию, сохранённую в процессе вычисления самой функции"
   ]
  }
 ],
 "metadata": {
  "celltoolbar": "Slideshow",
  "kernelspec": {
   "display_name": "Python (pytorch)",
   "language": "python",
   "name": "pytorch"
  },
  "language_info": {
   "codemirror_mode": {
    "name": "ipython",
    "version": 3
   },
   "file_extension": ".py",
   "mimetype": "text/x-python",
   "name": "python",
   "nbconvert_exporter": "python",
   "pygments_lexer": "ipython3",
   "version": "3.6.8"
  }
 },
 "nbformat": 4,
 "nbformat_minor": 2
}
