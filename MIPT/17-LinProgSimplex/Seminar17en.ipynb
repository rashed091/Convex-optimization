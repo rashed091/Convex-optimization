{
 "cells": [
  {
   "cell_type": "markdown",
   "metadata": {
    "slideshow": {
     "slide_type": "slide"
    }
   },
   "source": [
    "# Seminar 17.\n",
    "\n",
    "# Linear programming. Simplex method\n",
    "(main reference is [this book](https://www.amazon.com/Introduction-Linear-Optimization-Scientific-Computation/dp/1886529191))"
   ]
  },
  {
   "cell_type": "markdown",
   "metadata": {
    "slideshow": {
     "slide_type": "slide"
    }
   },
   "source": [
    "## Current place in syllabus\n",
    "\n",
    "- Unconstrained optimization\n",
    "    - ~~One dimensional mimnimization~~\n",
    "    - ~~Gradient descent~~\n",
    "    - ~~Newton method and quasi-Newton methods~~\n",
    "    - ~~Conjugate gradient method~~\n",
    "- Constrained optimization\n",
    "    - <span style=\"color:red\">Linear programming: simplex method</span>\n",
    "    - Linear programming: primal barrier method\n",
    "    - Projected gradient method and Frank-Wolfe method\n",
    "    - Penalty and barrier function methods\n",
    "    - Augmented Lagrangian method\n",
    "    - Sequaential quadratic programming\n",
    "- Other topics\n",
    "    - ~~Least squares problem~~\n",
    "    - Proximal methods\n",
    "    - Optimal methods and lower bounds\n",
    "    - Mirror descent\n",
    "    - Review of stochastic methods"
   ]
  },
  {
   "cell_type": "markdown",
   "metadata": {
    "collapsed": true,
    "slideshow": {
     "slide_type": "slide"
    }
   },
   "source": [
    "## Problem statement\n",
    "Given vectors $c \\in \\mathbb{R}^n$, $b \\in \\mathbb{R}^m$ and matrix $A \\in \\mathbb{R}^{m \\times n}$ such that $m < n$ and $\\mathrm{rank}(A) = m$ \n",
    "- Standard form\n",
    "\\begin{align*}\n",
    "&\\min_x c^{\\top}x \\\\\n",
    "\\text{s.t. } & Ax \\leq b\\\\\n",
    "& x_i \\geq 0, \\; i = 1,\\dots, n\n",
    "\\end{align*}\n",
    "- Canonical form (below we consider this form)\n",
    "\\begin{align*}\n",
    "&\\min_x c^{\\top}x \\\\\n",
    "\\text{s.t. } & Ax = b\\\\\n",
    "& x_i \\geq 0, \\; i = 1,\\dots, n\n",
    "\\end{align*}"
   ]
  },
  {
   "cell_type": "markdown",
   "metadata": {
    "slideshow": {
     "slide_type": "slide"
    }
   },
   "source": [
    "### Reformulation of the forms"
   ]
  },
  {
   "cell_type": "markdown",
   "metadata": {
    "collapsed": true,
    "slideshow": {
     "slide_type": "fragment"
    }
   },
   "source": [
    "- $Ax = b \\equiv \n",
    "\\begin{cases}\n",
    "Ax \\leq b\\\\\n",
    "Ax \\geq b\n",
    "\\end{cases}\n",
    "$\n",
    "- $Ax \\leq b \\equiv \n",
    "\\begin{cases}\n",
    "Ax + z =  b\\\\\n",
    "z \\geq 0\n",
    "\\end{cases}$ \n",
    "- free variable $x \\equiv \n",
    "\\begin{cases}\n",
    "x = u - v\\\\\n",
    "u \\geq 0, \\; v \\geq 0\n",
    "\\end{cases}$\n",
    "- change sign with multiplication by $-1$"
   ]
  },
  {
   "cell_type": "markdown",
   "metadata": {
    "slideshow": {
     "slide_type": "slide"
    }
   },
   "source": [
    "## Application\n",
    "\n",
    "- Producing optimal quantity of product with resources constraints:\n",
    "\\begin{align*}\n",
    "&\\max_x c^{\\top}x \\\\\n",
    "\\text{s.t. } & Ax \\leq b\\\\\n",
    "& x_i \\geq 0, \\; i = 1,\\dots, n,\n",
    "\\end{align*}\n",
    "where $x_i$ - quantity of the $i$-th product, $c_i$ is a revenue from the $i$-th product, $b_i$ - available quantity of the $i$-th resource, $a_{ij}$ is a quantity of the $i$-th resource, which is required to produce unit of the $j$-th product.\n",
    "\n",
    "- Flows in networks: transport problem, max flow problem, minimal cost path in communication network to pass message\n",
    "\n",
    "- Regression problem in $\\ell_1$ and $\\ell_{\\infty}$ norms can be formulated as linear programming"
   ]
  },
  {
   "cell_type": "markdown",
   "metadata": {
    "slideshow": {
     "slide_type": "slide"
    }
   },
   "source": [
    "## What solution can be given by optimization method?\n",
    "\n",
    "- The problem is feasible and $x^*$ is minimizer\n",
    "- The problem is unbounded and objective minimum is $-\\infty$\n",
    "- The problem is infeasible i.e. feasible set is empty"
   ]
  },
  {
   "cell_type": "markdown",
   "metadata": {
    "slideshow": {
     "slide_type": "slide"
    }
   },
   "source": [
    "## Preliminaries\n",
    "\n",
    "- Linear programming problem is minimization of the linear function on the multidimensional polytope"
   ]
  },
  {
   "cell_type": "markdown",
   "metadata": {
    "slideshow": {
     "slide_type": "fragment"
    }
   },
   "source": [
    "**Questions:**\n",
    "\n",
    "- when the problem is feasible?\n",
    "- among what points should we search solution?\n",
    "- how can we find solution?"
   ]
  },
  {
   "cell_type": "markdown",
   "metadata": {
    "slideshow": {
     "slide_type": "slide"
    }
   },
   "source": [
    "## Definitions\n",
    "\n",
    "1. A point from the feasible set is called *vertex* of the polytope if it does not lie inside the interval between two others points of polytope\n",
    "2. A point $x$ is called *extreme point* of polytope if\n",
    "    - it lies inside polytope\n",
    "    - there exists such set $\\mathcal{B} \\subset \\{1, \\dots, n \\}$, that \n",
    "        - $|\\mathcal{B}| = m$\n",
    "        - $i \\notin \\mathcal{B} \\Rightarrow x_i = 0$\n",
    "        - a matrix $B = [a_i]_{i \\in \\mathcal{B}}$ is non-singular, where $a_i$ is the $i$-th columns of matrix $A$. Matrix $B$ is called *basis matrix*"
   ]
  },
  {
   "cell_type": "markdown",
   "metadata": {
    "slideshow": {
     "slide_type": "fragment"
    }
   },
   "source": [
    "**Theorem** \n",
    "\n",
    "All extreme points of polytope correspond to vertices of the polytope."
   ]
  },
  {
   "cell_type": "markdown",
   "metadata": {
    "slideshow": {
     "slide_type": "slide"
    }
   },
   "source": [
    "## Fundamental theorem of linear programmimg \n",
    "\n",
    "1. If feasible set of the linear programming problem is not empty,  then it has at least one extreme point.\n",
    "2. If the linear programming problem has solution, then at least one of them is extreme point.\n",
    "3. If the linear programming problem is bounded and feasible set is not empty, then it has finite solution."
   ]
  },
  {
   "cell_type": "markdown",
   "metadata": {
    "slideshow": {
     "slide_type": "slide"
    }
   },
   "source": [
    "## Simplex method\n",
    "\n",
    "- Simplex method was [proposed](https://www.rand.org/pubs/reports/R366.html) by G. Dantzig in 1947\n",
    "- Method was proposed in the period of active rising of computerization\n",
    "- It became famous because of numerous applications in economics and planning of manufacturing\n",
    "- It is included in the [list](http://www.uta.edu/faculty/rcli/TopTen/topten.pdf) of the top 10 algorithms of the XX century by SIAM editors version"
   ]
  },
  {
   "cell_type": "markdown",
   "metadata": {
    "slideshow": {
     "slide_type": "slide"
    }
   },
   "source": [
    "### General scheme\n",
    "\n",
    "1. Find arbitrary extreme point of the feasible point\n",
    "2. Move to the other adjacent extreme point such that the objective function decreases \n",
    "3. If there exists another extreme point where objective function is smaller than current value, move to this extreme point \n",
    "\n",
    "**Q:** how formalize and perform these steps?"
   ]
  },
  {
   "cell_type": "markdown",
   "metadata": {
    "slideshow": {
     "slide_type": "slide"
    }
   },
   "source": [
    "## Pseudocode of one iteration of simplex method\n",
    "\n",
    "Given extreme point $x$, corresponding basis matrix $B$ and set of indices $\\mathcal{B}$.\n",
    "\n",
    "1. Compute *reduced costs* $\\overline{c}_j = c_j - c^{\\top}_{\\mathcal{B}}B^{-1}a_j$ for all $j \\not\\in \\mathcal{B}$.\n",
    "    - if $\\overline{c}_j \\geq 0$ for all $j$, then current point is optimal and we can't decrease objective function \n",
    "    - otherwise <span style=\"color:red\"> select </span> index $j^*$ such that $\\overline{c}_{j^*} < 0$\n",
    "2. Compute $u = B^{-1}a_{j^*}$\n",
    "    - if all entries of $u$ are non-positive, then the peoblem is unbounded, optimal value is $-\\infty$\n",
    "    - if there are positive entries, then compute \n",
    "    \n",
    "    $$\n",
    "    \\theta^* = \\min_{\\{i | u_i > 0\\}} \\frac{x_{\\mathcal{B}(i)}}{u_i}\n",
    "    $$\n",
    "    \n",
    "3. <span style=\"color:red\"> Select </span> such index $\\ell$ that \n",
    "\n",
    "    $$\n",
    "    \\theta^* = \\frac{x_{\\mathcal{B}(\\ell)}}{u_{\\ell}}.\n",
    "    $$\n",
    "    \n",
    "    Compose new basis matrix $\\hat{B}$ through replacing column $a_{\\mathcal{B}(\\ell)}$ with column $a_{j^*}$. New extreme point $\\hat{x}$, corresponding to the basis matrix $\\hat{B}$, is defined as\n",
    "    \n",
    "    $$\n",
    "    \\begin{align*}\n",
    "    & \\hat{x}_{j^*} = \\theta^*\\\\\n",
    "    & \\hat{x}_{\\mathcal{B}(k)} = x_{\\mathcal{B}(k)} - \\theta^*u_k, \\text{if } k \\neq \\ell\n",
    "    \\end{align*}\n",
    "    $$\n",
    "    "
   ]
  },
  {
   "cell_type": "markdown",
   "metadata": {
    "slideshow": {
     "slide_type": "slide"
    }
   },
   "source": [
    "## Different implementations of simplex method\n",
    "\n",
    "- Naive simplex method \n",
    "- Revised simplex method\n",
    "- <span style=\"color:red\"> Tableau simplex method </span>"
   ]
  },
  {
   "cell_type": "markdown",
   "metadata": {
    "slideshow": {
     "slide_type": "slide"
    }
   },
   "source": [
    "## Why there exist different implementations and what difference between them? \n",
    "\n",
    "- The most complicated operation in every iteration is computing $B^{-1}A$\n",
    "- Matrices $B$ in iterations $i$ and $i+1$ differ in only one column\n",
    "- How compute $B^{-1}A$ efficiently?"
   ]
  },
  {
   "cell_type": "markdown",
   "metadata": {
    "slideshow": {
     "slide_type": "slide"
    }
   },
   "source": [
    "### Naive implementation\n",
    "\n",
    "- Solve linear sustem $By = A$ in every iteration and conpute reduced costs with vector $c^{\\top}_{\\mathcal{B}}y$\n",
    "- Complexity - $O(m^3 + mn)$\n",
    "- Information from previous iteration is not used\n",
    "- If the system $By = A$ can be solved fast, complexity is significantly reduced. It depends on the structure of the original matrix $A$"
   ]
  },
  {
   "cell_type": "markdown",
   "metadata": {
    "slideshow": {
     "slide_type": "slide"
    }
   },
   "source": [
    "### Revised simplex method\n",
    "\n",
    "- Update $B$ can be preformed by adding matrix $U = (a_q - a_p)e^{\\top}_p$, where $e_p$ is the $p$-th unit vector, $a_j$ is the $j$-th column of matrix $A$\n",
    "- Column $a_p$ is replaced with column $a_q$\n",
    "- Matrix $U$ has rank-one\n",
    "    - $(B + U)^{-1}$ with [Sherman-Morrison-Woodbury formula](https://en.wikipedia.org/wiki/Sherman%E2%80%93Morrison_formula) can be computed with $O(m^2)$ flops\n",
    "    - Update factors $L$ and $U$ in LU decomposition of the matrix $B$ is better way, but derivation of the update formulas is less trivial\n",
    "    \n",
    "- The best total complexity is $O(m^2)$, if reduced costs are computed with pivoting, and the worst total complexity is $O(mn)$, if all reduced costs are computed.\n",
    "\n",
    "More details see [here](http://www.maths.ed.ac.uk/hall/RealSimplex/25_01_07_talk1.pdf) and [here](http://www.maths.ed.ac.uk/hall/RealSimplex/25_01_07_talk2.pdf)"
   ]
  },
  {
   "cell_type": "markdown",
   "metadata": {
    "slideshow": {
     "slide_type": "slide"
    }
   },
   "source": [
    "### Tableau simplex method\n",
    "\n",
    "- More details and examples are below\n",
    "- Complexity is proportianl to the size of table $O(mn)$\n",
    "- Possible issue with stability during performing of elementary operations"
   ]
  },
  {
   "cell_type": "markdown",
   "metadata": {
    "slideshow": {
     "slide_type": "slide"
    }
   },
   "source": [
    "## Correctness theorem\n",
    "\n",
    "Assume \n",
    "- feasible set is not empty\n",
    "- every extreme point is *nondegenerate*. \n",
    "\n",
    "Then simplex method \n",
    "stops after finite number of iterations and\n",
    "\n",
    "gives one of the following result\n",
    "\n",
    "- the optimal extreme point $x^*$ is found\n",
    "- the problem is unbounded and optimal objective is $-\\infty$\n",
    "\n",
    "**Definition.** Extreme point is called *degenerate*, if more than $n - m$ of its entries are zero\n",
    "\n",
    "**Q:** what is geometric interpretation of degeneracy?"
   ]
  },
  {
   "cell_type": "markdown",
   "metadata": {
    "slideshow": {
     "slide_type": "slide"
    }
   },
   "source": [
    "## Problem degeneracy of the extreme point\n",
    "\n",
    "If one of the extreme point is *degenerate*, \n",
    "\n",
    "then it can lead to **cycle** of simplex method!"
   ]
  },
  {
   "cell_type": "markdown",
   "metadata": {
    "slideshow": {
     "slide_type": "fragment"
    }
   },
   "source": [
    "### Solution\n",
    "\n",
    "- Lexicographic rule of selection $\\ell$\n",
    "- Bland's rule - selection of the minimal $j^*$ and $\\ell$\n",
    "\n",
    "[R. Bland](https://people.orie.cornell.edu/bland/) is American methematician, \n",
    "\n",
    "one of the author of the [oriented matroids](https://en.wikipedia.org/wiki/Oriented_matroid) theory."
   ]
  },
  {
   "cell_type": "markdown",
   "metadata": {
    "slideshow": {
     "slide_type": "slide"
    }
   },
   "source": [
    "## How to find initial extreme point?\n",
    "\n",
    "- Two-phase simplex method\n",
    "- M-method"
   ]
  },
  {
   "cell_type": "markdown",
   "metadata": {
    "slideshow": {
     "slide_type": "slide"
    }
   },
   "source": [
    "### Two-phase simplex method\n",
    "\n",
    "To find initial extreme point compose the following auxilliary problem assuming that $b_i \\geq 0, \\; i =1, \\dots,m$. This assumption is easy to satisfied with multiplication corresponding rows of $A$ and elements of $b$ by $-1$.\n",
    "\\begin{align*}\n",
    "& \\min_{z, y} y_1 + \\ldots + y_m \\\\\n",
    "\\text{s.t. } & Az + y = b\\\\\n",
    "& z \\geq 0, \\; y \\geq 0\n",
    "\\end{align*}\n",
    "\n",
    "- Initial extreme point for this problem is obvious $z = 0, \\; y = b$\n",
    "- If the optimal value of the objective function in this problem is not **zero**, then feasible set of the original problem is empty\n",
    "- If the optimal value of the objective function is **zero**, then $y^* = 0$ and initial extreme point $x_0 = z^*$."
   ]
  },
  {
   "cell_type": "markdown",
   "metadata": {
    "slideshow": {
     "slide_type": "slide"
    }
   },
   "source": [
    "#### What is initial base matrix?\n",
    "\n",
    "**Issue:** slack variable equal to zero can be in the basis corresponding to $x_0$\n",
    "\n",
    "**Solution:** procedure of driving slack variables out of the basis"
   ]
  },
  {
   "cell_type": "markdown",
   "metadata": {
    "slideshow": {
     "slide_type": "slide"
    }
   },
   "source": [
    "#### Driving slack variables out of the basis\n",
    "\n",
    "1. Select slack variable $x_k = 0$ from the basis found after solving first-phase problem \n",
    "2. Check the row of the table corresponding to this variable\n",
    "    - if in this row all elements corresponding to the columns for original variables are zero, then this row can be eliminated because it is linearly dependent on other rows of the matrix\n",
    "    - otherwise, use this non-zero element as pivot element and exclude the variable corresponding to the row and include variable corresponding to the column. The process is similar to the one iteration of simplex method, except the requirement of the positiveness of this nonzero element."
   ]
  },
  {
   "cell_type": "markdown",
   "metadata": {
    "slideshow": {
     "slide_type": "slide"
    }
   },
   "source": [
    "## All in all\n",
    "\n",
    "- After driving slack variable out of the basis, the value of new variable is still zero, therefore this procedure dies not change the value of objective function\n",
    "- The final basis corresponding to the solution of the first phase problem after driven slack variable out of the basis should be used in the second phase\n",
    "- The first phase - search of the initial extreme point, the second phase - solving original problem starting from the solution and basis matrix from the first phase "
   ]
  },
  {
   "cell_type": "markdown",
   "metadata": {
    "slideshow": {
     "slide_type": "slide"
    }
   },
   "source": [
    "### M-method\n",
    "\n",
    "**Idea:** unite two phases of two-phase simplex method \n",
    "\n",
    "into the single phase\n",
    "\n",
    "\\begin{align*}\n",
    "& \\min_{z, y} c^{\\top}z + M(y_1 + \\ldots + y_m) \\\\\n",
    "\\text{s.t. } & Az + y = b\\\\\n",
    "& z \\geq 0, \\; y \\geq 0,\n",
    "\\end{align*}\n",
    "\n",
    "where $M$ is arbitrary large positive real number. \n",
    "\n",
    "Usually it is unknown in advance, \n",
    "\n",
    "therefore you can use it as free parameter that can be done large enough if necessary   "
   ]
  },
  {
   "cell_type": "markdown",
   "metadata": {
    "slideshow": {
     "slide_type": "slide"
    }
   },
   "source": [
    "### Examples of solving problems with tableau simplex method\n",
    "\n",
    "Examples are available [here](./examples.pdf)"
   ]
  },
  {
   "cell_type": "markdown",
   "metadata": {
    "slideshow": {
     "slide_type": "slide"
    }
   },
   "source": [
    "## Example of usage"
   ]
  },
  {
   "cell_type": "code",
   "execution_count": 2,
   "metadata": {
    "slideshow": {
     "slide_type": "fragment"
    }
   },
   "outputs": [
    {
     "name": "stdout",
     "output_type": "stream",
     "text": [
      "     fun: -5098.4141534318\n",
      " message: 'Optimization terminated successfully.'\n",
      "     nit: 43\n",
      "   slack: array([ 6.12855608,  0.        , 32.34842617,  0.        , 18.63652142,\n",
      "        9.35365269,  9.4816442 ,  0.92247547, 15.54184317,  0.        ])\n",
      "  status: 0\n",
      " success: True\n",
      "       x: array([-1.        , -1.        , -1.        , -1.        , -1.        ,\n",
      "       -1.        , -1.        , -1.        , -1.        , -1.        ,\n",
      "       -1.        , -1.        , -1.        , -1.        , -1.        ,\n",
      "       -1.        , -1.        , -1.        , -1.        , -1.        ,\n",
      "       -1.        , -1.        , -1.        , -1.        , -1.        ,\n",
      "       -1.        , -1.        , -1.        , -1.        , -1.        ,\n",
      "       -1.        , -1.        , -1.        , -1.        , -1.        ,\n",
      "       -1.        , -1.        , -1.        , -1.        , -1.        ,\n",
      "       -1.        , -1.        , -1.        , -1.        , -1.        ,\n",
      "       -1.        , -1.        , -1.        , -1.        , -1.        ,\n",
      "       -1.        , -1.        , -1.        , -1.        , -1.        ,\n",
      "       -1.        , -1.        , -1.        , -1.        , -1.        ,\n",
      "       -1.        , -1.        , -1.        , -1.        , -1.        ,\n",
      "       -1.        , -1.        , -1.        , -1.        , -1.        ,\n",
      "       -1.        , -1.        , -1.        , -1.        , -1.        ,\n",
      "       -1.        , -1.        , -1.        , -1.        , -1.        ,\n",
      "       -1.        , -1.        , -1.        , -1.        , -1.        ,\n",
      "       -1.        , -1.        , -1.        , -1.        , -1.        ,\n",
      "       -1.        , -1.        , -1.        , -1.        , -1.        ,\n",
      "       -1.        , -1.        , -1.        , -1.        , -1.        ,\n",
      "       -1.        , -1.        , -1.        , -1.        , -1.        ,\n",
      "       -1.        , -1.        , -1.        , -1.        , -1.        ,\n",
      "       -1.        , -1.        , -1.        , -1.        , -1.        ,\n",
      "       -1.        , -1.        , -1.        , -1.        , -1.        ,\n",
      "       -1.        , -1.        , -1.        , -1.        , -1.        ,\n",
      "       -1.        , -1.        , -1.        , -1.        , -1.        ,\n",
      "       -1.        , -1.        , -1.        , -1.        , -1.        ,\n",
      "       -1.        , -1.        , -1.        , -1.        , -1.        ,\n",
      "       -1.        , -1.        , -1.        , -1.        , -1.        ,\n",
      "       -1.        , -1.        , -1.        , -1.        , -1.        ,\n",
      "       -1.        , -1.        , -1.        , -1.        , -1.        ,\n",
      "       -1.        , -1.        , -1.        , -1.        , -1.        ,\n",
      "       -1.        , -1.        , -1.        , -1.        , -1.        ,\n",
      "       -1.        , -1.        , -1.        , -1.        , -1.        ,\n",
      "       -1.        , -1.        , -1.        , -1.        , -1.        ,\n",
      "       -1.        , -1.        , -1.        , -1.        , -1.        ,\n",
      "       -1.        , -1.        , -1.        , -1.        , -1.        ,\n",
      "       -1.        , -1.        , -1.        , -1.        , -1.        ,\n",
      "       -1.        , -1.        , -1.        , -1.        , -1.        ,\n",
      "       -1.        , -1.        , -1.        , -1.        , -1.        ,\n",
      "       -1.        , -1.        , -1.        , -1.        , -1.        ,\n",
      "       -1.        , -1.        , -1.        , -1.        , -1.        ,\n",
      "       -1.        , -1.        , -1.        , -1.        , -1.        ,\n",
      "       -1.        , -1.        , -1.        , -1.        , -1.        ,\n",
      "       -1.        , -1.        , -1.        , -1.        , -1.        ,\n",
      "       -1.        , -1.        , -1.        , -1.        , -1.        ,\n",
      "       -1.        , -1.        , -1.        , -1.        ,  4.68125825,\n",
      "       -1.        , -1.        , -1.        , -1.        , -1.        ,\n",
      "       -1.        , -1.        , -1.        , -1.        , -1.        ,\n",
      "       -1.        , -1.        , -1.        , -1.        , -1.        ,\n",
      "       -1.        , -1.        , -1.        , -1.        , -1.        ,\n",
      "       -1.        , -1.        , -1.        , -1.        , -1.        ,\n",
      "       -1.        , -1.        , -1.        , -1.        , -1.        ,\n",
      "       -1.        , -1.        , -1.        , -1.        , -1.        ,\n",
      "       -1.        , -1.        , -1.        , -1.        , -1.        ,\n",
      "       -1.        , -1.        , -1.        , -1.        , -1.        ,\n",
      "       -1.        , -1.        , -1.        , -1.        , -1.        ,\n",
      "       -1.        , -1.        , -1.        , -1.        , -1.        ,\n",
      "       -1.        , -1.        , -1.        , -1.        , -1.        ,\n",
      "       -1.        , -1.        , -1.        , -1.        , -1.        ,\n",
      "       -1.        , -1.        , -1.        , -1.        , -1.        ,\n",
      "       -1.        , -1.        , -1.        , -1.        , -1.        ,\n",
      "       -1.        , -1.        , -1.        , -1.        , -1.        ,\n",
      "       -1.        , -1.        , -1.        , -1.        , -1.        ,\n",
      "       -1.        , -1.        , -1.        , -1.        , -1.        ,\n",
      "       -1.        , -1.        , -1.        , -1.        , -1.        ,\n",
      "       -1.        , -1.        , -1.        , -1.        , -1.        ,\n",
      "       -1.        , -1.        , -1.        , -1.        , -1.        ,\n",
      "       -1.        , -1.        , -1.        , -1.        , -1.        ,\n",
      "       -1.        , -1.        , -1.        , -1.        , -1.        ,\n",
      "       -1.        , -1.        , -1.        , -1.        , -1.        ,\n",
      "       -1.        , -1.        , -1.        , -1.        , -1.        ,\n",
      "       -1.        , -1.        , -1.        , -1.        , -1.        ,\n",
      "       -1.        , -1.        , -1.        , -1.        , -1.        ,\n",
      "       -1.        , -1.        , -1.        , -1.        , -1.        ,\n",
      "       -1.        , -1.        , -1.        , -1.        , -1.        ,\n",
      "       -1.        , -1.        , -1.        , -1.        , -1.        ,\n",
      "       -1.        , -1.        , -1.        , -1.        , -1.        ,\n",
      "       -1.        , -1.        , -1.        , -1.        , -1.        ,\n",
      "       -1.        , -1.        , -1.        , -1.        , -1.        ,\n",
      "       -1.        , -1.        , -1.        , -1.        , -1.        ,\n",
      "       -1.        , -1.        , -1.        , -1.        , -1.        ,\n",
      "       -1.        , -1.        , -1.        , -1.        , -1.        ,\n",
      "       -1.        , -1.        , -1.        , -1.        , -1.        ,\n",
      "       -1.        , -1.        , -1.        , -1.        , -1.        ,\n",
      "       -1.        , -1.        , -1.        , -1.        , -1.        ,\n",
      "       -1.        , -1.        , -1.        , -1.        , -1.        ,\n",
      "       -1.        , -1.        , -1.        , -1.        , -1.        ,\n",
      "       -1.        , -1.        , -1.        , -1.        , -1.        ,\n",
      "       -1.        , -1.        , -1.        , -1.        , -1.        ,\n",
      "       -1.        , -1.        , -1.        , -1.        , -1.        ,\n",
      "       -1.        , -1.        , -1.        , -1.        , -1.        ,\n",
      "       -1.        , -1.        , -1.        , -1.        , -1.        ,\n",
      "       -1.        , -1.        , -1.        , -1.        , -1.        ,\n",
      "       -1.        , -1.        , -1.        , -1.        , -1.        ,\n",
      "       -1.        , -1.        , -1.        , -1.        , -1.        ,\n",
      "       -1.        , -1.        , -1.        , -1.        , -1.        ,\n",
      "       -1.        , -1.        , -1.        , -1.        , -1.        ,\n",
      "       -1.        , -1.        , -1.        , -1.        , -1.        ,\n",
      "       -1.        , -1.        , -1.        , -1.        , -1.        ,\n",
      "       -1.        , -1.        , -1.        , -1.        , -1.        ,\n",
      "       -1.        , -1.        , -1.        , -1.        , -1.        ,\n",
      "       -1.        , -1.        , -1.        , -1.        , -1.        ,\n",
      "       -1.        , -1.        , -1.        , -1.        , -1.        ,\n",
      "       -1.        , -1.        , -1.        , -1.        , -1.        ,\n",
      "       -1.        , -1.        , -1.        , -1.        , -1.        ,\n",
      "       -1.        , -1.        , -1.        , -1.        , -1.        ,\n",
      "       -1.        , -1.        , -1.        , -1.        , -1.        ,\n",
      "       -1.        , -1.        , -1.        , -1.        , -1.        ,\n",
      "       -1.        , -1.        , -1.        , -1.        , -1.        ,\n",
      "       -1.        , -1.        , -1.        , -1.        , -1.        ,\n",
      "       -1.        , -1.        , -1.        , -1.        , -1.        ,\n",
      "       -1.        , -1.        , -1.        , -1.        , -1.        ,\n",
      "       -1.        , -1.        , -1.        , -1.        , -1.        ,\n",
      "       -1.        , -1.        , -1.        , -1.        , -1.        ,\n",
      "       -1.        , -1.        , -1.        , -1.        , -1.        ,\n",
      "       -1.        , -1.        , -1.        , -1.        , -1.        ,\n",
      "       -1.        , -1.        , -1.        , -1.        , -1.        ,\n",
      "       -1.        , -1.        , -1.        , -1.        , -1.        ,\n",
      "       -1.        , -1.        , -1.        , -1.        , -1.        ,\n",
      "       -1.        , -1.        , -1.        , -1.        , -1.        ,\n",
      "       -1.        , -1.        , -1.        , -1.        , -1.        ,\n",
      "       -1.        , -1.        , -1.        , -1.        , -1.        ,\n",
      "       -1.        , -1.        , -1.        , -1.        , -1.        ,\n",
      "       -1.        , -1.        , -1.        , -1.        , -1.        ,\n",
      "       -1.        , -1.        , 35.95968599, -1.        , -1.        ,\n",
      "       -1.        , -1.        , -1.        , -1.        , -1.        ,\n",
      "       -1.        , -1.        , -1.        , -1.        , -1.        ,\n",
      "       -1.        , -1.        , -1.        , -1.        , -1.        ,\n",
      "       -1.        , -1.        , -1.        , -1.        , -1.        ,\n",
      "       -1.        , -1.        , -1.        , -1.        , -1.        ,\n",
      "       -1.        , -1.        , -1.        , -1.        , -1.        ,\n",
      "       -1.        , -1.        , -1.        , -1.        , -1.        ,\n",
      "       -1.        , -1.        , -1.        , -1.        , -1.        ,\n",
      "       -1.        , -1.        , -1.        , -1.        , -1.        ,\n",
      "       -1.        , -1.        , -1.        , -1.        , -1.        ,\n",
      "       -1.        , -1.        , -1.        , -1.        , -1.        ,\n",
      "       -1.        , -1.        , -1.        , -1.        , -1.        ,\n",
      "       -1.        , -1.        , -1.        , -1.        , -1.        ,\n",
      "       -1.        , -1.        , -1.        , -1.        , -1.        ,\n",
      "       -1.        , -1.        , -1.        , -1.        , -1.        ,\n",
      "       -1.        , -1.        , -1.        , -1.        , -1.        ,\n",
      "       -1.        , -1.        , -1.        , -1.        , -1.        ,\n",
      "       -1.        , -1.        , -1.        , -1.        , -1.        ,\n",
      "       -1.        , -1.        , -1.        , -1.        , -1.        ,\n",
      "       -1.        , -1.        , -1.        , -1.        , -1.        ,\n",
      "       -1.        , -1.        , -1.        , -1.        , -1.        ,\n",
      "       -1.        , -1.        , -1.        , -1.        , -1.        ,\n",
      "       -1.        , -1.        , -1.        , -1.        , -1.        ,\n",
      "       -1.        , -1.        , -1.        , -1.        , -1.        ,\n",
      "       -1.        , -1.        , -1.        , -1.        , -1.        ,\n",
      "       -1.        , -1.        , -1.        , -1.        , -1.        ,\n",
      "       -1.        , -1.        , -1.        , -1.        , -1.        ,\n",
      "       -1.        , -1.        , -1.        , -1.        , -1.        ,\n",
      "       -1.        , -1.        , -1.        , -1.        , -1.        ,\n",
      "       -1.        , -1.        , -1.        , -1.        , -1.        ,\n",
      "       -1.        , -1.        , -1.        , -1.        , -1.        ,\n",
      "       -1.        , -1.        , -1.        , -1.        , -1.        ,\n",
      "       -1.        , -1.        , -1.        , -1.        , -1.        ,\n",
      "       -1.        , -1.        , -1.        , -1.        , -1.        ,\n",
      "       -1.        , -1.        , -1.        , -1.        , -1.        ,\n",
      "       -1.        , -1.        , -1.        , -1.        , -1.        ,\n",
      "       -1.        , -1.        , -1.        , -1.        , -1.        ,\n",
      "       -1.        , -1.        , -1.        , -1.        , -1.        ,\n",
      "       -1.        , -1.        , -1.        , -1.        , -1.        ,\n",
      "       -1.        , -1.        , -1.        , -1.        , -1.        ,\n",
      "       -1.        , -1.        , -1.        , -1.        , -1.        ,\n",
      "       -1.        , -1.        , -1.        , 15.88795192, -1.        ,\n",
      "       -1.        , -1.        , -1.        , -1.        , -1.        ,\n",
      "       -1.        , -1.        , -1.        , -1.        , -1.        ,\n",
      "       -1.        , -1.        , -1.        , -1.        , -1.        ,\n",
      "       -1.        , -1.        , -1.        , -1.        , -1.        ,\n",
      "       -1.        , -1.        , -1.        , -1.        , -1.        ,\n",
      "       -1.        , -1.        , -1.        , -1.        , -1.        ,\n",
      "       -1.        , -1.        , -1.        , -1.        , -1.        ,\n",
      "       -1.        , -1.        , -1.        , -1.        , -1.        ,\n",
      "       -1.        , -1.        , -1.        , -1.        , -1.        ,\n",
      "       -1.        , -1.        , -1.        , -1.        , -1.        ,\n",
      "       -1.        , -1.        , -1.        , -1.        , -1.        ,\n",
      "       -1.        , -1.        , -1.        , -1.        , -1.        ,\n",
      "       -1.        , -1.        , -1.        , -1.        , -1.        ,\n",
      "       -1.        , -1.        , -1.        , -1.        , -1.        ,\n",
      "       -1.        , -1.        , -1.        , -1.        , -1.        ,\n",
      "       -1.        , -1.        , -1.        , -1.        , -1.        ,\n",
      "       -1.        , -1.        , -1.        , -1.        , -1.        ,\n",
      "       -1.        , -1.        , -1.        , -1.        , -1.        ,\n",
      "       -1.        , -1.        , -1.        , -1.        , -1.        ,\n",
      "       -1.        , -1.        , -1.        , -1.        , -1.        ,\n",
      "       -1.        , -1.        , -1.        , -1.        , -1.        ,\n",
      "       -1.        , -1.        , -1.        , -1.        , -1.        ,\n",
      "       -1.        , -1.        , -1.        , -1.        , -1.        ,\n",
      "       -1.        , -1.        , -1.        , -1.        , -1.        ,\n",
      "       -1.        , -1.        , -1.        , -1.        , -1.        ,\n",
      "       -1.        , -1.        , -1.        , -1.        , -1.        ,\n",
      "       -1.        , -1.        , -1.        , -1.        , -1.        ,\n",
      "       -1.        , -1.        , -1.        , -1.        , -1.        ,\n",
      "       -1.        , -1.        , -1.        , -1.        , -1.        ,\n",
      "       -1.        , -1.        , -1.        , -1.        , -1.        ,\n",
      "       -1.        , -1.        , -1.        , -1.        , -1.        ,\n",
      "       -1.        , -1.        , -1.        , -1.        , -1.        ])\n"
     ]
    }
   ],
   "source": [
    "import scipy.optimize as scopt\n",
    "import numpy as np\n",
    "n = 1000\n",
    "m = 10\n",
    "c = 10 * np.random.rand(n)\n",
    "b = np.random.rand(m)\n",
    "A = np.random.randn(m, n)\n",
    "res = scopt.linprog(c, A, b, bounds=[(-1, None) for i in range(n)])\n",
    "print(res)"
   ]
  },
  {
   "cell_type": "markdown",
   "metadata": {
    "slideshow": {
     "slide_type": "slide"
    }
   },
   "source": [
    "## Complexity"
   ]
  },
  {
   "cell_type": "markdown",
   "metadata": {
    "slideshow": {
     "slide_type": "fragment"
    }
   },
   "source": [
    "- It was shown that in the worst case running time of simplex method is <span style=\"color:red;font-weight:bold\"> exponentially</span> depends on problem dimension!\n",
    "- However in practise running time is proportional to number of constraints and simplex method converges much faster\n",
    "- Why this is so is still unknown..."
   ]
  },
  {
   "cell_type": "markdown",
   "metadata": {
    "collapsed": true,
    "slideshow": {
     "slide_type": "slide"
    }
   },
   "source": [
    "### Example by Klee, Minty (1972) [[1]](https://en.wikipedia.org/wiki/Klee–Minty_cube)\n",
    "\n",
    "In the following problem\n",
    "\\begin{align*}\n",
    "& \\max_{x \\in \\mathbb{R}^n} 2^{n-1}x_1 + 2^{n-2}x_2 + \\dots + 2x_{n-1} + x_n\\\\\n",
    "\\text{s.t. } & x_1 \\leq 5\\\\\n",
    "& 4x_1 + x_2 \\leq 25\\\\\n",
    "& 8x_1 + 4x_2 + x_3 \\leq 125\\\\\n",
    "& \\ldots\\\\\n",
    "& 2^n x_1 + 2^{n-1}x_2 + 2^{n-2}x_3 + \\ldots + x_n \\leq 5^n\\\\\n",
    "& x \\geq 0\n",
    "\\end{align*}\n",
    "starting from the point $x_0 = 0$ and and following to trajectory of simplex method one has to visit $2^n - 1$ vertices.\n",
    "\n",
    "**Exercise**: solve this problem for $n = 2$ and $n = 3$, and generalize solution for arbitrary $n$."
   ]
  },
  {
   "cell_type": "code",
   "execution_count": 3,
   "metadata": {
    "slideshow": {
     "slide_type": "slide"
    }
   },
   "outputs": [],
   "source": [
    "def generate_KleeMinty_test_problem(n):\n",
    "    c = np.array([2**i for i in range(n)])\n",
    "    c = c[::-1]\n",
    "    bounds = [(0, None) for i in range(n)]\n",
    "    b = np.array([5**(i+1) for i in range(n)])\n",
    "    a = np.array([1] + [2**(i+1) for i in range(1, n)])\n",
    "    A = np.zeros((n, n))\n",
    "    for i in range(n):\n",
    "        A[i:, i] = a[:n-i]\n",
    "    return -c, A, b, bounds"
   ]
  },
  {
   "cell_type": "code",
   "execution_count": 4,
   "metadata": {
    "slideshow": {
     "slide_type": "slide"
    }
   },
   "outputs": [
    {
     "name": "stdout",
     "output_type": "stream",
     "text": [
      "[-16  -8  -4  -2  -1]\n",
      "[[ 1.  0.  0.  0.  0.]\n",
      " [ 4.  1.  0.  0.  0.]\n",
      " [ 8.  4.  1.  0.  0.]\n",
      " [16.  8.  4.  1.  0.]\n",
      " [32. 16.  8.  4.  1.]]\n",
      "[   5   25  125  625 3125]\n",
      "[(0, None), (0, None), (0, None), (0, None), (0, None)]\n"
     ]
    }
   ],
   "source": [
    "n = 5\n",
    "c, A, b, bounds = generate_KleeMinty_test_problem(n)\n",
    "print(c)\n",
    "print(A) \n",
    "print(b)\n",
    "print(bounds)"
   ]
  },
  {
   "cell_type": "code",
   "execution_count": 5,
   "metadata": {
    "slideshow": {
     "slide_type": "slide"
    }
   },
   "outputs": [
    {
     "name": "stdout",
     "output_type": "stream",
     "text": [
      "     fun: -3125.0\n",
      " message: 'Optimization terminated successfully.'\n",
      "     nit: 31\n",
      "   slack: array([  5.,  25., 125., 625.,   0.])\n",
      "  status: 0\n",
      " success: True\n",
      "       x: array([   0.,    0.,    0.,    0., 3125.])\n"
     ]
    }
   ],
   "source": [
    "res = scopt.linprog(c, A, b, bounds=bounds)\n",
    "print(res)"
   ]
  },
  {
   "cell_type": "code",
   "execution_count": 6,
   "metadata": {
    "slideshow": {
     "slide_type": "slide"
    }
   },
   "outputs": [
    {
     "name": "stdout",
     "output_type": "stream",
     "text": [
      "2.78 ms ± 77.8 µs per loop (mean ± std. dev. of 7 runs, 100 loops each)\n",
      "5.86 ms ± 298 µs per loop (mean ± std. dev. of 7 runs, 100 loops each)\n",
      "11.5 ms ± 166 µs per loop (mean ± std. dev. of 7 runs, 100 loops each)\n",
      "23.3 ms ± 1.08 ms per loop (mean ± std. dev. of 7 runs, 10 loops each)\n",
      "48.3 ms ± 1.82 ms per loop (mean ± std. dev. of 7 runs, 10 loops each)\n",
      "94.6 ms ± 1.04 ms per loop (mean ± std. dev. of 7 runs, 10 loops each)\n",
      "191 ms ± 3.04 ms per loop (mean ± std. dev. of 7 runs, 1 loop each)\n",
      "401 ms ± 18.9 ms per loop (mean ± std. dev. of 7 runs, 1 loop each)\n",
      "791 ms ± 21.5 ms per loop (mean ± std. dev. of 7 runs, 1 loop each)\n",
      "1.6 s ± 73.9 ms per loop (mean ± std. dev. of 7 runs, 1 loop each)\n",
      "3.4 s ± 157 ms per loop (mean ± std. dev. of 7 runs, 1 loop each)\n",
      "6.79 s ± 82.8 ms per loop (mean ± std. dev. of 7 runs, 1 loop each)\n",
      "13.3 s ± 204 ms per loop (mean ± std. dev. of 7 runs, 1 loop each)\n"
     ]
    }
   ],
   "source": [
    "n_list = range(3, 16)\n",
    "n_iters = np.zeros(len(n_list))\n",
    "times = np.zeros(len(n_list))\n",
    "for i, n in enumerate(n_list):\n",
    "    c, A, b, bounds = generate_KleeMinty_test_problem(n)\n",
    "    res = scopt.linprog(c, A, b, bounds=bounds, options={\"maxiter\": 2**max(n_list)})\n",
    "    time = %timeit -o scopt.linprog(c, A, b, bounds=bounds, options={\"maxiter\": 2**max(n_list) + 1})\n",
    "    n_iters[i] = res.nit\n",
    "    times[i] = time.best"
   ]
  },
  {
   "cell_type": "code",
   "execution_count": 7,
   "metadata": {
    "slideshow": {
     "slide_type": "slide"
    }
   },
   "outputs": [
    {
     "data": {
      "image/png": "[encoded data removed]",
      "text/plain": [
       "<matplotlib.figure.Figure at 0x10d080b70>"
      ]
     },
     "metadata": {},
     "output_type": "display_data"
    }
   ],
   "source": [
    "USE_COLAB = False\n",
    "\n",
    "%matplotlib inline\n",
    "import matplotlib.pyplot as plt\n",
    "\n",
    "if not USE_COLAB:\n",
    "    plt.rc(\"text\", usetex=True)\n",
    "    \n",
    "plt.figure(figsize=(20,5))\n",
    "plt.subplot(1, 2, 1)\n",
    "plt.plot(n_list, n_iters - np.array([2**n - 1 for n in n_list]), label=\"$K_t - K_{exp}$\")\n",
    "# plt.semilogy(n_list, [2**n - 1 for n in n_list], label=\"Theory\")\n",
    "plt.xlabel(\"Dimension, $n$\", fontsize=24)\n",
    "plt.ylabel(\"Number of iterations, $K$\", fontsize=24)\n",
    "plt.xticks(fontsize=18)\n",
    "plt.yticks(fontsize=18)\n",
    "plt.legend(fontsize=18)\n",
    "\n",
    "plt.subplot(1, 2, 2)\n",
    "plt.semilogy(n_list, times)\n",
    "plt.xlabel(\"Dimension, $n$\", fontsize=24)\n",
    "plt.ylabel(\"Computation time\", fontsize=24)\n",
    "plt.xticks(fontsize=18)\n",
    "_ = plt.yticks(fontsize=18)"
   ]
  },
  {
   "cell_type": "markdown",
   "metadata": {
    "collapsed": true,
    "slideshow": {
     "slide_type": "slide"
    }
   },
   "source": [
    "## Recap\n",
    "\n",
    "- Linear programming problem\n",
    "- Applications\n",
    "- Simplex method and its complexity"
   ]
  }
 ],
 "metadata": {
  "anaconda-cloud": {},
  "celltoolbar": "Slideshow",
  "kernelspec": {
   "display_name": "Python 3 (cvxpy)",
   "language": "python",
   "name": "cvxpy"
  },
  "language_info": {
   "codemirror_mode": {
    "name": "ipython",
    "version": 3
   },
   "file_extension": ".py",
   "mimetype": "text/x-python",
   "name": "python",
   "nbconvert_exporter": "python",
   "pygments_lexer": "ipython3",
   "version": "3.6.8"
  }
 },
 "nbformat": 4,
 "nbformat_minor": 1
}
