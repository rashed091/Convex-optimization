{
 "cells": [
  {
   "cell_type": "markdown",
   "metadata": {
    "nbpresent": {
     "id": "196b8a50-3d29-45c3-82b9-f4a09b49491d"
    },
    "slideshow": {
     "slide_type": "slide"
    }
   },
   "source": [
    "# Seminar 12\n",
    "\n",
    "# Introduction to numerical optimization (Y. E. Nesterov Introduction to convex optimization, ch. 1 $\\S$ 1.1)\n",
    "\n",
    " 1. Review of the spring term topics\n",
    " 2. Problem statement\n",
    " 3. General scheme of any optimization method\n",
    " 4. Comparison of optimization methods\n",
    " 5. Methods to solve one-dimansional minimization problem"
   ]
  },
  {
   "cell_type": "markdown",
   "metadata": {
    "nbpresent": {
     "id": "2a573842-172b-4931-b0dd-9c9d3c47a450"
    },
    "slideshow": {
     "slide_type": "slide"
    }
   },
   "source": [
    "## Syllabus of the spring term\n",
    "\n",
    "Also, see on the [GitHub course page](https://github.com/amkatrutsa/MIPT-Opt#spring-term).\n",
    "\n",
    "1. Methods to solve **unconstrained** optimization problem\n",
    "    - One-dimensional optimization problem (**already today!**)\n",
    "    - Gradient descent\n",
    "    - Newton method\n",
    "    - Quasi-Newton methods\n",
    "    - Conjugate gradient method  \n",
    "    - Optional:\n",
    "        - Lerast squares problem\n",
    "        - Optimal methods and lower bounds\n",
    "2. Methods to solve **constrained** optimization problem\n",
    "    - Linear programming\n",
    "    - Projected gradient method and conditional gradient method\n",
    "    - Barrier method\n",
    "    - Penalty function methods\n",
    "    - Augmented Lagrangian method"
   ]
  },
  {
   "cell_type": "markdown",
   "metadata": {
    "slideshow": {
     "slide_type": "slide"
    }
   },
   "source": [
    "## Organizational\n",
    "\n",
    "1. One seminar and one lecture per week\n",
    "2. Two problem sets\n",
    "3. Midterm in the middle of the term\n",
    "4. Final test at the end of the term\n",
    "5. Oral exam at the end of the term (grading for a semester is similar to the fall term)\n",
    "6. Minitests in the deginning of every class\n",
    "7. Homework assignment almost every week: $\\TeX$ or Jupyter Notebook"
   ]
  },
  {
   "cell_type": "markdown",
   "metadata": {
    "slideshow": {
     "slide_type": "slide"
    }
   },
   "source": [
    "## Problem statement\n",
    "\n",
    "\\begin{equation}\n",
    "\\begin{split}\n",
    "& \\min_{x \\in S} \\; f_0(x)\\\\\n",
    "\\text{s.t. } & f_j(x) = 0, \\; j = 1,\\ldots,m\\\\\n",
    "& g_k(x) \\leq 0, \\; k = 1,\\ldots,p\n",
    "\\end{split}\n",
    "\\end{equation}\n",
    "where $S \\subseteq \\mathbb{R}^n$, $f_j: S \\rightarrow \\mathbb{R}, \\; j = 0,\\ldots,m$, $g_k: S \\rightarrow \\mathbb{R}, \\; k=1,\\ldots,p$\n",
    "\n",
    "All functions are at least continuous. \n",
    "\n",
    "Important fact: **nonlinear** optimization problem in its general form is \n",
    "\n",
    "**numerically intractable**!"
   ]
  },
  {
   "cell_type": "markdown",
   "metadata": {
    "slideshow": {
     "slide_type": "slide"
    }
   },
   "source": [
    "## Analytical results\n",
    "- First order necessary condition: \n",
    "\n",
    "if $x^*$ is a local minimum point of the differentiable function $f(x)$, then \n",
    "$$\n",
    "f'(x^*) = 0\n",
    "$$\n",
    "- Second order necessary condition: \n",
    "\n",
    "if $x^*$ is a local minimum point of the twice differentiable function $f(x)$, then \n",
    "\n",
    "$$\n",
    "f'(x^*) = 0 \\quad \\text{и} \\quad f''(x^*) \\succeq 0\n",
    "$$\n",
    "- Sufficient condition:\n",
    "\n",
    "Assume $f(x)$ is twice differentiable function and $x^*$ satisfies the following condition\n",
    "\n",
    "$$\n",
    "f'(x^*) = 0 \\quad f''(x^*) \\succ 0,\n",
    "$$\n",
    "then $x^*$ is a strict local minimum point of function $f(x)$.\n",
    "\n",
    "**Remark**: check that you can prove these claims!"
   ]
  },
  {
   "cell_type": "markdown",
   "metadata": {
    "slideshow": {
     "slide_type": "slide"
    }
   },
   "source": [
    "## Features of numerical solutions\n",
    "\n",
    "1. Exact solution of the given problem is impossible due to precision of machine arithmetic\n",
    "2. It is necessary to define the way to check if current point is a solution or not\n",
    "3. It is necessary to define what information about the problem is stored"
   ]
  },
  {
   "cell_type": "markdown",
   "metadata": {
    "slideshow": {
     "slide_type": "slide"
    }
   },
   "source": [
    "## General iterative scheme\n",
    "\n",
    "Given: initial guess $x$, required tolerance $\\varepsilon$.\n",
    "\n",
    "```python\n",
    "def GeneralScheme(x, epsilon):\n",
    "    \n",
    "    while StopCriterion(x) > epsilon:\n",
    "        \n",
    "        OracleResponse = RequestOracle(x)\n",
    "        \n",
    "        UpdateInformation(I, x, OracleResponse)\n",
    "        \n",
    "        x = NextPoint(I, x)\n",
    "        \n",
    "    return x\n",
    "```"
   ]
  },
  {
   "cell_type": "markdown",
   "metadata": {
    "slideshow": {
     "slide_type": "slide"
    }
   },
   "source": [
    "### Questions\n",
    "1. What are the possible stopping criteria?\n",
    "2. What is an oracle and what is it for?\n",
    "3. What is information model?\n",
    "4. How to get next point?"
   ]
  },
  {
   "cell_type": "markdown",
   "metadata": {
    "slideshow": {
     "slide_type": "slide"
    }
   },
   "source": [
    "#### Stopping criteria\n",
    "1. Convergence in $x$: \n",
    "$$\n",
    "\\| x_k - x^*  \\|_2 < \\varepsilon\n",
    "$$ \n",
    "2. Convergence in $f$: \n",
    "$$\n",
    "\\| f_k - f^* \\|_2 < \\varepsilon\n",
    "$$ \n",
    "3. Necessary condition \n",
    "$$\n",
    "\\| f'(x_k) \\|_2 < \\varepsilon\n",
    "$$\n",
    "\n",
    "But we don't know $x^*$!\n",
    "\n",
    "Then\n",
    "$$\n",
    "\\|x_{k+1} - x_k \\| = \\|x_{k+1} - x_k + x^* - x^* \\| \\leq \\|x_{k+1} - x^* \\| + \\| x_k - x^* \\| \\leq 2\\varepsilon\n",
    "$$\n",
    "\n",
    "The same is true for the convergence in $f$, but sometimes $f^*$ can be estimated!\n",
    "\n",
    "**Remark**: better practise is to use relative difference in argument and functional, for example $\\dfrac{\\|x_{k+1} - x_k \\|_2}{\\| x_k \\|_2}$\n"
   ]
  },
  {
   "cell_type": "markdown",
   "metadata": {
    "slideshow": {
     "slide_type": "slide"
    }
   },
   "source": [
    "#### What is oracle?\n",
    "**Definition**: oracle is some abstact machine that responses on the sequaential method requests\n",
    "\n",
    "OOP analogy: \n",
    "\n",
    "- oracle is a virtual method of the base class\n",
    "- every problem is derived class\n",
    "- oracle is defined for every particular problem according to the declaration in the base class\n",
    "\n",
    "**Black box concept**\n",
    "1. Iterative method can use only oracle responses\n",
    "2. Oracle responses are *local*"
   ]
  },
  {
   "cell_type": "markdown",
   "metadata": {
    "slideshow": {
     "slide_type": "slide"
    }
   },
   "source": [
    "#### Information about the problem\n",
    "1. Every oracle response gives **local** information about function behaviour in the given point\n",
    "2. After aggregation of the oracle responses, we update **global** information about objective function:\n",
    "    - curvature\n",
    "    - descent direction\n",
    "    - etc"
   ]
  },
  {
   "cell_type": "markdown",
   "metadata": {
    "slideshow": {
     "slide_type": "slide"
    }
   },
   "source": [
    "#### Compute next point\n",
    "\n",
    "$$\n",
    "x_{k+1} = x_{k} + \\alpha_k h_k\n",
    "$$\n",
    "\n",
    "- **Line search**: fix direction $h_k$ and search for this direction the optimal value of $\\alpha_k$\n",
    "- **Trust region method**: fix appropriate size of *region* in some norm $\\| \\cdot  \\| \\leq \\alpha$ and *model* of the objective function, which is a good approximation in the considered region.\n",
    "    Next, we search direction $h_k$, that minimizes the chosen model of the objective function and does not lead to the point $x_k + h_k$ lying outside of the considered region\n",
    "\n",
    "Questions:\n",
    "1. How to choose $\\alpha_k$?\n",
    "2. How to choose $h_k$?\n",
    "3. How to choose model?\n",
    "4. How to choose region?\n",
    "5. How to choose region size? \n",
    "\n",
    "<span style=\"color:red\">\n",
    "    In this course we consider only line search methods!</span> \n",
    "    \n",
    "However someiemes the concept of trust region methods will be helpful."
   ]
  },
  {
   "cell_type": "markdown",
   "metadata": {
    "slideshow": {
     "slide_type": "slide"
    }
   },
   "source": [
    "## How to compare optimization methods?\n",
    "For given class of problems one can compare the following quantities:\n",
    "1. Complexity\n",
    "    - analytical: number of the oracle requests to solve the problem with accuracy $\\varepsilon$\n",
    "    - arithmetic: total number of computations to solve the problem with accuracy $\\varepsilon$\n",
    "2. Convergence speed\n",
    "3. Experiments"
   ]
  },
  {
   "cell_type": "markdown",
   "metadata": {
    "slideshow": {
     "slide_type": "slide"
    }
   },
   "source": [
    "### Convergence speed\n",
    "1. Sublinear\n",
    "$$\n",
    "\\| x_{k+1} - x^* \\|_2 \\leq C k^{\\alpha},\n",
    "$$\n",
    "where $\\alpha < 0$ и $ 0 < C < \\infty$\n",
    "2. Linear (geometric progression)\n",
    "$$\n",
    "\\| x_{k+1} - x^* \\|_2 \\leq Cq^k, \n",
    "$$\n",
    "where $q \\in (0, 1)$ and $ 0 < C < \\infty$\n",
    "\n",
    "3. Superlinear \n",
    "$$\n",
    "\\| x_{k+1} - x^* \\|_2 \\leq Cq^{k^p}, \n",
    "$$\n",
    "where $q \\in (0, 1)$, $ 0 < C < \\infty$ and $p > 1$\n",
    "4. Quadratic\n",
    "$$\n",
    "\\| x_{k+1} - x^* \\|_2 \\leq C\\| x_k - x^* \\|^2_2, \\qquad \\text{or} \\qquad \\| x_{k+1} - x^* \\|_2 \\leq C q^{2^k}\n",
    "$$\n",
    "where $q \\in (0, 1)$ and $ 0 < C < \\infty$"
   ]
  },
  {
   "cell_type": "markdown",
   "metadata": {
    "slideshow": {
     "slide_type": "slide"
    }
   },
   "source": [
    "### Optimal methods: can we do better?\n",
    "- Authors prove lower bounds of the convergence speed for given set of problems and methods of given order\n",
    "- Next, the methods, for which these lower bounds are tight, were proposed $\\Rightarrow$ optimality is proved\n",
    "- Later more about convergence theorem"
   ]
  },
  {
   "cell_type": "code",
   "execution_count": 1,
   "metadata": {
    "slideshow": {
     "slide_type": "slide"
    }
   },
   "outputs": [
    {
     "data": {
      "image/png": "[encoded data removed]",
      "text/plain": [
       "<matplotlib.figure.Figure at 0x102b67b00>"
      ]
     },
     "metadata": {},
     "output_type": "display_data"
    }
   ],
   "source": [
    "%matplotlib inline\n",
    "import matplotlib.pyplot as plt\n",
    "\n",
    "USE_COLAB = False\n",
    "if not USE_COLAB:\n",
    "    plt.rc(\"text\", usetex=True)\n",
    "    \n",
    "import numpy as np\n",
    "C = 10\n",
    "alpha = -0.5\n",
    "q = 0.9\n",
    "num_iter = 7\n",
    "sublinear = np.array([C * k**alpha for k in range(1, num_iter + 1)])\n",
    "linear = np.array([C * q**k for k in range(1, num_iter + 1)])\n",
    "superlinear = np.array([C * q**(k**2) for k in range(1, num_iter + 1)])\n",
    "quadratic = np.array([C * q**(2**k) for k in range(1, num_iter + 1)])\n",
    "plt.figure(figsize=(12,8))\n",
    "plt.semilogy(np.arange(1, num_iter+1), sublinear, \n",
    "             label=r\"Sublinear, $\\alpha = -0.5$\")\n",
    "plt.semilogy(np.arange(1, num_iter+1), superlinear, \n",
    "             label=r\"Superlinear, $q = 0.5, p=2$\")\n",
    "plt.semilogy(np.arange(1, num_iter+1), linear, \n",
    "             label=r\"Linear, $q = 0.5$\")\n",
    "plt.semilogy(np.arange(1, num_iter+1), quadratic, \n",
    "             label=r\"Quadratic, $q = 0.5$\")\n",
    "plt.xlabel(\"Number of iteration, $k$\", fontsize=24)\n",
    "plt.ylabel(\"Error rate upper bound\", fontsize=24)\n",
    "plt.legend(loc=\"best\", fontsize=28)\n",
    "plt.xticks(fontsize = 28)\n",
    "_ = plt.yticks(fontsize = 28)"
   ]
  },
  {
   "cell_type": "markdown",
   "metadata": {
    "slideshow": {
     "slide_type": "slide"
    }
   },
   "source": [
    "### On interpretations of the convergence theorems (B.T. Polyak Introduction to optimization, ch. 1, $\\S$ 6)\n",
    "1. What answers give convergence theorems?\n",
    "     - class of problems for which the method is applicable (it is important to minimize the number of restrictions!)\n",
    "         - convexity\n",
    "         - smoothness\n",
    "     - qualitative behaviour of the method   \n",
    "         - is initial guess significant for convergence of method?\n",
    "         - what convergence can be observed?\n",
    "     - estimate of convergence speed\n",
    "         - theoretical estimate of the method behavior without experiments\n",
    "         - detection of properties that affect convergence (condition number, dimension, etc)\n",
    "         - sometimes one can set number of iterations to achieve required accuracy in advance\n",
    "\n",
    "2. What answers do not give convergence theorem?\n",
    "    - convergence of the method **does not mean** that it has to be used\n",
    "    - convergence estimates depend on unknown constants - only theoretical interest\n",
    "    - theorems do not take into account rounding errors and accuracy of solving auxiliary problems\n",
    "    \n",
    "**Main point**: it is necessary to use common sense and be careful in usage of convergence theorem!"
   ]
  },
  {
   "cell_type": "markdown",
   "metadata": {
    "slideshow": {
     "slide_type": "slide"
    }
   },
   "source": [
    "## Classes of problems\n",
    "1. Uncontrained optimization\n",
    "    - Lipschitz objective function \n",
    "    - Lipschitz gradient of the objective function\n",
    "2. Contrained optimization\n",
    "    - polytope\n",
    "    - sets with simple structure\n",
    "    - general form"
   ]
  },
  {
   "cell_type": "markdown",
   "metadata": {
    "slideshow": {
     "slide_type": "slide"
    }
   },
   "source": [
    "## Classes of methods\n",
    "1. Zero order method: oracle returns only objective function $f(x)$\n",
    "\n",
    "2. Fist order method : oracle returns objective function $f(x)$ and its gradient $f'(x)$\n",
    "\n",
    "3. Second order method: oracle returns objective function $f(x)$, its gradient $f'(x)$ and its hessian $f''(x)$.\n",
    "\n",
    "**Q**: do methods of higher order exist?\n",
    "\n",
    "1. One-step methods \n",
    "$$\n",
    "x_{k+1} = \\Phi(x_k)\n",
    "$$\n",
    "2. Multi-step methods\n",
    "$$\n",
    "x_{k+1} = \\Phi(x_k, x_{k-1}, ...)\n",
    "$$"
   ]
  },
  {
   "cell_type": "markdown",
   "metadata": {
    "slideshow": {
     "slide_type": "slide"
    }
   },
   "source": [
    "## One-dimensional optimization\n",
    "**Definition**. Funtion $f(x)$ is unimodal in interval $[a, b]$, if there exists such point $x^* \\in [a, b]$, that \n",
    "- $f(x_1) > f(x_2)$ for any $a \\leq x_1 < x_2 < x^*$, \n",
    "\n",
    "and\n",
    "\n",
    "- $f(x_1) < f(x_2)$ for any $x^* < x_1 < x_2 \\leq b$.\n",
    "\n",
    "**Q**: what geometry of unimodal function?"
   ]
  },
  {
   "cell_type": "markdown",
   "metadata": {
    "slideshow": {
     "slide_type": "slide"
    }
   },
   "source": [
    "### Bisection method\n",
    "\n",
    "Idea from the first term CS course: divide given interval $[a,b]$ on two equal parts till minimum of the unimodal function is not found\n",
    "\n",
    "Denite by $N$ the number of computations of function $f$, then one can perform $K = \\frac{N - 1}{2}$ iterations and the following estimate holds: \n",
    "$$\n",
    "|x_{K+1} - x^*| \\leq \\frac{b_{K+1} - a_{K+1}}{2} = \\left( \\frac{1}{2} \\right)^{\\frac{N-1}{2}} (b - a) \\approx 0.5^{K} (b - a) \n",
    "$$"
   ]
  },
  {
   "cell_type": "code",
   "execution_count": 2,
   "metadata": {
    "slideshow": {
     "slide_type": "fragment"
    }
   },
   "outputs": [],
   "source": [
    "def binary_search(f, a, b, epsilon, callback=None):\n",
    "    c = (a + b) / 2.0\n",
    "    while abs(b - a) > epsilon:\n",
    "#         Check left subsegment\n",
    "        y = (a + c) / 2.0\n",
    "        if f(y) <= f(c):\n",
    "            b = c\n",
    "            c = y\n",
    "        else:\n",
    "#         Check right subsegment\n",
    "            z = (b + c) / 2.0\n",
    "            if f(c) <= f(z):\n",
    "                a = y\n",
    "                b = z\n",
    "            else:\n",
    "                a = c\n",
    "                c = z\n",
    "        if callback is not None:\n",
    "            callback(a, b)\n",
    "    return c"
   ]
  },
  {
   "cell_type": "code",
   "execution_count": 3,
   "metadata": {},
   "outputs": [],
   "source": [
    "def my_callback(a, b, left_bound, right_bound, approximation):\n",
    "    left_bound.append(a)\n",
    "    right_bound.append(b)\n",
    "    approximation.append((a + b) / 2.0)"
   ]
  },
  {
   "cell_type": "code",
   "execution_count": 4,
   "metadata": {
    "slideshow": {
     "slide_type": "slide"
    }
   },
   "outputs": [
    {
     "name": "stdout",
     "output_type": "stream",
     "text": [
      "9.313225746154785e-10\n"
     ]
    },
    {
     "data": {
      "image/png": "[encoded data removed]",
      "text/plain": [
       "<matplotlib.figure.Figure at 0x102b4e128>"
      ]
     },
     "metadata": {},
     "output_type": "display_data"
    }
   ],
   "source": [
    "# %matplotlib inline\n",
    "import numpy as np\n",
    "# import matplotlib.pyplot as plt\n",
    "\n",
    "left_boud_bs = []\n",
    "right_bound_bs = []\n",
    "approximation_bs = []\n",
    "\n",
    "callback_bs = lambda a, b: my_callback(a, b, \n",
    "            left_boud_bs, right_bound_bs, approximation_bs)\n",
    "\n",
    "# Target unimodal function on given segment\n",
    "f = lambda x: (x - 2) * x * (x + 2)**2 # np.power(x+2, 2)\n",
    "# f = lambda x: -np.sin(x)\n",
    "x_true = -2\n",
    "# x_true = np.pi / 2.0\n",
    "a = -3\n",
    "b = -1.5\n",
    "epsilon = 1e-8\n",
    "x_opt = binary_search(f, a, b, epsilon, callback_bs)\n",
    "print(np.abs(x_opt - x_true))\n",
    "plt.figure(figsize=(10,6))\n",
    "plt.plot(np.linspace(a,b), f(np.linspace(a,b)))\n",
    "plt.title(\"Objective function\", fontsize=20)\n",
    "plt.xticks(fontsize=20)\n",
    "_ = plt.yticks(fontsize=20)"
   ]
  },
  {
   "cell_type": "markdown",
   "metadata": {
    "slideshow": {
     "slide_type": "slide"
    }
   },
   "source": [
    "### Golden search method\n",
    "Idea: divide interval $[a,b]$ not on two eqwual parts, but in the golden ratio.\n",
    "\n",
    "Estimate convergence speed like in bisection method:\n",
    "$$\n",
    "|x_{K+1} - x^*| \\leq b_{K+1} - a_{K+1} = \\left( \\frac{1}{\\tau} \\right)^{N-1} (b - a) \\approx 0.618^K(b-a),\n",
    "$$\n",
    "where $\\tau = \\frac{\\sqrt{5} + 1}{2}$.\n",
    "\n",
    "- Constant of linear convergence is **higher**, than corresponding constant in bisection method\n",
    "- Number of function calls is **less** than for the bisection method "
   ]
  },
  {
   "cell_type": "code",
   "execution_count": 5,
   "metadata": {
    "slideshow": {
     "slide_type": "fragment"
    }
   },
   "outputs": [],
   "source": [
    "def golden_search(f, a, b, tol=1e-5, callback=None):\n",
    "    tau = (np.sqrt(5) + 1) / 2.0\n",
    "    y = a + (b - a) / tau**2\n",
    "    z = a + (b - a) / tau\n",
    "    while b - a > tol:\n",
    "        if f(y) <= f(z):\n",
    "            b = z\n",
    "            z = y\n",
    "            y = a + (b - a) / tau**2\n",
    "        else:\n",
    "            a = y\n",
    "            y = z\n",
    "            z = a + (b - a) / tau\n",
    "        if callback is not None:\n",
    "            callback(a, b)\n",
    "    return (a + b) / 2.0"
   ]
  },
  {
   "cell_type": "code",
   "execution_count": 6,
   "metadata": {
    "slideshow": {
     "slide_type": "slide"
    }
   },
   "outputs": [
    {
     "name": "stdout",
     "output_type": "stream",
     "text": [
      "6.93889390875399e-18\n",
      "9.549014390504221e-18\n",
      "9.313225746154785e-10\n"
     ]
    }
   ],
   "source": [
    "left_boud_gs = []\n",
    "right_bound_gs = []\n",
    "approximation_gs = []\n",
    "\n",
    "cb_gs = lambda a, b: my_callback(a, b, left_boud_gs, right_bound_gs, approximation_gs)\n",
    "x_gs = golden_search(f, a, b, epsilon, cb_gs)\n",
    "\n",
    "print(f(x_opt))\n",
    "print(f(x_gs))\n",
    "print(np.abs(x_opt - x_true))"
   ]
  },
  {
   "cell_type": "markdown",
   "metadata": {
    "slideshow": {
     "slide_type": "slide"
    }
   },
   "source": [
    "### Comparison of the methods for one-dimensional problem"
   ]
  },
  {
   "cell_type": "code",
   "execution_count": 7,
   "metadata": {
    "slideshow": {
     "slide_type": "fragment"
    }
   },
   "outputs": [
    {
     "data": {
      "image/png": "[encoded data removed]",
      "text/plain": [
       "<matplotlib.figure.Figure at 0x10e3c0668>"
      ]
     },
     "metadata": {},
     "output_type": "display_data"
    }
   ],
   "source": [
    "plt.figure(figsize=(10,6))\n",
    "plt.semilogy(np.arange(1, len(approximation_bs) + 1), np.abs(x_true - np.array(approximation_bs, dtype=np.float64)), label=\"Binary search\")\n",
    "plt.semilogy(np.arange(1, len(approximation_gs) + 1), np.abs(x_true - np.array(approximation_gs, dtype=np.float64)), label=\"Golden search\")\n",
    "plt.xlabel(r\"Number of iterations, $k$\", fontsize=24)\n",
    "plt.ylabel(\"Error rate upper bound\", fontsize=24)\n",
    "plt.legend(loc=\"best\", fontsize=24)\n",
    "plt.xticks(fontsize = 24)\n",
    "_ = plt.yticks(fontsize = 24)"
   ]
  },
  {
   "cell_type": "code",
   "execution_count": 8,
   "metadata": {
    "slideshow": {
     "slide_type": "fragment"
    }
   },
   "outputs": [
    {
     "name": "stdout",
     "output_type": "stream",
     "text": [
      "21.1 µs ± 280 ns per loop (mean ± std. dev. of 7 runs, 10000 loops each)\n",
      "84.1 µs ± 345 ns per loop (mean ± std. dev. of 7 runs, 10000 loops each)\n"
     ]
    }
   ],
   "source": [
    "%timeit binary_search(f, a, b, epsilon)\n",
    "%timeit golden_search(f, a, b, epsilon)"
   ]
  },
  {
   "cell_type": "markdown",
   "metadata": {
    "slideshow": {
     "slide_type": "slide"
    }
   },
   "source": [
    "## Example of other behaviour of the considered methods\n",
    "\n",
    "$$\n",
    "f(x) = \\sin(\\sin(\\sin(\\sqrt{x}))), \\; x \\in [2, 60]\n",
    "$$"
   ]
  },
  {
   "cell_type": "code",
   "execution_count": 9,
   "metadata": {
    "slideshow": {
     "slide_type": "fragment"
    }
   },
   "outputs": [
    {
     "data": {
      "text/plain": [
       "Text(0.5,1,'Objective function')"
      ]
     },
     "execution_count": 9,
     "metadata": {},
     "output_type": "execute_result"
    },
    {
     "data": {
      "image/png": "[encoded data removed]",
      "text/plain": [
       "<matplotlib.figure.Figure at 0x10e5f9978>"
      ]
     },
     "metadata": {},
     "output_type": "display_data"
    }
   ],
   "source": [
    "f = lambda x: np.sin(np.sin(np.sin(np.sqrt(x))))\n",
    "x_true = (3 * np.pi / 2)**2\n",
    "a = 2\n",
    "b = 60\n",
    "epsilon = 1e-8\n",
    "plt.plot(np.linspace(a,b), f(np.linspace(a,b)))\n",
    "plt.xticks(fontsize = 24)\n",
    "_ = plt.yticks(fontsize = 24)\n",
    "plt.title(\"Objective function\", fontsize=20)"
   ]
  },
  {
   "cell_type": "markdown",
   "metadata": {
    "slideshow": {
     "slide_type": "slide"
    }
   },
   "source": [
    "## Comparison of convergence speed and execution time"
   ]
  },
  {
   "cell_type": "markdown",
   "metadata": {
    "slideshow": {
     "slide_type": "slide"
    }
   },
   "source": [
    "### Bisection method"
   ]
  },
  {
   "cell_type": "code",
   "execution_count": 10,
   "metadata": {
    "slideshow": {
     "slide_type": "fragment"
    }
   },
   "outputs": [
    {
     "name": "stdout",
     "output_type": "stream",
     "text": [
      "2.1968899233115735e-07\n"
     ]
    }
   ],
   "source": [
    "left_boud_bs = []\n",
    "right_bound_bs = []\n",
    "approximation_bs = []\n",
    "\n",
    "callback_bs = lambda a, b: my_callback(a, b, \n",
    "            left_boud_bs, right_bound_bs, approximation_bs)\n",
    "\n",
    "x_opt = binary_search(f, a, b, epsilon, callback_bs)\n",
    "print(np.abs(x_opt - x_true))"
   ]
  },
  {
   "cell_type": "markdown",
   "metadata": {
    "slideshow": {
     "slide_type": "slide"
    }
   },
   "source": [
    "### Golden section method"
   ]
  },
  {
   "cell_type": "code",
   "execution_count": 11,
   "metadata": {
    "slideshow": {
     "slide_type": "fragment"
    }
   },
   "outputs": [
    {
     "name": "stdout",
     "output_type": "stream",
     "text": [
      "2.1968899233115735e-07\n"
     ]
    }
   ],
   "source": [
    "left_boud_gs = []\n",
    "right_bound_gs = []\n",
    "approximation_gs = []\n",
    "\n",
    "cb_gs = lambda a, b: my_callback(a, b, left_boud_gs, right_bound_gs, approximation_gs)\n",
    "x_gs = golden_search(f, a, b, epsilon, cb_gs)\n",
    "\n",
    "print(np.abs(x_opt - x_true))"
   ]
  },
  {
   "cell_type": "markdown",
   "metadata": {
    "slideshow": {
     "slide_type": "slide"
    }
   },
   "source": [
    "### Convergence"
   ]
  },
  {
   "cell_type": "code",
   "execution_count": 12,
   "metadata": {
    "slideshow": {
     "slide_type": "fragment"
    }
   },
   "outputs": [
    {
     "data": {
      "text/plain": [
       "Text(0,0.5,'Error rate upper bound')"
      ]
     },
     "execution_count": 12,
     "metadata": {},
     "output_type": "execute_result"
    },
    {
     "data": {
      "image/png": "[encoded data removed]",
      "text/plain": [
       "<matplotlib.figure.Figure at 0x10e5d5ef0>"
      ]
     },
     "metadata": {},
     "output_type": "display_data"
    }
   ],
   "source": [
    "plt.figure(figsize=(8,6))\n",
    "plt.semilogy(np.abs(x_true - np.array(approximation_bs, dtype=np.float64)), label=\"Binary\")\n",
    "plt.semilogy(np.abs(x_true - np.array(approximation_gs, dtype=np.float64)), label=\"Golden\")\n",
    "plt.legend(fontsize=24)\n",
    "plt.xticks(fontsize=24)\n",
    "_ = plt.yticks(fontsize=24)\n",
    "plt.xlabel(r\"Number of iterations, $k$\", fontsize=24)\n",
    "plt.ylabel(\"Error rate upper bound\", fontsize=24)"
   ]
  },
  {
   "cell_type": "markdown",
   "metadata": {
    "slideshow": {
     "slide_type": "slide"
    }
   },
   "source": [
    "### Execution time"
   ]
  },
  {
   "cell_type": "code",
   "execution_count": 13,
   "metadata": {
    "slideshow": {
     "slide_type": "fragment"
    }
   },
   "outputs": [
    {
     "name": "stdout",
     "output_type": "stream",
     "text": [
      "461 µs ± 10.7 µs per loop (mean ± std. dev. of 7 runs, 1000 loops each)\n",
      "436 µs ± 3.71 µs per loop (mean ± std. dev. of 7 runs, 1000 loops each)\n"
     ]
    }
   ],
   "source": [
    "%timeit binary_search(f, a, b, epsilon)\n",
    "%timeit golden_search(f, a, b, epsilon)"
   ]
  },
  {
   "cell_type": "markdown",
   "metadata": {
    "slideshow": {
     "slide_type": "slide"
    }
   },
   "source": [
    "## Recap\n",
    "1. Introduction to numerical optimization\n",
    "2. General scheme of any optimization method \n",
    "3. How to compare optimization methods\n",
    "4. Zoo of the optimization methods and problems\n",
    "5. One-dimensional minimization"
   ]
  }
 ],
 "metadata": {
  "anaconda-cloud": {},
  "celltoolbar": "Slideshow",
  "kernelspec": {
   "display_name": "Python 3 (cvxpy)",
   "language": "python",
   "name": "cvxpy"
  },
  "language_info": {
   "codemirror_mode": {
    "name": "ipython",
    "version": 3
   },
   "file_extension": ".py",
   "mimetype": "text/x-python",
   "name": "python",
   "nbconvert_exporter": "python",
   "pygments_lexer": "ipython3",
   "version": "3.6.8"
  },
  "nbpresent": {
   "slides": {
    "b738dfa0-30f4-4350-8338-c31d236608ec": {
     "id": "b738dfa0-30f4-4350-8338-c31d236608ec",
     "prev": null,
     "regions": {
      "96278b08-d857-478b-803c-5921bd08bbcd": {
       "attrs": {
        "height": 0.8,
        "width": 0.8,
        "x": 0.1,
        "y": 0.1
       },
       "content": {
        "cell": "196b8a50-3d29-45c3-82b9-f4a09b49491d",
        "part": "whole"
       },
       "id": "96278b08-d857-478b-803c-5921bd08bbcd"
      },
      "9b98a7cc-d9d4-4a02-ac7e-30168dcde7af": {
       "attrs": {
        "height": 0.4,
        "width": 0.8,
        "x": 0.1,
        "y": 0.5
       },
       "content": {
        "cell": "2a573842-172b-4931-b0dd-9c9d3c47a450",
        "part": "whole"
       },
       "id": "9b98a7cc-d9d4-4a02-ac7e-30168dcde7af"
      }
     }
    }
   },
   "themes": {}
  }
 },
 "nbformat": 4,
 "nbformat_minor": 1
}
