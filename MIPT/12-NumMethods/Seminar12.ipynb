{
 "cells": [
  {
   "cell_type": "markdown",
   "metadata": {
    "nbpresent": {
     "id": "196b8a50-3d29-45c3-82b9-f4a09b49491d"
    },
    "slideshow": {
     "slide_type": "slide"
    }
   },
   "source": [
    "# Введение в численные методы оптимизации (Ю. Е. Нестеров Введение в выпуклую оптимизацию, гл. 1 $\\S$ 1.1)\n",
    "\n",
    " 1. Обзор материала весеннего семестра\n",
    " 2. Постановка задачи\n",
    " 3. Общая схема решения\n",
    " 4. Сравнение методов оптимизации\n",
    " 5. Методы одномерной минимизации\n"
   ]
  },
  {
   "cell_type": "markdown",
   "metadata": {
    "nbpresent": {
     "id": "2a573842-172b-4931-b0dd-9c9d3c47a450"
    },
    "slideshow": {
     "slide_type": "slide"
    }
   },
   "source": [
    "## Обзор материала весеннего семестра\n",
    "\n",
    "Также на [странице курса](https://github.com/amkatrutsa/MIPT-Opt#spring-term).\n",
    "\n",
    "1. Методы решения задач **безусловной** оптимизации\n",
    "    - Одномерная минимизация (**уже сегодня!**)\n",
    "    - Градиентный спуск\n",
    "    - Метод Ньютона\n",
    "    - Квазиньютоновские методы\n",
    "    - Метод сопряжённых градиентов  \n",
    "    - Опционально:\n",
    "        - Решение задачи наименьших квадратов\n",
    "        - Оптимальные методы и нижние оценки\n",
    "2. Методы решения задач **условной** оптимизации\n",
    "    - Методы проекции градиента и условного градиента\n",
    "    - Методы штрафных и барьерных функций\n",
    "    - Метод модифицированой функции Лагранжа"
   ]
  },
  {
   "cell_type": "markdown",
   "metadata": {
    "slideshow": {
     "slide_type": "skip"
    }
   },
   "source": [
    "## Организация работы в семестре\n",
    "\n",
    "1. Семинар и лекция раз в неделю\n",
    "2. Два задания в течение семестра\n",
    "3. Midterm в середине семестра\n",
    "4. Итоговая контрольная в конце семестра\n",
    "5. Экзамен в конце семестра (схема выставления оценки аналогична осеннему семестру)\n",
    "6. Миниконтрольные в начале каждого семинара\n",
    "7. Домашнее задание почти каждую неделю: $\\TeX$ или Jupyter Notebook"
   ]
  },
  {
   "cell_type": "markdown",
   "metadata": {
    "slideshow": {
     "slide_type": "slide"
    }
   },
   "source": [
    "## Постановка задачи\n",
    "\n",
    "\\begin{equation}\n",
    "\\begin{split}\n",
    "& \\min_{x \\in S} f_0(x)\\\\\n",
    "\\text{s.t. } & f_j(x) = 0, \\; j = 1,\\ldots,m\\\\\n",
    "& g_k(x) \\leq 0, \\; k = 1,\\ldots,p\n",
    "\\end{split}\n",
    "\\end{equation}\n",
    "где $S \\subseteq \\mathbb{R}^n$, $f_j: S \\rightarrow \\mathbb{R}, \\; j = 0,\\ldots,m$, $g_k: S \\rightarrow \\mathbb{R}, \\; k=1,\\ldots,p$\n",
    "\n",
    "Все функции как минимум непрерывны. \n",
    "\n",
    "Важный факт</span>: задачи **нелинейной** оптимизации \n",
    "\n",
    "в их самой общей форме являются **численно неразрешимыми**!"
   ]
  },
  {
   "cell_type": "markdown",
   "metadata": {
    "slideshow": {
     "slide_type": "slide"
    }
   },
   "source": [
    "## Аналитические результаты\n",
    "- Необходимое условие первого порядка: \n",
    "\n",
    "если $x^*$ точка локального минимума дифференцируемой функции $f(x)$, тогда \n",
    "$$\n",
    "f'(x^*) = 0\n",
    "$$\n",
    "- Необходимое условие второго порядка \n",
    "\n",
    "если $x^*$ точка локального минимума дважды дифференцируемой функции $f(x)$, тогда \n",
    "\n",
    "$$\n",
    "f'(x^*) = 0 \\quad \\text{и} \\quad f''(x^*) \\succeq 0\n",
    "$$\n",
    "- Достаточное условие: \n",
    "\n",
    "пусть $f(x)$ дважды дифференцируемая функция, и пусть точка $x^*$ удовлетворяет условиям\n",
    "\n",
    "$$\n",
    "f'(x^*) = 0 \\quad f''(x^*) \\succ 0,\n",
    "$$\n",
    "тогда $x^*$ является точкой строго локального минимума функции $f(x)$.\n",
    "\n",
    "**Замечание**: убедитесь, что Вы понимаете, как доказывать эти\n",
    "\n",
    "результаты!"
   ]
  },
  {
   "cell_type": "markdown",
   "metadata": {
    "slideshow": {
     "slide_type": "slide"
    }
   },
   "source": [
    "## Особенности численного решения\n",
    "\n",
    "1. Точно решить задачу принципиально невозможно из-за погрешности машинной арифметики\n",
    "2. Необходимо задать критерий обнаружения решения\n",
    "3. Необходимо определить, какую информацию о задаче использовать"
   ]
  },
  {
   "cell_type": "markdown",
   "metadata": {
    "slideshow": {
     "slide_type": "slide"
    }
   },
   "source": [
    "## Общая итеративная схема\n",
    "\n",
    "Дано: начальное приближение $x$, требуемая точность $\\varepsilon$.\n",
    "\n",
    "```python\n",
    "def GeneralScheme(x, epsilon):\n",
    "    \n",
    "    while StopCriterion(x) > epsilon:\n",
    "        \n",
    "        OracleResponse = RequestOracle(x)\n",
    "        \n",
    "        UpdateInformation(I, x, OracleResponse)\n",
    "        \n",
    "        x = NextPoint(I, x)\n",
    "        \n",
    "    return x\n",
    "```"
   ]
  },
  {
   "cell_type": "markdown",
   "metadata": {
    "slideshow": {
     "slide_type": "slide"
    }
   },
   "source": [
    "### Вопросы\n",
    "1. Какие критерии остановки могут быть?\n",
    "2. Что такое оракул и зачем он нужен?\n",
    "3. Что такое информационная модель?\n",
    "4. Как вычисляется новая точка?"
   ]
  },
  {
   "cell_type": "markdown",
   "metadata": {
    "slideshow": {
     "slide_type": "slide"
    }
   },
   "source": [
    "#### Критерии остановки\n",
    "1. Сходимость по аргументу: \n",
    "$$\n",
    "\\| x_k - x^*  \\|_2 < \\varepsilon\n",
    "$$ \n",
    "2. Сходимость по функции: \n",
    "$$\n",
    "\\| f_k - f^* \\|_2 < \\varepsilon\n",
    "$$ \n",
    "3. Выполнение необходимого условия \n",
    "$$\n",
    "\\| f'(x_k) \\|_2 < \\varepsilon\n",
    "$$\n",
    "\n",
    "Но ведь $x^*$ неизвестна!\n",
    "\n",
    "Тогда\n",
    "\n",
    "\\begin{align*}\n",
    "& \\|x_{k+1} - x_k \\| = \\|x_{k+1} - x_k + x^* - x^* \\| \\leq \\\\\n",
    "& \\|x_{k+1} - x^* \\| + \\| x_k - x^* \\| \\leq 2\\varepsilon\n",
    "\\end{align*}\n",
    "\n",
    "Аналогично для сходимости по функции, \n",
    "\n",
    "однако иногда можно оценить $f^*$! \n",
    "\n",
    "**Замечание**: лучше использовать относительные изменения \n",
    "\n",
    "этих величин! \n",
    "\n",
    "Например $\\dfrac{\\|x_{k+1} - x_k \\|_2}{\\| x_k \\|_2}$\n"
   ]
  },
  {
   "cell_type": "markdown",
   "metadata": {
    "slideshow": {
     "slide_type": "slide"
    }
   },
   "source": [
    "#### Что такое оракул?\n",
    "**Определение**: оракулом называют некоторое абстрактное \n",
    "\n",
    "устройство, которое отвечает на последовательные вопросы \n",
    "\n",
    "метода\n",
    "\n",
    "Аналогия из ООП: \n",
    "\n",
    "- оракул - это виртуальный метод базового класса\n",
    "- каждая задача - производный класс\n",
    "- оракул определяется для каждой задачи отдельно согласно общему определению в базовом классе\n",
    "\n",
    "**Концепция чёрного ящика**\n",
    "1. Единственной информацией, получаемой в ходе работы итеративного метода, являются ответы оракула\n",
    "2. Ответы оракула являются *локальными*"
   ]
  },
  {
   "cell_type": "markdown",
   "metadata": {
    "slideshow": {
     "slide_type": "slide"
    }
   },
   "source": [
    "#### Информация о задаче\n",
    "1. Каждый ответ оракула даёт **локальную** информацию о поведении функции в точке\n",
    "2. Агрегируя все полученные ответы оракула, обновляем информацию о **глобальном** виде целевой функции:\n",
    "    - кривизна\n",
    "    - направление убывания\n",
    "    - etc"
   ]
  },
  {
   "cell_type": "markdown",
   "metadata": {
    "slideshow": {
     "slide_type": "slide"
    }
   },
   "source": [
    "#### Вычисление следующей точки\n",
    "\n",
    "$$\n",
    "x_{k+1} = x_{k} + \\alpha_k h_k\n",
    "$$\n",
    "\n",
    "- **Линейный поиск**: фиксируется направление $h_k$ и производится поиск по этому направлению \"оптимального\" значения  $\\alpha_k$\n",
    "- **Метод доверительных областей**: фиксируется допустимый размер *области* по некоторой норме $\\| \\cdot  \\| \\leq \\alpha$ и *модель* целевой функции, которая хорошо её аппроксимирует в выбранной области. \n",
    "    \n",
    "    Далее производится поиск направления $h_k$, минимизирующего модель целевой функции и не выводящего точку $x_k + h_k$ за пределы доверительной области"
   ]
  },
  {
   "cell_type": "markdown",
   "metadata": {
    "slideshow": {
     "slide_type": "slide"
    }
   },
   "source": [
    "#### Вопросы\n",
    "1. Как выбрать $\\alpha_k$?\n",
    "2. Как выбрать $h_k$?\n",
    "3. Как выбрать модель?\n",
    "4. Как выбрать область?\n",
    "5. Как выбрать размер области? \n",
    "\n",
    "<span style=\"color:red\">\n",
    "    В курсе рассматривается только линейный поиск!</span> \n",
    "    \n",
    "Однако несколько раз копцепция метода доверительных областей \n",
    "\n",
    "будет использована."
   ]
  },
  {
   "cell_type": "markdown",
   "metadata": {
    "slideshow": {
     "slide_type": "slide"
    }
   },
   "source": [
    "## Как сравнивать методы оптимизации?\n",
    "Для заданного класса задач сравнивают следующие величины:\n",
    "1. Сложность\n",
    "    - аналитическая: число обращений к оракулу для решения задачи с точностью $\\varepsilon$\n",
    "    - арифметическая: общее число всех вычислений, необходимых для решения задачи с точностью $\\varepsilon$\n",
    "2. Скорость сходимости\n",
    "3. Эксперименты"
   ]
  },
  {
   "cell_type": "markdown",
   "metadata": {
    "slideshow": {
     "slide_type": "slide"
    }
   },
   "source": [
    "### Скорости сходимости \n",
    "1. Сублинейная\n",
    "$$\n",
    "\\| x_{k+1} - x^* \\|_2 \\leq C k^{\\alpha},\n",
    "$$\n",
    "где $\\alpha < 0$ и $ 0 < C < \\infty$\n",
    "2. Линейная (геометрическая прогрессия)\n",
    "$$\n",
    "\\| x_{k+1} - x^* \\|_2 \\leq Cq^k, \n",
    "$$\n",
    "где $q \\in (0, 1)$ и $ 0 < C < \\infty$\n",
    "\n",
    "3. Сверхлинейная \n",
    "$$\n",
    "\\| x_{k+1} - x^* \\|_2 \\leq Cq^{k^p}, \n",
    "$$\n",
    "где $q \\in (0, 1)$, $ 0 < C < \\infty$ и $p > 1$\n",
    "4. Квадратичная\n",
    "$$\n",
    "\\| x_{k+1} - x^* \\|_2 \\leq C\\| x_k - x^* \\|^2_2, \\qquad \\text{или} \\qquad \\| x_{k+1} - x^* \\|_2 \\leq C q^{2^k}\n",
    "$$\n",
    "где $q \\in (0, 1)$ и $ 0 < C < \\infty$"
   ]
  },
  {
   "cell_type": "markdown",
   "metadata": {
    "slideshow": {
     "slide_type": "slide"
    }
   },
   "source": [
    "### Оптимальные методы: can we do better?\n",
    "- Доказывают нижние оценки скоростей сходимости для класса задач и методов фиксированного порядка\n",
    "- Предлагают методы, на которых эти нижние оценки достигаются $\\Rightarrow$ доказана оптимальность \n",
    "- Ниже про значение теорем сходимости\n",
    "\n",
    "Оптимальным методам и нижним оценкам будет, возможно, \n",
    "\n",
    "посвящён отдельный семинар или часть домашнего задания."
   ]
  },
  {
   "cell_type": "code",
   "execution_count": 3,
   "metadata": {
    "slideshow": {
     "slide_type": "slide"
    }
   },
   "outputs": [
    {
     "data": {
      "image/png": "[encoded data removed]",
      "text/plain": [
       "<matplotlib.figure.Figure at 0x110aa1b38>"
      ]
     },
     "metadata": {},
     "output_type": "display_data"
    }
   ],
   "source": [
    "%matplotlib inline\n",
    "import matplotlib.pyplot as plt\n",
    "\n",
    "USE_COLAB = False\n",
    "if not USE_COLAB:\n",
    "    plt.rc(\"text\", usetex=True)\n",
    "\n",
    "import numpy as np\n",
    "C = 10\n",
    "alpha = -0.5\n",
    "q = 0.9\n",
    "num_iter = 7\n",
    "sublinear = np.array([C * k**alpha for k in range(1, num_iter + 1)])\n",
    "linear = np.array([C * q**k for k in range(1, num_iter + 1)])\n",
    "superlinear = np.array([C * q**(k**2) for k in range(1, num_iter + 1)])\n",
    "quadratic = np.array([C * q**(2**k) for k in range(1, num_iter + 1)])\n",
    "plt.figure(figsize=(12,8))\n",
    "plt.semilogy(np.arange(1, num_iter+1), sublinear, \n",
    "             label=r\"Sublinear, $\\alpha = -0.5$\")\n",
    "plt.semilogy(np.arange(1, num_iter+1), superlinear, \n",
    "             label=r\"Superlinear, $q = 0.5, p=2$\")\n",
    "plt.semilogy(np.arange(1, num_iter+1), linear, \n",
    "             label=r\"Linear, $q = 0.5$\")\n",
    "plt.semilogy(np.arange(1, num_iter+1), quadratic, \n",
    "             label=r\"Quadratic, $q = 0.5$\")\n",
    "plt.xlabel(\"Number of iterations, $k$\", fontsize=28)\n",
    "plt.ylabel(\"Error rate upper bound\", fontsize=28)\n",
    "plt.legend(loc=\"best\", fontsize=26)\n",
    "plt.xticks(fontsize = 28)\n",
    "_ = plt.yticks(fontsize = 28)"
   ]
  },
  {
   "cell_type": "markdown",
   "metadata": {
    "slideshow": {
     "slide_type": "slide"
    }
   },
   "source": [
    "### Значение теорем сходимости (Б.Т. Поляк Введение в оптимизацию, гл. 1, $\\S$ 6)\n",
    "1. Что дают теоремы сходимости\n",
    "     - класс задач, для которых можно рассчитывать на применимость метода (важно не завышать условия!)\n",
    "         - выпуклость\n",
    "         - гладкость\n",
    "     - качественное поведение метода\n",
    "         - существенно ли начальное приближение\n",
    "         - по какому функционалу есть сходимость\n",
    "     - оценку скорости сходимости\n",
    "         - теоретическая оценка поведения метода без проведения экспериментов\n",
    "         - определение факторов, которые влияют на сходимость (обусловленность, размерность, etc)\n",
    "         - иногда заранее можно выбрать число итераций для достижения заданной точности \n",
    "\n",
    "2. Что **НЕ** дают теоремы сходимости\n",
    "    - сходимость метода **ничего не говорит** о целесообразности его применения\n",
    "    - оценки сходимости зависят от неизвестных констант - неконструктивный характер\n",
    "    - учёт ошибок округления и точности решения вспомогательных задач\n",
    "    \n",
    "**Мораль**: нужно проявлять разумную осторожность \n",
    "\n",
    "и здравый смысл!"
   ]
  },
  {
   "cell_type": "markdown",
   "metadata": {
    "slideshow": {
     "slide_type": "slide"
    }
   },
   "source": [
    "## Классификация задач\n",
    "1. Безусловная оптимизация\n",
    "    - целевая функция липшицева\n",
    "    - градиент целевой функции липшицев\n",
    "2. Условная оптимизация\n",
    "    - многогранник\n",
    "    - множество простой структуры\n",
    "    - общего вида"
   ]
  },
  {
   "cell_type": "markdown",
   "metadata": {
    "slideshow": {
     "slide_type": "slide"
    }
   },
   "source": [
    "## Классификация методов\n",
    "1. Методы нулевого порядка: оракул возвращает только значение функции $f(x)$\n",
    "\n",
    "2. Методы первого порядка: оракул возвращает значение функции $f(x)$ и её градиент $f'(x)$\n",
    "\n",
    "3. Методы второго порядка: оракул возвращает значение функции $f(x)$, её градиент $f'(x)$ и гессиан $f''(x)$.\n",
    "\n",
    "**Вопрос**: существуют ли методы более высокого порядка?\n",
    "\n",
    "1. Одношаговые методы \n",
    "$$\n",
    "x_{k+1} = \\Phi(x_k)\n",
    "$$\n",
    "2. Многошаговые методы\n",
    "$$\n",
    "x_{k+1} = \\Phi(x_k, x_{k-1}, ...)\n",
    "$$"
   ]
  },
  {
   "cell_type": "markdown",
   "metadata": {
    "slideshow": {
     "slide_type": "slide"
    }
   },
   "source": [
    "## Одномерная минимизация\n",
    "**Определение**. Функция $f(x)$ называется унимодальной на $[a, b]$, если существует такая точка $x^* \\in [a, b]$, что \n",
    "- $f(x_1) > f(x_2)$ для любых $a \\leq x_1 < x_2 < x^*$, \n",
    "\n",
    "и \n",
    "- $f(x_1) < f(x_2)$ для любых $x^* < x_1 < x_2 \\leq b$.\n",
    "\n",
    "**Вопрос**: какая геометрия унимодальных функций?"
   ]
  },
  {
   "cell_type": "markdown",
   "metadata": {
    "slideshow": {
     "slide_type": "slide"
    }
   },
   "source": [
    "### Метод дихотомии\n",
    "\n",
    "Идея из информатики первого семестра: \n",
    "\n",
    "делим отрезок $[a,b]$ на две равные части \n",
    "\n",
    "пока не найдём минимум унимодальной функции.\n",
    "\n",
    "- $N$ - число вычислений функции $f$\n",
    "- $K = \\frac{N - 1}{2}$ - число итераций\n",
    "\n",
    "Тогда\n",
    "$$\n",
    "|x_{K+1} - x^*| \\leq \\frac{b_{K+1} - a_{K+1}}{2} = \\left( \\frac{1}{2} \\right)^{\\frac{N-1}{2}} (b - a) \\approx 0.5^{K} (b - a) \n",
    "$$"
   ]
  },
  {
   "cell_type": "code",
   "execution_count": 5,
   "metadata": {
    "slideshow": {
     "slide_type": "fragment"
    }
   },
   "outputs": [],
   "source": [
    "def binary_search(f, a, b, epsilon, callback=None):\n",
    "    c = (a + b) / 2.0\n",
    "    while abs(b - a) > epsilon:\n",
    "#         Check left subsegment\n",
    "        y = (a + c) / 2.0\n",
    "        if f(y) <= f(c):\n",
    "            b = c\n",
    "            c = y\n",
    "        else:\n",
    "#         Check right subsegment\n",
    "            z = (b + c) / 2.0\n",
    "            if f(c) <= f(z):\n",
    "                a = y\n",
    "                b = z\n",
    "            else:\n",
    "                a = c\n",
    "                c = z\n",
    "        if callback is not None:\n",
    "            callback(a, b)\n",
    "    return c"
   ]
  },
  {
   "cell_type": "code",
   "execution_count": 6,
   "metadata": {},
   "outputs": [],
   "source": [
    "def my_callback(a, b, left_bound, right_bound, approximation):\n",
    "    left_bound.append(a)\n",
    "    right_bound.append(b)\n",
    "    approximation.append((a + b) / 2.0)"
   ]
  },
  {
   "cell_type": "code",
   "execution_count": 8,
   "metadata": {
    "slideshow": {
     "slide_type": "slide"
    }
   },
   "outputs": [
    {
     "name": "stdout",
     "output_type": "stream",
     "text": [
      "9.313225746154785e-10\n"
     ]
    },
    {
     "data": {
      "image/png": "[encoded data removed]",
      "text/plain": [
       "<matplotlib.figure.Figure at 0x110eb18d0>"
      ]
     },
     "metadata": {},
     "output_type": "display_data"
    }
   ],
   "source": [
    "import numpy as np\n",
    "\n",
    "left_boud_bs = []\n",
    "right_bound_bs = []\n",
    "approximation_bs = []\n",
    "\n",
    "callback_bs = lambda a, b: my_callback(a, b, \n",
    "            left_boud_bs, right_bound_bs, approximation_bs)\n",
    "\n",
    "# Target unimodal function on given segment\n",
    "f = lambda x: (x - 2) * x * (x + 2)**2 # np.power(x+2, 2)\n",
    "# f = lambda x: -np.sin(x)\n",
    "x_true = -2\n",
    "# x_true = np.pi / 2.0\n",
    "a = -3\n",
    "b = -1.5\n",
    "epsilon = 1e-8\n",
    "x_opt = binary_search(f, a, b, epsilon, callback_bs)\n",
    "print(np.abs(x_opt - x_true))\n",
    "plt.figure(figsize=(10,6))\n",
    "plt.plot(np.linspace(a,b), f(np.linspace(a,b)))\n",
    "plt.title(\"Objective function\", fontsize=28)\n",
    "plt.xticks(fontsize = 28)\n",
    "_ = plt.yticks(fontsize = 28)"
   ]
  },
  {
   "cell_type": "markdown",
   "metadata": {
    "slideshow": {
     "slide_type": "slide"
    }
   },
   "source": [
    "### Метод золотого сечения\n",
    "Идея: \n",
    "\n",
    "делить отрезок $[a,b]$ не на две равные насти, \n",
    "\n",
    "а в пропорции \"золотого сечения\".\n",
    "\n",
    "Оценим скорость сходимости аналогично методу дихотомии:\n",
    "\n",
    "$$\n",
    "|x_{K+1} - x^*| \\leq b_{K+1} - a_{K+1} = \\left( \\frac{1}{\\tau} \\right)^{N-1} (b - a) \\approx 0.618^K(b-a),\n",
    "$$\n",
    "где $\\tau = \\frac{\\sqrt{5} + 1}{2}$.\n",
    "\n",
    "- Константа геометрической прогрессии **больше**, чем у метода дихотомии\n",
    "- Количество вызовов функции **меньше**, чем у метода дихотомии"
   ]
  },
  {
   "cell_type": "code",
   "execution_count": 9,
   "metadata": {
    "slideshow": {
     "slide_type": "fragment"
    }
   },
   "outputs": [],
   "source": [
    "def golden_search(f, a, b, tol=1e-5, callback=None):\n",
    "    tau = (np.sqrt(5) + 1) / 2.0\n",
    "    y = a + (b - a) / tau**2\n",
    "    z = a + (b - a) / tau\n",
    "    while b - a > tol:\n",
    "        if f(y) <= f(z):\n",
    "            b = z\n",
    "            z = y\n",
    "            y = a + (b - a) / tau**2\n",
    "        else:\n",
    "            a = y\n",
    "            y = z\n",
    "            z = a + (b - a) / tau\n",
    "        if callback is not None:\n",
    "            callback(a, b)\n",
    "    return (a + b) / 2.0"
   ]
  },
  {
   "cell_type": "code",
   "execution_count": 10,
   "metadata": {
    "slideshow": {
     "slide_type": "slide"
    }
   },
   "outputs": [
    {
     "name": "stdout",
     "output_type": "stream",
     "text": [
      "6.93889390875399e-18\n",
      "9.549014390504221e-18\n",
      "9.313225746154785e-10\n"
     ]
    }
   ],
   "source": [
    "left_boud_gs = []\n",
    "right_bound_gs = []\n",
    "approximation_gs = []\n",
    "\n",
    "cb_gs = lambda a, b: my_callback(a, b, left_boud_gs, right_bound_gs, approximation_gs)\n",
    "x_gs = golden_search(f, a, b, epsilon, cb_gs)\n",
    "\n",
    "print(f(x_opt))\n",
    "print(f(x_gs))\n",
    "print(np.abs(x_opt - x_true))"
   ]
  },
  {
   "cell_type": "markdown",
   "metadata": {
    "slideshow": {
     "slide_type": "slide"
    }
   },
   "source": [
    "### Сравнение методов одномерной минимизации"
   ]
  },
  {
   "cell_type": "code",
   "execution_count": 14,
   "metadata": {
    "slideshow": {
     "slide_type": "fragment"
    }
   },
   "outputs": [
    {
     "data": {
      "image/png": "[encoded data removed]",
      "text/plain": [
       "<matplotlib.figure.Figure at 0x11105f7f0>"
      ]
     },
     "metadata": {},
     "output_type": "display_data"
    }
   ],
   "source": [
    "plt.figure(figsize=(10,6))\n",
    "plt.semilogy(np.arange(1, len(approximation_bs) + 1), np.abs(x_true - np.array(approximation_bs, dtype=np.float64)), label=\"Binary search\")\n",
    "plt.semilogy(np.arange(1, len(approximation_gs) + 1), np.abs(x_true - np.array(approximation_gs, dtype=np.float64)), label=\"Golden search\")\n",
    "plt.xlabel(r\"Number of iterations, $k$\", fontsize=26)\n",
    "plt.ylabel(\"Error rate upper bound\", fontsize=26)\n",
    "plt.legend(loc=\"best\", fontsize=26)\n",
    "plt.xticks(fontsize = 26)\n",
    "_ = plt.yticks(fontsize = 26)"
   ]
  },
  {
   "cell_type": "code",
   "execution_count": 8,
   "metadata": {
    "slideshow": {
     "slide_type": "fragment"
    }
   },
   "outputs": [
    {
     "name": "stdout",
     "output_type": "stream",
     "text": [
      "22.6 µs ± 1.13 µs per loop (mean ± std. dev. of 7 runs, 10000 loops each)\n",
      "84.1 µs ± 6.64 µs per loop (mean ± std. dev. of 7 runs, 10000 loops each)\n"
     ]
    }
   ],
   "source": [
    "%timeit binary_search(f, a, b, epsilon)\n",
    "%timeit golden_search(f, a, b, epsilon)"
   ]
  },
  {
   "cell_type": "markdown",
   "metadata": {
    "slideshow": {
     "slide_type": "slide"
    }
   },
   "source": [
    "## Пример иного поведения методов\n",
    "\n",
    "$$\n",
    "f(x) = \\sin(\\sin(\\sin(\\sqrt{x}))), \\; x \\in [2, 60]\n",
    "$$"
   ]
  },
  {
   "cell_type": "code",
   "execution_count": 16,
   "metadata": {
    "slideshow": {
     "slide_type": "fragment"
    }
   },
   "outputs": [
    {
     "data": {
      "image/png": "[encoded data removed]",
      "text/plain": [
       "<matplotlib.figure.Figure at 0x1116ccf60>"
      ]
     },
     "metadata": {},
     "output_type": "display_data"
    }
   ],
   "source": [
    "f = lambda x: np.sin(np.sin(np.sin(np.sqrt(x))))\n",
    "x_true = (3 * np.pi / 2)**2\n",
    "a = 2\n",
    "b = 60\n",
    "epsilon = 1e-8\n",
    "plt.plot(np.linspace(a,b), f(np.linspace(a,b)))\n",
    "plt.xticks(fontsize = 28)\n",
    "_ = plt.yticks(fontsize = 28)"
   ]
  },
  {
   "cell_type": "markdown",
   "metadata": {
    "slideshow": {
     "slide_type": "slide"
    }
   },
   "source": [
    "## Сравнение скорости сходимости и времени работы методов"
   ]
  },
  {
   "cell_type": "markdown",
   "metadata": {
    "slideshow": {
     "slide_type": "slide"
    }
   },
   "source": [
    "### Метод дихотомии"
   ]
  },
  {
   "cell_type": "code",
   "execution_count": 17,
   "metadata": {
    "slideshow": {
     "slide_type": "fragment"
    }
   },
   "outputs": [
    {
     "name": "stdout",
     "output_type": "stream",
     "text": [
      "2.1968899233115735e-07\n"
     ]
    }
   ],
   "source": [
    "left_boud_bs = []\n",
    "right_bound_bs = []\n",
    "approximation_bs = []\n",
    "\n",
    "callback_bs = lambda a, b: my_callback(a, b, \n",
    "            left_boud_bs, right_bound_bs, approximation_bs)\n",
    "\n",
    "x_opt = binary_search(f, a, b, epsilon, callback_bs)\n",
    "print(np.abs(x_opt - x_true))"
   ]
  },
  {
   "cell_type": "markdown",
   "metadata": {
    "slideshow": {
     "slide_type": "slide"
    }
   },
   "source": [
    "### Метод золотого сечения"
   ]
  },
  {
   "cell_type": "code",
   "execution_count": 23,
   "metadata": {
    "slideshow": {
     "slide_type": "fragment"
    }
   },
   "outputs": [
    {
     "name": "stdout",
     "output_type": "stream",
     "text": [
      "2.1968899233115735e-07\n"
     ]
    }
   ],
   "source": [
    "left_boud_gs = []\n",
    "right_bound_gs = []\n",
    "approximation_gs = []\n",
    "\n",
    "cb_gs = lambda a, b: my_callback(a, b, left_boud_gs, right_bound_gs, approximation_gs)\n",
    "x_gs = golden_search(f, a, b, epsilon, cb_gs)\n",
    "\n",
    "print(np.abs(x_opt - x_true))"
   ]
  },
  {
   "cell_type": "markdown",
   "metadata": {
    "slideshow": {
     "slide_type": "slide"
    }
   },
   "source": [
    "### Сходимость"
   ]
  },
  {
   "cell_type": "code",
   "execution_count": 24,
   "metadata": {
    "slideshow": {
     "slide_type": "fragment"
    }
   },
   "outputs": [
    {
     "data": {
      "text/plain": [
       "Text(0,0.5,'Error rate upper bound')"
      ]
     },
     "execution_count": 24,
     "metadata": {},
     "output_type": "execute_result"
    },
    {
     "data": {
      "image/png": "[encoded data removed]",
      "text/plain": [
       "<matplotlib.figure.Figure at 0x111b80ba8>"
      ]
     },
     "metadata": {},
     "output_type": "display_data"
    }
   ],
   "source": [
    "plt.figure(figsize=(8,6))\n",
    "plt.semilogy(np.abs(x_true - np.array(approximation_bs, dtype=np.float64)), label=\"Binary\")\n",
    "plt.semilogy(np.abs(x_true - np.array(approximation_gs, dtype=np.float64)), label=\"Golden\")\n",
    "plt.legend(fontsize=28)\n",
    "plt.xticks(fontsize=28)\n",
    "_ = plt.yticks(fontsize=28)\n",
    "plt.xlabel(r\"Number of iterations, $k$\", fontsize=26)\n",
    "plt.ylabel(\"Error rate upper bound\", fontsize=26)"
   ]
  },
  {
   "cell_type": "markdown",
   "metadata": {
    "slideshow": {
     "slide_type": "slide"
    }
   },
   "source": [
    "### Время работы"
   ]
  },
  {
   "cell_type": "code",
   "execution_count": 13,
   "metadata": {
    "slideshow": {
     "slide_type": "fragment"
    }
   },
   "outputs": [
    {
     "name": "stdout",
     "output_type": "stream",
     "text": [
      "455 µs ± 35.8 µs per loop (mean ± std. dev. of 7 runs, 1000 loops each)\n",
      "416 µs ± 26.2 µs per loop (mean ± std. dev. of 7 runs, 1000 loops each)\n"
     ]
    }
   ],
   "source": [
    "%timeit binary_search(f, a, b, epsilon)\n",
    "%timeit golden_search(f, a, b, epsilon)"
   ]
  },
  {
   "cell_type": "markdown",
   "metadata": {
    "slideshow": {
     "slide_type": "slide"
    }
   },
   "source": [
    "## Резюме\n",
    "1. Введение в численные методы оптимизации\n",
    "2. Общая схема работы метода\n",
    "3. Способы сравнения методов оптимизации\n",
    "4. Зоопарк задач и методов\n",
    "5. Одномерная минимизация"
   ]
  }
 ],
 "metadata": {
  "anaconda-cloud": {},
  "celltoolbar": "Slideshow",
  "kernelspec": {
   "display_name": "Python 3 (cvxpy)",
   "language": "python",
   "name": "cvxpy"
  },
  "language_info": {
   "codemirror_mode": {
    "name": "ipython",
    "version": 3
   },
   "file_extension": ".py",
   "mimetype": "text/x-python",
   "name": "python",
   "nbconvert_exporter": "python",
   "pygments_lexer": "ipython3",
   "version": "3.6.8"
  },
  "nbpresent": {
   "slides": {
    "b738dfa0-30f4-4350-8338-c31d236608ec": {
     "id": "b738dfa0-30f4-4350-8338-c31d236608ec",
     "prev": null,
     "regions": {
      "96278b08-d857-478b-803c-5921bd08bbcd": {
       "attrs": {
        "height": 0.8,
        "width": 0.8,
        "x": 0.1,
        "y": 0.1
       },
       "content": {
        "cell": "196b8a50-3d29-45c3-82b9-f4a09b49491d",
        "part": "whole"
       },
       "id": "96278b08-d857-478b-803c-5921bd08bbcd"
      },
      "9b98a7cc-d9d4-4a02-ac7e-30168dcde7af": {
       "attrs": {
        "height": 0.4,
        "width": 0.8,
        "x": 0.1,
        "y": 0.5
       },
       "content": {
        "cell": "2a573842-172b-4931-b0dd-9c9d3c47a450",
        "part": "whole"
       },
       "id": "9b98a7cc-d9d4-4a02-ac7e-30168dcde7af"
      }
     }
    }
   },
   "themes": {}
  }
 },
 "nbformat": 4,
 "nbformat_minor": 1
}
