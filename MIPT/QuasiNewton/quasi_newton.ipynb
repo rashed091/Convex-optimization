{
 "cells": [
  {
   "cell_type": "markdown",
   "metadata": {
    "slideshow": {
     "slide_type": "slide"
    }
   },
   "source": [
    "# Квазиньютоновские методы: между двух огней"
   ]
  },
  {
   "cell_type": "markdown",
   "metadata": {
    "slideshow": {
     "slide_type": "slide"
    }
   },
   "source": [
    "## Сравнительный анализ метода Ньютона и градиентного спуска\n",
    "\n",
    "Метод | Скорость сходимости | Сложность | Аффинная инвариантность | Требования к $f(x)$\n",
    ":---: | :---: | :---: | :---: | :---:\n",
    "Градиентный спуск | Глобально линейная | $O(n) + $ определение шага | Нет | Дифференцируема; градиент липшицев\n",
    "Метод Ньютона | Локально квадратичная | $O(n^3) + $ определение шага | Да | Дважды диференцируема; гессиан липшицев, положительно определён"
   ]
  },
  {
   "cell_type": "markdown",
   "metadata": {
    "slideshow": {
     "slide_type": "slide"
    }
   },
   "source": [
    "## Как уменьшить сложность хранения и вычисления?\n",
    "\n",
    "- Сложность вычисления можно уменьшить с помощью\n",
    "    - Квазиньютоновские методы, они же методы переменной метрики\n",
    "    - Требуется хранение матрицы $n \\times n$\n",
    "    \n",
    "- Сложность вычисления и хранения можно уменьшить \n",
    "    - квазиньютоновские методы с ограниченной памятью, например [L-BFGS](https://en.wikipedia.org/wiki/Limited-memory_BFGS) (Limited Broyden-Fletcher-Goldfarb-Shanno)\n",
    "    - НЕ требуется хранить матрицу\n",
    "    - вместо этого хранятся $k \\ll n$ векторов из $\\mathbb{R}^n$"
   ]
  },
  {
   "cell_type": "markdown",
   "metadata": {
    "slideshow": {
     "slide_type": "slide"
    }
   },
   "source": [
    "## Единообразный способ получения метода Ньютона и градиентного спуска \n",
    "\n",
    "- градиентный метод получен из аппроксимации первого порядка:\n",
    "\n",
    "$$\n",
    "f_G(x) \\approx f(y) + \\langle f'(y), x - y \\rangle + \\frac{1}{2}(x-y)^{\\top} \\frac{1}{\\alpha}I(x - y)\n",
    "$$\n",
    "\n",
    "причём при $\\alpha \\in (0, 1/L], f(x) \\leq f_G(x)$, то есть $f_G$ - глобальная оценка $f(x)$\n",
    "- метод Ньютона получен из аппроксимации второго порядка\n",
    "\n",
    "$$\n",
    "f_N(x) \\approx f(y) + \\langle f'(y), x - y \\rangle + \\frac{1}{2} (x-y)^{\\top}f''(y)(x-y)\n",
    "$$"
   ]
  },
  {
   "cell_type": "markdown",
   "metadata": {
    "slideshow": {
     "slide_type": "slide"
    }
   },
   "source": [
    "**Идея:** использовать промежуточную аппроксимацию вида\n",
    "\n",
    "$$\n",
    "f_q(x) \\approx f(y) + \\langle f'(y), x - y \\rangle + \\frac{1}{2} (x-y)^{\\top}{\\color{red}{B(y)}}(x-y),\n",
    "$$\n",
    "\n",
    "которая даёт переход к следующей точке:\n",
    "\n",
    "$$\n",
    "x_{k+1} = x_k - \\alpha_k B^{-1}_k f'(x_k) = x_k - \\alpha_k H_k f'(x_k)\n",
    "$$"
   ]
  },
  {
   "cell_type": "markdown",
   "metadata": {
    "slideshow": {
     "slide_type": "slide"
    }
   },
   "source": [
    "## Немного истории...\n",
    "- Первый квазиньютоновский метод придумал физик William Davidon в середине 1950-х для ускорения своих вычислений на ненадёжных компьютерах\n",
    "- Его статью с описанием предложенного метода не приняли к публикации, и она оставалась техническим отчётом <br></br> более 30 лет\n",
    "- [Опубликована](http://epubs.siam.org/doi/abs/10.1137/0801001) в 1991 году в первом выпуске [SIAM Journal on Optimization](https://www.siam.org/journals/siopt.php) \n",
    "\n",
    "<img src=\"./dfp_cite.png\" width=700>"
   ]
  },
  {
   "cell_type": "markdown",
   "metadata": {
    "slideshow": {
     "slide_type": "slide"
    }
   },
   "source": [
    "## Общая схема квазиньютоновских методов\n",
    "\n",
    "```python\n",
    "def QuasiNewtonMethod(f, x0, epsilon, **kwargs):\n",
    "    \n",
    "    x = x0\n",
    "    \n",
    "    H = I\n",
    "    \n",
    "    while True:\n",
    "        \n",
    "        h = -H.dot(grad_f(x))\n",
    "        \n",
    "        if StopCriterion(x, f, h, **kwargs) < epsilon:\n",
    "            \n",
    "            break\n",
    "            \n",
    "        alpha = SelectStepSize(x, h, f, **kwargs)\n",
    "            \n",
    "        x = x + alpha * h\n",
    "            \n",
    "        H = UpdateH(H, f(x), grad_f(x))\n",
    "            \n",
    "    return x\n",
    "```"
   ]
  },
  {
   "cell_type": "markdown",
   "metadata": {
    "slideshow": {
     "slide_type": "slide"
    }
   },
   "source": [
    "## Как искать $B_{k+1}$?\n",
    "\n",
    "В точке $x_{k+1}$ имеем следующую аппрокисмацию:\n",
    "\n",
    "$$\n",
    "f_q(h) \\approx f(x_{k+1}) + \\langle f'(x_{k+1}), h \\rangle + \\frac{1}{2}h^{\\top}B_{k+1}h\n",
    "$$\n",
    "\n",
    "Из определения, очевидно, что $B_{k+1} \\in \\mathbb{S}^n_{++}$.\n",
    "Какие требования естественно наложить на $f_q(h)$?"
   ]
  },
  {
   "cell_type": "markdown",
   "metadata": {
    "slideshow": {
     "slide_type": "slide"
    }
   },
   "source": [
    "$$\n",
    "f_q'(-\\alpha_k h_k) = f'(x_k) \\qquad f'_q(0) = f'(x_{k+1}),\n",
    "$$\n",
    "\n",
    "где первое условие даёт\n",
    "\n",
    "$$\n",
    "f'(x_{k+1}) - \\alpha_k B_{k+1}h_k = f'(x_k),\n",
    "$$\n",
    "\n",
    "а второе выполняется автоматически."
   ]
  },
  {
   "cell_type": "markdown",
   "metadata": {
    "slideshow": {
     "slide_type": "slide"
    }
   },
   "source": [
    "### Квазиньютоновское уравнение (Secant equation)\n",
    "\n",
    "Из первого условия получаем\n",
    "\n",
    "$$\n",
    "B_{k+1}s_k = y_k,\n",
    "$$\n",
    "\n",
    "где $s_k = x_{k+1} - x_k$ и $y_k = f'(x_{k+1}) - f'(x_k)$.\n",
    "\n",
    "Это уравнение будет иметь решение только при $s^{\\top}_k y_k > 0$. Почему?"
   ]
  },
  {
   "cell_type": "markdown",
   "metadata": {
    "slideshow": {
     "slide_type": "fragment"
    }
   },
   "source": [
    "**Вопрос:** всегда ли выполнено такое соотношение \n",
    "\n",
    "между разностью градиентов и точек?\n",
    "\n",
    "**Hint**: вспомините условие Вольфа"
   ]
  },
  {
   "cell_type": "markdown",
   "metadata": {
    "slideshow": {
     "slide_type": "fragment"
    }
   },
   "source": [
    "**Вопрос:** единственным ли образом определено $B_{k+1}$?"
   ]
  },
  {
   "cell_type": "markdown",
   "metadata": {
    "slideshow": {
     "slide_type": "slide"
    }
   },
   "source": [
    "### Как однозначно определить $B_{k+1}$?\n",
    "\n",
    "\\begin{align*}\n",
    "& \\min_B \\| B_k - B \\| \\\\\n",
    "\\text{s.t. } & B = B^{\\top}\\\\\n",
    "& Bs_k = y_k\n",
    "\\end{align*}"
   ]
  },
  {
   "cell_type": "markdown",
   "metadata": {
    "slideshow": {
     "slide_type": "slide"
    }
   },
   "source": [
    "## DFP (Davidon-Fletcher-Powell)\n",
    "\n",
    "$$\n",
    "B_{k+1} = (I - \\rho_k y_k s^{\\top}_k)B_k(I - \\rho_k s_ky^{\\top}_k) + \\rho_k y_k y^{\\top}_k,\n",
    "$$\n",
    "\n",
    "где $\\rho_k = \\dfrac{1}{y^{\\top}_k s_k}$,\n",
    "\n",
    "или с помощью формулы Шермана-Морисона-Вудбери\n",
    "\n",
    "$$\n",
    "B^{-1}_{k+1} = H_{k+1} = H_k - \\dfrac{H_ky_k y_k^{\\top}H_k}{y^{\\top}_kH_ky_k} + \\dfrac{s_ks^{\\top}_k}{y^{\\top}_ks_k}\n",
    "$$\n",
    "\n",
    "**Вопрос:** какой ранг у разности матриц $B_{k+1} (H_{k+1})$ и $B_{k} (H_{k})$?"
   ]
  },
  {
   "cell_type": "markdown",
   "metadata": {
    "slideshow": {
     "slide_type": "slide"
    }
   },
   "source": [
    "### Вывод\n",
    "\n",
    "Общая идея квазиньютоновских методов: \n",
    "\n",
    "вместо полного пересчёта гессиана на каждой итерации обновлять \n",
    "\n",
    "текущую его аппроксимацию с помощью легко вычислимого \n",
    "\n",
    "преобразования"
   ]
  },
  {
   "cell_type": "markdown",
   "metadata": {
    "slideshow": {
     "slide_type": "slide"
    }
   },
   "source": [
    "## BFGS\n",
    "<img src=\"./bfgs.png\" width=500>\n",
    "\n",
    "**Вопрос:** какая естественная модификация метода DFP?"
   ]
  },
  {
   "cell_type": "markdown",
   "metadata": {
    "slideshow": {
     "slide_type": "slide"
    }
   },
   "source": [
    "\\begin{align*}\n",
    "& \\min_H \\| H_k - H \\| \\\\\n",
    "\\text{s.t. } & H = H^{\\top}\\\\\n",
    "& Hy_k = s_k\n",
    "\\end{align*}"
   ]
  },
  {
   "cell_type": "markdown",
   "metadata": {
    "slideshow": {
     "slide_type": "slide"
    }
   },
   "source": [
    "Формула пересчёта для метода BFGS:\n",
    "\n",
    "$$\n",
    "H_{k+1} = (I - \\rho_k s_ky^{\\top}_k)H_k(I - \\rho_k y_k s^{\\top}_k) + \\rho_k s_k s^{\\top}_k,\n",
    "$$\n",
    "\n",
    "где $\\rho_k = \\dfrac{1}{y^{\\top}_k s_k}$"
   ]
  },
  {
   "cell_type": "markdown",
   "metadata": {
    "slideshow": {
     "slide_type": "slide"
    }
   },
   "source": [
    "### Детали реализации\n",
    "\n",
    "- Не должно быть операций сложностью $O(n^3)$, то есть никаких матричных умножений и решений линейных систем (cf. [реализацию в SciPy v. 0.18.1](https://github.com/scipy/scipy/blob/v0.18.1/scipy/optimize/optimize.py#L874-L976))\n",
    "- Только правило Вольфа гарантирует соблюдения условия кривизны $y_k^{\\top}s_k > 0$\n",
    "- Параметры в правиле Вольфа обычно следующие\n",
    "    - $\\alpha_0 = 1$ необходим для сверхлинейной скорости\n",
    "    - $\\beta_1 = 10^{-4}$, $\\beta_2 = 0.9$\n",
    "- Способы инициализации $H_0$\n",
    "    - единичная матрица\n",
    "    - $H_0 = \\frac{y_0^{\\top}s_0}{y_0^{\\top}y_0}I$ **после** первого шага, но до вычисления $H_1$.При вычислении $x_1$  используется $H_0 = I$\n",
    "    - $H_0 = \\delta \\|g_0\\|^{-1}_2 I$, параметр $\\delta$ необходимо заранее задать\n",
    "- При использовании $B$ вместо $H$ нужно хранить $B$ в виде $LDL^{\\top}$ разложения и обновлять не саму матрицу $B$, а её разложение. Это явно делается за $O(n^2)$. Вычисление $h_k$ - это решение линейной системы с предвычисленным разложением матрицы, следовательно сложность также $O(n^2)$. Этот подход позволяет контролировать устройчивость в диагонали матрицы $D$. На практике предпочтительнее работать с матрицей $H$\n"
   ]
  },
  {
   "cell_type": "markdown",
   "metadata": {
    "slideshow": {
     "slide_type": "slide"
    }
   },
   "source": [
    "```python\n",
    "def update_H(x_next, x_current):\n",
    "    \n",
    "    current_grad = grad(x_next)\n",
    "    \n",
    "    s = x_next - x_current\n",
    "    \n",
    "    y = current_grad - grad_mem[-1]\n",
    "    \n",
    "    rho = 1. / y.dot(s)\n",
    "    \n",
    "    if H is None:\n",
    "        \n",
    "        H = np.eye(x_current.shape[0]) / y.dot(y) / rho\n",
    "        \n",
    "    Hy = H.dot(y)\n",
    "    \n",
    "    Hys = np.outer(Hy, s)\n",
    "    \n",
    "    ss = np.outer(s, s)\n",
    "    \n",
    "    H = rho * ss + H - rho * Hys - rho * Hys.T + rho**2 * y.dot(Hy) * ss\n",
    "    \n",
    "    x_current = x_next\n",
    "    \n",
    "    return H\n",
    "```"
   ]
  },
  {
   "cell_type": "markdown",
   "metadata": {
    "slideshow": {
     "slide_type": "slide"
    }
   },
   "source": [
    "### Сходимость\n",
    "\n",
    "**Теорема**\n",
    "\n",
    "Пусть $f$ дважды непрерывно дифференцируема и её гессиан липшицев, также пусть последовательность генерируемая методом BFGS сходится к точке $x^*$ так что $\\sum_{k=1}^{\\infty} \\|x_k - x^*\\| < \\infty$. Тогда $x_k \\to x^*$ сверхлинейно."
   ]
  },
  {
   "cell_type": "markdown",
   "metadata": {
    "slideshow": {
     "slide_type": "slide"
    }
   },
   "source": [
    "### Самокоррекция\n",
    "\n",
    "- Если BFGS на некоторой итерации даёт плохую оценку обратного гессиана, то через несколько итераций это недоразумение будет **автоматически** исправлено, то есть метод сам скорректирует грубую оценку гессиана\n",
    "- Это свойство появляется только при правильном способе выбора шага, например при использовании правила Вольфа\n",
    "- Метод DFP существенно хуже корректирует неточные оценки обратного гессиана\n",
    "- Всё это будет ниже проиллюстрировано на примерах"
   ]
  },
  {
   "cell_type": "markdown",
   "metadata": {
    "slideshow": {
     "slide_type": "slide"
    }
   },
   "source": [
    "## BFGS с ограниченной памятью (L-BFGS)\n",
    "\n",
    "- В методе BFGS нужна не сама матрица $H$, а только функция умножения её на вектор \n",
    "- Поскольку требуется локальная оценка гессиана, старые значения векторов $s$ и $y$ могут портить текущую оценку\n",
    "\n",
    "**Идея**\n",
    "\n",
    "- Хранить $k \\ll n$ последних векторов $s$ и $y$ - снижение требуемой памяти с $n^2$ до $kn$\n",
    "- Выполнение умножения на вектор рекурсивно, без явного формирования матрицы $H$\n",
    "\n",
    "<img src=\"./l-bfgs_cite.png\" width=600>"
   ]
  },
  {
   "cell_type": "markdown",
   "metadata": {
    "slideshow": {
     "slide_type": "slide"
    }
   },
   "source": [
    "```python\n",
    "def get_lbfgs_direction(x):\n",
    "    \n",
    "    if H is None:\n",
    "        \n",
    "        current_grad = grad(x)\n",
    "        \n",
    "        return -current_grad\n",
    "    \n",
    "    else:\n",
    "        \n",
    "        q = current_grad\n",
    "        \n",
    "        alpha = np.zeros(len(s_hist))\n",
    "        \n",
    "        rho = np.zeros(len(s_hist))\n",
    "        \n",
    "        for i in range(len(s_hist) - 1, -1, -1):\n",
    "            \n",
    "            rho[i] = 1. / s_hist[i].dot(y_hist[i])\n",
    "            \n",
    "            alpha[i] = s_hist[i].dot(q) * rho[i]\n",
    "            \n",
    "            q = q - alpha[i] * y_hist[i]\n",
    "            \n",
    "        r = q * H\n",
    "        \n",
    "        for i in range(len(s_hist)):\n",
    "            \n",
    "            beta = rho[i] * y_hist[i].dot(r)\n",
    "            \n",
    "            r = r + s_hist[i] * (alpha[i] - beta)\n",
    "            \n",
    "    return -r\n",
    "\n",
    "```"
   ]
  },
  {
   "cell_type": "markdown",
   "metadata": {
    "slideshow": {
     "slide_type": "slide"
    }
   },
   "source": [
    "### Сравнение с нелинейным методом сопряжённых градиентов\n",
    "\n",
    "- В методе Хестенса-Штифеля\n",
    "\n",
    "$$\n",
    "h_{k+1} = -f'(x_{k+1}) + \\beta_{k+1} h_{k}, \\quad \\beta_{k+1} = \\frac{y_k^{\\top}f'(x_{k+1})}{y_k^{\\top} h_k}\n",
    "$$\n",
    "\n",
    "или\n",
    "\n",
    "$$\n",
    "h_{k+1} = -\\left(I - \\frac{s_k y_k^{\\top}}{y_k^{\\top}s_k}\\right)f'(x_{k+1}) = -\\hat{H}_{k+1} f'(x_{k+1})\n",
    "$$\n",
    "\n",
    "- Матрица $\\hat{H}_{k+1}$ несимметрична и неположительно определённая, однако матрица \n",
    "\n",
    "$$\n",
    "H_{k+1} = \\left(I - \\frac{s_k y_k^{\\top}}{y_k^{\\top}s_k}\\right)\\left(I - \\frac{y_k s_k^{\\top}}{y_k^{\\top}s_k}\\right) + \\frac{s_ks_k^{\\top}}{y_k^{\\top}s_k}\n",
    "$$\n",
    "\n",
    "удовлетворяет всем требованиям к матрице в методе BFGS и совпадает с формулой для обновления $H_k$, если $H_k = I$, то есть $k=1$ в методе LBFGS и $H_0 = I$\n",
    "- Более того, при выборе шага по правилу наискорейшего спуска, формулы для метода Хестенса Штифеля и LBFGS с $k = 1$ в точности совпадают"
   ]
  },
  {
   "cell_type": "markdown",
   "metadata": {
    "slideshow": {
     "slide_type": "slide"
    }
   },
   "source": [
    "## Barzilai-Borwein method\n",
    "\n",
    "- Первая [статья](http://pages.cs.wisc.edu/~swright/726/handouts/barzilai-borwein.pdf) об этом методе опубликована в 1988, в журнале IMA Journal of Numerical Analysis\n",
    "- [Статья](http://papers.nips.cc/paper/6286-barzilai-borwein-step-size-for-stochastic-gradient-descent.pdf) на NIPS 2016 о модификации этого метода в случае использования стохастической оценки градиента\n",
    "- Идея: комбинация идеи наискорейшего спуска и квазиньютоновского метода"
   ]
  },
  {
   "cell_type": "markdown",
   "metadata": {
    "slideshow": {
     "slide_type": "slide"
    }
   },
   "source": [
    "### Идея метода\n",
    "\n",
    "- Наискорейший спуск: $x_{k+1} = x_k - \\alpha_k f'(x_k)$, $\\alpha_k = \\arg \\min\\limits_{\\alpha > 0} f(x_{k+1})$\n",
    "- Метод Ньютона: $x_{k+1} = x_k - (f''(x_k))^{-1} f'(x_k)$\n",
    "- Аппроксимация гессиана диагональной матрицей:\n",
    "\n",
    "$$\n",
    "\\alpha_k f'(x_k) = \\alpha_k I f'(x_k) = \\left( \\frac{1}{\\alpha_k} I \\right)^{-1} f'(x_k) \\approx f''(x_k))^{-1} f'(x_k)\n",
    "$$\n",
    "\n",
    "- Как найти $\\alpha_k$?"
   ]
  },
  {
   "cell_type": "markdown",
   "metadata": {
    "slideshow": {
     "slide_type": "slide"
    }
   },
   "source": [
    "### Снова квазиньютоновское уравнение (Secant equation)\n",
    "- Для точного гессиана\n",
    "$$\n",
    "f''(x_{k})(x_{k} - x_{k-1}) = f'(x_{k}) - f'(x_{k-1})\n",
    "$$\n",
    "- Для приближения\n",
    "\n",
    "$$\n",
    "\\alpha_k^{-1} s_{k-1} \\approx y_{k-1}\n",
    "$$\n",
    "\n",
    "- Задача аппроксимации одного вектора с помощью масштабирования другого\n",
    "- Простейший квазиньютоновский метод вырождается в поиск оптимального шага"
   ]
  },
  {
   "cell_type": "markdown",
   "metadata": {
    "slideshow": {
     "slide_type": "slide"
    }
   },
   "source": [
    "### Три способа найти $\\alpha_k$\n",
    "\n",
    "- Первый способ\n",
    "    - Задача\n",
    "    \n",
    "    $$\n",
    "    \\min_{\\beta} \\|\\beta s_{k-1} - y_{k-1} \\|^2_2\n",
    "    $$\n",
    "    \n",
    "    - Решение\n",
    "    \n",
    "    $$\n",
    "    \\alpha = \\frac{1}{\\beta} = \\frac{s^{\\top}_{k-1} s_{k-1}}{s^{\\top}_{k-1} y_{k-1}}\n",
    "    $$\n",
    "    \n",
    "- Второй способ\n",
    "    - Задача\n",
    "    \n",
    "    $$\n",
    "    \\min_{\\alpha} \\| s_{k-1} - \\alpha y_{k-1} \\|^2_2\n",
    "    $$\n",
    "    \n",
    "    - Решение\n",
    "    \n",
    "    $$\n",
    "    \\alpha = \\frac{s^{\\top}_{k-1} y_{k-1}}{y^{\\top}_{k-1} y_{k-1}}\n",
    "    $$\n",
    "- Третий способ называется немонотонный линейный поиск: специальная модификация правил Армихо, учитывающая историю изменений значения функции, [статья](https://www.math.lsu.edu/~hozhang/papers/nonmonotone.pdf) 2004 г. в SIAM Journal on Optimization"
   ]
  },
  {
   "cell_type": "markdown",
   "metadata": {
    "slideshow": {
     "slide_type": "slide"
    }
   },
   "source": [
    "## Эксперименты\n",
    "\n",
    "### Поиск аналитического центра системы неравенств\n",
    "\n",
    "$$\n",
    "f(x) = - \\sum_{i=1}^m \\log(1 - a_i^{\\top}x) - \\sum\\limits_{i = 1}^n \\log (1 - x^2_i) \\to \\min_x\n",
    "$$"
   ]
  },
  {
   "cell_type": "code",
   "execution_count": 1,
   "metadata": {
    "slideshow": {
     "slide_type": "slide"
    }
   },
   "outputs": [],
   "source": [
    "import numpy as np\n",
    "import liboptpy.unconstr_solvers as methods\n",
    "import liboptpy.step_size as ss\n",
    "%matplotlib inline\n",
    "import matplotlib.pyplot as plt\n",
    "import scipy.optimize as scopt\n",
    "plt.rc(\"text\", usetex=True)"
   ]
  },
  {
   "cell_type": "code",
   "execution_count": 2,
   "metadata": {
    "slideshow": {
     "slide_type": "slide"
    }
   },
   "outputs": [],
   "source": [
    "n = 3000\n",
    "m = 100\n",
    "x0 = np.zeros(n)\n",
    "max_iter = 100\n",
    "tol = 1e-5\n",
    "A = np.random.rand(m, n) * 10"
   ]
  },
  {
   "cell_type": "code",
   "execution_count": 3,
   "metadata": {
    "slideshow": {
     "slide_type": "slide"
    }
   },
   "outputs": [],
   "source": [
    "f = lambda x: -np.sum(np.log(1 - A.dot(x))) - np.sum(np.log(1 - x*x))\n",
    "grad_f = lambda x: np.sum(A.T / (1 - A.dot(x)), axis=1) + 2 * x / (1 - np.power(x, 2))"
   ]
  },
  {
   "cell_type": "code",
   "execution_count": 4,
   "metadata": {
    "slideshow": {
     "slide_type": "slide"
    }
   },
   "outputs": [],
   "source": [
    "def bb_method(f, gradf, x0, tol=1e-6, maxiter=100, callback=None, alpha_type=1):\n",
    "    it = 0\n",
    "    x_prev = x0.copy()\n",
    "    current_tol = np.linalg.norm(gradf(x_prev))\n",
    "    alpha = 1e-4\n",
    "    while current_tol > tol and it < maxiter:\n",
    "        it += 1\n",
    "        current_grad = gradf(x_prev)\n",
    "        if it != 1:\n",
    "            g = current_grad - prev_grad\n",
    "            if alpha_type == 1:\n",
    "                alpha = g.dot(s) / g.dot(g)\n",
    "            elif alpha_type == 2:\n",
    "                alpha = s.dot(s) / g.dot(s)\n",
    "        if callback:\n",
    "            callback(x_prev)\n",
    "        x_next = x_prev - alpha * current_grad\n",
    "        current_tol = np.linalg.norm(gradf(x_next))\n",
    "        prev_grad = current_grad\n",
    "        s = x_next - x_prev\n",
    "        x_prev = x_next\n",
    "    if callback:\n",
    "        callback(x_prev)\n",
    "    return x_next"
   ]
  },
  {
   "cell_type": "code",
   "execution_count": 5,
   "metadata": {
    "slideshow": {
     "slide_type": "slide"
    }
   },
   "outputs": [],
   "source": [
    "method = {\n",
    "    \"BB 1\": methods.fo.BarzilaiBorweinMethod(f, grad_f, init_alpha=1e-4, type=1),\n",
    "    \"BFGS\": methods.fo.BFGS(f, grad_f),\n",
    "    \"DFP\": methods.fo.DFP(f, grad_f),\n",
    "    \"LBFGS\": methods.fo.LBFGS(f, grad_f),\n",
    "}"
   ]
  },
  {
   "cell_type": "code",
   "execution_count": 6,
   "metadata": {
    "slideshow": {
     "slide_type": "slide"
    }
   },
   "outputs": [
    {
     "name": "stdout",
     "output_type": "stream",
     "text": [
      "\t Method BB 1\n",
      "Required tolerance achieved!\n",
      "Convergence in 10 iterations\n",
      "Function value = -706.5614844110996\n",
      "Norm of gradient = 5.328175680029148e-06\n",
      "\t Method BFGS\n"
     ]
    },
    {
     "name": "stderr",
     "output_type": "stream",
     "text": [
      "/Users/alex/anaconda3/envs/cvxpy/lib/python3.6/site-packages/ipykernel_launcher.py:1: RuntimeWarning: invalid value encountered in log\n",
      "  \"\"\"Entry point for launching an IPython kernel.\n"
     ]
    },
    {
     "name": "stdout",
     "output_type": "stream",
     "text": [
      "Required tolerance achieved!\n",
      "Convergence in 24 iterations\n",
      "Function value = -706.5614844110918\n",
      "Norm of gradient = 6.9521875548439765e-06\n",
      "\t Method DFP\n",
      "Maximum iteration exceeds!\n",
      "Convergence in 100 iterations\n",
      "Function value = -706.5611668380124\n",
      "Norm of gradient = 0.04177523737549572\n",
      "\t Method LBFGS\n",
      "Required tolerance achieved!\n",
      "Convergence in 8 iterations\n",
      "Function value = -706.5614844110968\n",
      "Norm of gradient = 5.687532315325184e-06\n",
      "\t Method BFGS Scipy\n",
      "Result: Optimization terminated successfully.\n",
      "Convergence in 17 iterations\n",
      "Function value = -706.5614844110763\n"
     ]
    }
   ],
   "source": [
    "for m in method:\n",
    "    print(\"\\t Method {}\".format(m))\n",
    "    _ = method[m].solve(x0=x0, tol=tol, max_iter=max_iter, disp=True)\n",
    "\n",
    "print(\"\\t Method BFGS Scipy\")\n",
    "scopt_conv = []\n",
    "scopt_res = scopt.minimize(f, x0, method=\"BFGS\", jac=grad_f, callback=lambda x: scopt_conv.append(x), \n",
    "                           tol=tol, options={\"maxiter\": max_iter})\n",
    "print(\"Result: {}\".format(scopt_res.message))\n",
    "if scopt_res.success:\n",
    "    print(\"Convergence in {} iterations\".format(scopt_res.nit))\n",
    "print(\"Function value = {}\".format(f(scopt_res.x)))"
   ]
  },
  {
   "cell_type": "code",
   "execution_count": 10,
   "metadata": {
    "slideshow": {
     "slide_type": "slide"
    }
   },
   "outputs": [
    {
     "data": {
      "image/png": "[encoded data removed]",
      "text/plain": [
       "<Figure size 576x432 with 1 Axes>"
      ]
     },
     "metadata": {},
     "output_type": "display_data"
    }
   ],
   "source": [
    "plt.figure(figsize=(8, 6))\n",
    "\n",
    "for m in method:\n",
    "    plt.semilogy([np.linalg.norm(grad_f(x)) for x in method[m].get_convergence()], label=m)\n",
    "\n",
    "plt.semilogy([np.linalg.norm(grad_f(x)) for x in [x0] + scopt_conv], label=\"BFGS SciPy\")\n",
    "plt.ylabel(\"$\\|f'(x_k)\\|_2$\", fontsize=18)\n",
    "plt.xlabel(\"Number of iterations, $k$\", fontsize=18)\n",
    "plt.legend(fontsize=18)\n",
    "plt.xticks(fontsize=18)\n",
    "_ = plt.yticks(fontsize=18)"
   ]
  },
  {
   "cell_type": "code",
   "execution_count": 11,
   "metadata": {
    "slideshow": {
     "slide_type": "slide"
    }
   },
   "outputs": [
    {
     "name": "stdout",
     "output_type": "stream",
     "text": [
      "\t Method BB 1\n",
      "6.86 ms ± 680 µs per loop (mean ± std. dev. of 7 runs, 100 loops each)\n",
      "\t Method BFGS\n"
     ]
    },
    {
     "name": "stderr",
     "output_type": "stream",
     "text": [
      "/Users/alex/anaconda3/envs/cvxpy/lib/python3.6/site-packages/ipykernel_launcher.py:1: RuntimeWarning: invalid value encountered in log\n",
      "  \"\"\"Entry point for launching an IPython kernel.\n"
     ]
    },
    {
     "name": "stdout",
     "output_type": "stream",
     "text": [
      "6.34 s ± 483 ms per loop (mean ± std. dev. of 7 runs, 1 loop each)\n",
      "\t Method DFP\n"
     ]
    },
    {
     "name": "stderr",
     "output_type": "stream",
     "text": [
      "/Users/alex/anaconda3/envs/cvxpy/lib/python3.6/site-packages/ipykernel_launcher.py:1: RuntimeWarning: invalid value encountered in log\n",
      "  \"\"\"Entry point for launching an IPython kernel.\n"
     ]
    },
    {
     "name": "stdout",
     "output_type": "stream",
     "text": [
      "12.4 s ± 486 ms per loop (mean ± std. dev. of 7 runs, 1 loop each)\n",
      "\t Method LBFGS\n"
     ]
    },
    {
     "name": "stderr",
     "output_type": "stream",
     "text": [
      "/Users/alex/anaconda3/envs/cvxpy/lib/python3.6/site-packages/ipykernel_launcher.py:1: RuntimeWarning: invalid value encountered in log\n",
      "  \"\"\"Entry point for launching an IPython kernel.\n"
     ]
    },
    {
     "name": "stdout",
     "output_type": "stream",
     "text": [
      "38.9 ms ± 8.17 ms per loop (mean ± std. dev. of 7 runs, 10 loops each)\n",
      "17.6 s ± 642 ms per loop (mean ± std. dev. of 7 runs, 1 loop each)\n"
     ]
    }
   ],
   "source": [
    "for m in method:\n",
    "    print(\"\\t Method {}\".format(m))\n",
    "    %timeit method[m].solve(x0=x0, tol=tol, max_iter=max_iter)\n",
    "\n",
    "%timeit scopt.minimize(f, x0, method=\"BFGS\", jac=grad_f, tol=tol, options={\"maxiter\": max_iter})"
   ]
  },
  {
   "cell_type": "markdown",
   "metadata": {
    "slideshow": {
     "slide_type": "slide"
    }
   },
   "source": [
    "### Плохо обусловленная задача "
   ]
  },
  {
   "cell_type": "code",
   "execution_count": 8,
   "metadata": {
    "slideshow": {
     "slide_type": "slide"
    }
   },
   "outputs": [
    {
     "name": "stdout",
     "output_type": "stream",
     "text": [
      "Condition number = 50.000000000000334\n"
     ]
    }
   ],
   "source": [
    "n = 50\n",
    "D = np.arange(1, n+1)\n",
    "U = np.random.randn(n, n)\n",
    "U, _ = np.linalg.qr(U)\n",
    "A = U.dot(np.diag(D)).dot(U.T)\n",
    "b = np.random.randn(n)\n",
    "eig_vals = np.linalg.eigvals(A)\n",
    "print(\"Condition number = {}\".format(np.max(eig_vals) / np.min(eig_vals)))"
   ]
  },
  {
   "cell_type": "code",
   "execution_count": 9,
   "metadata": {
    "slideshow": {
     "slide_type": "slide"
    }
   },
   "outputs": [],
   "source": [
    "f = lambda x: 0.5 * x.T.dot(A.dot(x)) - b.dot(x)\n",
    "gradf = lambda x: A.dot(x) - b\n",
    "x0 = np.random.randn(n)"
   ]
  },
  {
   "cell_type": "code",
   "execution_count": 21,
   "metadata": {
    "slideshow": {
     "slide_type": "slide"
    }
   },
   "outputs": [],
   "source": [
    "method = {\n",
    "    \"BB 1\": methods.fo.BarzilaiBorweinMethod(f, gradf, init_alpha=1e-4, type=1),\n",
    "    \"BB 2\": methods.fo.BarzilaiBorweinMethod(f, gradf, init_alpha=1e-4, type=2),\n",
    "    \"BFGS\": methods.fo.BFGS(f, gradf),\n",
    "    \"DFP\": methods.fo.DFP(f, gradf),\n",
    "    \"GD\": methods.fo.GradientDescent(f, gradf, ss.ExactLineSearch4Quad(A, b)),\n",
    "    \"LBFGS\": methods.fo.LBFGS(f, gradf, hist_size=10),\n",
    "}"
   ]
  },
  {
   "cell_type": "code",
   "execution_count": 22,
   "metadata": {
    "slideshow": {
     "slide_type": "slide"
    }
   },
   "outputs": [
    {
     "name": "stdout",
     "output_type": "stream",
     "text": [
      "\t Method BB 1\n",
      "Required tolerance achieved!\n",
      "Convergence in 62 iterations\n",
      "Function value = -2.310714124536439\n",
      "Norm of gradient = 5.976552870133477e-06\n",
      "\t Method BB 2\n",
      "Required tolerance achieved!\n",
      "Convergence in 73 iterations\n",
      "Function value = -2.310714124510319\n",
      "Norm of gradient = 7.645687986275001e-06\n",
      "\t Method BFGS\n",
      "Required tolerance achieved!\n",
      "Convergence in 46 iterations\n",
      "Function value = -2.3107141245352274\n",
      "Norm of gradient = 8.228357596394661e-06\n",
      "\t Method DFP\n",
      "Required tolerance achieved!\n",
      "Convergence in 97 iterations\n",
      "Function value = -2.3107141245360507\n",
      "Norm of gradient = 8.385720237398356e-06\n",
      "\t Method GD\n",
      "Maximum iteration exceeds!\n",
      "Convergence in 100 iterations\n",
      "Function value = -2.3101833234570632\n",
      "Norm of gradient = 0.04463472408731432\n",
      "\t Method LBFGS\n",
      "Required tolerance achieved!\n",
      "Convergence in 46 iterations\n",
      "Function value = -2.3107141245355973\n",
      "Norm of gradient = 7.694823416577808e-06\n",
      "\t Method BFGS Scipy\n",
      "Result: Optimization terminated successfully.\n",
      "Convergence in 59 iterations\n",
      "Function value = -2.310714124538122\n"
     ]
    }
   ],
   "source": [
    "for m in method:\n",
    "    print(\"\\t Method {}\".format(m))\n",
    "    _ = method[m].solve(x0=x0, tol=tol, max_iter=max_iter, disp=True)\n",
    "\n",
    "print(\"\\t Method BFGS Scipy\")\n",
    "\n",
    "scopt_conv = []\n",
    "scopt_res = scopt.minimize(f, x0, method=\"BFGS\", jac=gradf, callback=lambda x: scopt_conv.append(x), \n",
    "                           tol=tol, options={\"maxiter\": max_iter})\n",
    "print(\"Result: {}\".format(scopt_res.message))\n",
    "if scopt_res.success:\n",
    "    print(\"Convergence in {} iterations\".format(scopt_res.nit))\n",
    "print(\"Function value = {}\".format(f(scopt_res.x)))"
   ]
  },
  {
   "cell_type": "code",
   "execution_count": 23,
   "metadata": {
    "slideshow": {
     "slide_type": "slide"
    }
   },
   "outputs": [
    {
     "data": {
      "image/png": "[encoded data removed]",
      "text/plain": [
       "<matplotlib.figure.Figure at 0x1031e1fac8>"
      ]
     },
     "metadata": {},
     "output_type": "display_data"
    }
   ],
   "source": [
    "plt.figure(figsize=(12, 8))\n",
    "fontsize = 26\n",
    "for m in method:   \n",
    "    plt.semilogy([np.linalg.norm(gradf(x)) for x in method[m].get_convergence()], label=m)\n",
    "\n",
    "plt.semilogy([np.linalg.norm(gradf(x)) for x in [x0] + scopt_conv], label='BFGS SciPy')\n",
    "plt.legend(fontsize=fontsize)\n",
    "plt.ylabel(\"$\\|f'(x_k)\\|_2$\", fontsize=fontsize)\n",
    "plt.xlabel(\"Number of iterations, $k$\", fontsize=fontsize)\n",
    "plt.xticks(fontsize=fontsize)\n",
    "_ = plt.yticks(fontsize=fontsize)"
   ]
  },
  {
   "cell_type": "markdown",
   "metadata": {
    "slideshow": {
     "slide_type": "slide"
    }
   },
   "source": [
    "## Pro & Contra\n",
    "\n",
    "Pro:\n",
    "1. Вместо **точного** вычисления гессиана используется его **оценка**, полученная с помощью градиента и оценки гессиана в предыдущей точке\n",
    "2. Вместо решения систем линейных уравнений используется текущаю информация о функции и градиенте для аналитического вычисления приближения обращённого гессиана\n",
    "3. Сложность одной итерации $O(n^2) + ...$ по сравнению с $O(n^3) + ...$ в методе Ньютона\n",
    "4. Для метода L-BFGS требуется линейное количество памяти по размерности задачи\n",
    "5. Свойство самокоррекции метода BFGS: если на некоторой итерации обратный гессиан оценен очень грубо, то следующие несколько итераций улучшат оценку\n",
    "6. Сверхлинейная сходимость к решению задачи минимизации $f$ (подробнее см. [[1]](http://www.bioinfo.org.cn/~wangchao/maa/Numerical_Optimization.pdf))\n",
    "\n",
    "Contra:\n",
    "1. Нет универсального рецепта выбора начального приближения $B_0$ или $H_0$\n",
    "2. Нет разработанной теории сходимости и оптимальности\n",
    "3. Не любое условие на линейный поиск шага гарантирует выполнения условия кривизны $y^{\\top}_ks_k > 0$"
   ]
  }
 ],
 "metadata": {
  "celltoolbar": "Slideshow",
  "kernelspec": {
   "display_name": "Python 3 (cvxpy)",
   "language": "python",
   "name": "cvxpy"
  },
  "language_info": {
   "codemirror_mode": {
    "name": "ipython",
    "version": 3
   },
   "file_extension": ".py",
   "mimetype": "text/x-python",
   "name": "python",
   "nbconvert_exporter": "python",
   "pygments_lexer": "ipython3",
   "version": "3.6.8"
  }
 },
 "nbformat": 4,
 "nbformat_minor": 2
}
